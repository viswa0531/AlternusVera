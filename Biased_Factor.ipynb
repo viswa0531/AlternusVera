{
  "nbformat": 4,
  "nbformat_minor": 0,
  "metadata": {
    "kernelspec": {
      "display_name": "Python 3",
      "language": "python",
      "name": "python3"
    },
    "language_info": {
      "codemirror_mode": {
        "name": "ipython",
        "version": 3
      },
      "file_extension": ".py",
      "mimetype": "text/x-python",
      "name": "python",
      "nbconvert_exporter": "python",
      "pygments_lexer": "ipython3",
      "version": "3.7.3"
    },
    "colab": {
      "name": "Biased_Factor.ipynb",
      "provenance": [],
      "include_colab_link": true
    }
  },
  "cells": [
    {
      "cell_type": "markdown",
      "metadata": {
        "id": "view-in-github",
        "colab_type": "text"
      },
      "source": [
        "<a href=\"https://colab.research.google.com/github/viswa0531/AlternusVera/blob/master/Biased_Factor.ipynb\" target=\"_parent\"><img src=\"https://colab.research.google.com/assets/colab-badge.svg\" alt=\"Open In Colab\"/></a>"
      ]
    },
    {
      "cell_type": "markdown",
      "metadata": {
        "id": "vWRY5XKdwYbm",
        "colab_type": "text"
      },
      "source": [
        "# Alternus Vera \n",
        "\n",
        "Course code: **CMPE-257** \n",
        "    \n",
        "Group name : **Drifters**\n",
        "    \n",
        "Name: **Viswanath Singh Kambam (012497524)** \n",
        "\n",
        "Note: During the building of this project, I referred to following GitHub repos:\n",
        "\n",
        "###### https://github.com/aarsanjani/AlternusVera\n",
        "\n",
        "###### https://github.com/hemambujamV/AlternusVera\n",
        "\n",
        "-----\n",
        "\n",
        "GitHub URL: \n",
        "\n",
        "\n",
        "### Liar Liar Pants on Fire Dataset Description \n",
        "- It has 3 files test, training and valid.\n",
        "- Each file has 14 columns\n",
        "    \n",
        "    Column 1: the ID of the statement ([ID].json).\n",
        "    \n",
        "    Column 2: the label.\n",
        "    \n",
        "    Column 3: the statement.\n",
        "    \n",
        "    Column 4: the subject(s).\n",
        "    \n",
        "    Column 5: the speaker.\n",
        "    \n",
        "    Column 6: the speaker's job title.\n",
        "    \n",
        "    Column 7: the state info.\n",
        "    \n",
        "    Column 8: the party affiliation.\n",
        "    \n",
        "    Column 9-13: the total credit history count, including the current statement.\n",
        "    \n",
        "    Column 14: the context (venue / location of the speech or statement).\n",
        "\n",
        "\n",
        "### Process of my approach\n",
        "\n",
        "1. Data Preprocessing\n",
        "2. Visualization\n",
        "3. Lemmatization\n",
        "4. Stemming\n",
        "5. Spell Check\n",
        "6. Dictionary\n",
        "7. LDA\n",
        "8. Doc2Vec\n",
        "9. TF-IDF\n",
        "10. LDA using TF-IDF \n",
        "11. Sentiment analysis \n",
        "12. Rating \n",
        "13. Naive Bayes Classifier\n",
        "14. Data enrichment\n",
        "15. Vectorization \n",
        "\n",
        "### Feature Selection\n",
        "**List top Features Selected based on research articles**\n",
        "\n",
        "1. Sensationalism\n",
        "2. Political Affiliation\n",
        "3. Authenticity\n",
        "4. Biased\n",
        "\n",
        "\n",
        "\n",
        "### Team Contributions example:\n",
        "\n",
        "|Features  |  Member |\n",
        "|-----|-----|\n",
        "| Sensationalism                         |  Paramdeep Saini |  \n",
        "| Political Affiliation                |  Julian Simon | \n",
        "| Authenticity                   |  Rajalakshmi Babu  |   \n",
        "| Biased or Slanted News                             |  Viswanath Singh Kambam |\n",
        "\n",
        " \n",
        "#### Enrichment Dataset Details\n",
        "\n",
        "- SenticNet5 sensational words corpus\n",
        "- Sensational Words Dictionary \n",
        "\n",
        "\n",
        "#### Libraries Used \n",
        "\n",
        "- NLTK \n",
        "- Gensim \n",
        "- Numpy\n",
        "- Pandas\n",
        "- CSV\n",
        "- WordCloud\n",
        "- Seaborn\n",
        "- Scipy\n",
        "- Regualr Expression\n",
        "- Matplotlib\n",
        "- Sklearn \n",
        "\n",
        "\n",
        "#### What did I try and What worked? \n",
        "\n",
        "> Initially I preprocessed the given dataset using NLTK in-build libraries for tokenization, stopwords removal, stemming and lemmentization. Then I decided to visualize the cleaned data using WordCloud. I decided to extract compound features like Sentiment, Sensationalism, role of the speakers etc then performed LDA Topic score and utilized it to classify the news document as fake or not.\n",
        "\n",
        "#### What did not work?\n",
        "\n",
        "> Using Speakers title alone as a feature did not yield a great result. If I analyze the data by taking sentiments into consideration then it gives the better result. The accuracy found by this model seems be at around 54% on average run for different algorithms such as Linear Regression, Random Forest, SVM and Naive Bayes. \n",
        "\n",
        "\n",
        "#### What alternatives did you try?\n",
        "\n",
        "> I used the data enrichment downloaded from Uci-news-aggregator and integrated with LL dataset.\n",
        "Applied Doc2vec algorthim\n",
        "Applied MultinomialNB, Random forest, XGB, SVM etc. The Accuracy level is achieved around 60%. The news is whether real or fake is assessed by taking title of the speaker into account along with 4 factors (such as true, false, bare-truly and barely-false) that are associated with the dataset . \n",
        "Hence Bias factor = 0.63*(prediction from NB)\n",
        "Accuracy has improved as compared to LL after data amlagamation. After new dataset, I got following result where accuracy has increased a very little bit\n",
        "\n",
        "| Algorithim     | Accuracy            | Confusion Matrix    | Classification Report                                 |\n",
        "|----------------:|--------------------:|--------------------:|------------------------------------------------------:|\n",
        "| MultiNB        | 0.60468750          | [[2424 2064]        |               precision    recall  f1-score   support |\n",
        "|                |                     |  [1984 3768]]       |                                                       |\n",
        "|                |                     |                     |            0       0.55      0.54      0.54      4488 |\n",
        "|                |                     |                     |            1       0.65      0.66      0.65      5752 |\n",
        "|                |                     |                     |                                                       |\n",
        "|                |                     |                     |     accuracy                           0.60     10240 |\n",
        "|                |                     |                     |    macro avg       0.60      0.60      0.60     10240 |\n",
        "|                |                     |                     | weighted avg       0.60      0.60      0.60     10240 |\n",
        "|                |                     |                     |                                                       |\n",
        "| -------------- | ------------------- | ------------------- | ---------------------------------------------------   |\n",
        "| DescionTree    | 0.63359375          | [[1260 3228]        |               precision    recall  f1-score   support |\n",
        "|                |                     |  [ 524 5228]]       |                                                       |\n",
        "|                |                     |                     |            0       0.71      0.28      0.40      4488 |\n",
        "|                |                     |                     |            1       0.62      0.91      0.74      5752 |\n",
        "|                |                     |                     |                                                       |\n",
        "|                |                     |                     |     accuracy                           0.63     10240 |\n",
        "|                |                     |                     |    macro avg       0.66      0.59      0.57     10240 |\n",
        "|                |                     |                     | weighted avg       0.66      0.63      0.59     10240 |\n",
        "|                |                     |                     |                                                       |\n",
        "| -------------- | ------------------- | ------------------- | ---------------------------------------------------   |\n",
        "| Random Forest  | 0.63349609          | [[1197 3291]        |               precision    recall  f1-score   support |\n",
        "|                |                     |  [ 462 5290]]       |                                                       |\n",
        "|                |                     |                     |            0       0.72      0.27      0.39      4488 |\n",
        "|                |                     |                     |            1       0.62      0.92      0.74      5752 |\n",
        "|                |                     |                     |                                                       |\n",
        "|                |                     |                     |     accuracy                           0.63     10240 |\n",
        "|                |                     |                     |    macro avg       0.67      0.59      0.56     10240 |\n",
        "|                |                     |                     | weighted avg       0.66      0.63      0.59     10240 |\n",
        "|                |                     |                     |                                                       |\n",
        "| -------------- | ------------------- | ------------------- | ---------------------------------------------------   |\n",
        "| LogR_clf       | 0.61806641          | [[1011 3477]        |               precision    recall  f1-score   support |\n",
        "|                |                     |  [ 434 5318]]       |                                                       |\n",
        "|                |                     |                     |            0       0.70      0.23      0.34      4488 |\n",
        "|                |                     |                     |            1       0.60      0.92      0.73      5752 |\n",
        "|                |                     |                     |                                                       |\n",
        "|                |                     |                     |     accuracy                           0.62     10240 |\n",
        "|                |                     |                     |    macro avg       0.65      0.57      0.54     10240 |\n",
        "|                |                     |                     | weighted avg       0.65      0.62      0.56     10240 |\n",
        "|                |                     |                     |                                                       |\n",
        "| -------------- | ------------------- | ------------------- | ---------------------------------------------------   |\n",
        "| svm_Linear     | 0.62460938          | [[1101 3387]        |               precision    recall  f1-score   support |\n",
        "|                |                     |  [ 457 5295]]       |                                                       |\n",
        "|                |                     |                     |            0       0.71      0.25      0.36      4488 |\n",
        "|                |                     |                     |            1       0.61      0.92      0.73      5752 |\n",
        "|                |                     |                     |                                                       |\n",
        "|                |                     |                     |     accuracy                           0.62     10240 |\n",
        "|                |                     |                     |    macro avg       0.66      0.58      0.55     10240 |\n",
        "|                |                     |                     | weighted avg       0.65      0.62      0.57     10240 |\n",
        "|                |                     |                     |                                                       |\n",
        "| -------------- | ------------------- | ------------------- | ---------------------------------------------------   |\n",
        "| SVM_SGD        | 0.59365234          | [[ 600 3888]        |               precision    recall  f1-score   support |\n",
        "|                |                     |  [ 273 5479]]       |                                                       |\n",
        "|                |                     |                     |            0       0.69      0.13      0.22      4488 |\n",
        "|                |                     |                     |            1       0.58      0.95      0.72      5752 |\n",
        "|                |                     |                     |                                                       |\n",
        "|                |                     |                     |     accuracy                           0.59     10240 |\n",
        "|                |                     |                     |    macro avg       0.64      0.54      0.47     10240 |\n",
        "|                |                     |                     | weighted avg       0.63      0.59      0.51     10240 |\n",
        "|                |                     |                     |                                                       |\n",
        "| -------------- | ------------------- | ------------------- | ---------------------------------------------------   |\n",
        "| xgb_clf        | 0.59599609          | [[ 563 3925]        |               precision    recall  f1-score   support |\n",
        "|                |                     |  [ 212 5540]]       |                                                       |\n",
        "|                |                     |                     |            0       0.73      0.13      0.21      4488 |\n",
        "|                |                     |                     |            1       0.59      0.96      0.73      5752 |\n",
        "|                |                     |                     |                                                       |\n",
        "|                |                     |                     |     accuracy                           0.60     10240 |\n",
        "|                |                     |                     |    macro avg       0.66      0.54      0.47     10240 |\n",
        "|                |                     |                     | weighted avg       0.65      0.60      0.50     10240 |\n",
        "|                |                     |                     |                                                       |\n"
      ]
    },
    {
      "cell_type": "code",
      "metadata": {
        "id": "8GkTlA7-wYbp",
        "colab_type": "code",
        "colab": {}
      },
      "source": [
        "## ignore warnings\n",
        "def warn(*args, **kwargs):\n",
        "    pass\n",
        "import warnings\n",
        "warnings.warn = warn"
      ],
      "execution_count": 0,
      "outputs": []
    },
    {
      "cell_type": "markdown",
      "metadata": {
        "id": "HbMt3fJMwYbw",
        "colab_type": "text"
      },
      "source": [
        "### Data selection and observations"
      ]
    },
    {
      "cell_type": "code",
      "metadata": {
        "id": "2Atcz-4VwYbx",
        "colab_type": "code",
        "colab": {}
      },
      "source": [
        "import numpy as np\n",
        "import pandas as pd\n",
        "import csv\n",
        "import seaborn as sns; sns.set() \n",
        "from sklearn.cluster import KMeans\n",
        "import matplotlib.pyplot as plt\n",
        "from sklearn.metrics import classification_report,confusion_matrix"
      ],
      "execution_count": 0,
      "outputs": []
    },
    {
      "cell_type": "code",
      "metadata": {
        "id": "HyE6R4Sexubd",
        "colab_type": "code",
        "colab": {}
      },
      "source": [
        "from pydrive.auth import GoogleAuth\n",
        "from pydrive.drive import GoogleDrive\n",
        "from google.colab import auth\n",
        "from oauth2client.client import GoogleCredentials\n",
        "# Authenticate and create the PyDrive client.\n",
        "auth.authenticate_user()\n",
        "gauth = GoogleAuth()\n",
        "gauth.credentials = GoogleCredentials.get_application_default()\n",
        "googleDrive = GoogleDrive(gauth)"
      ],
      "execution_count": 0,
      "outputs": []
    },
    {
      "cell_type": "code",
      "metadata": {
        "id": "PcIuclC8xwEj",
        "colab_type": "code",
        "outputId": "39e42406-df30-4863-aa55-46fb612199fb",
        "colab": {
          "base_uri": "https://localhost:8080/",
          "height": 122
        }
      },
      "source": [
        "from google.colab import drive\n",
        "drive.mount('/content/gdrive')"
      ],
      "execution_count": 4,
      "outputs": [
        {
          "output_type": "stream",
          "text": [
            "Go to this URL in a browser: https://accounts.google.com/o/oauth2/auth?client_id=947318989803-6bn6qk8qdgf4n4g3pfee6491hc0brc4i.apps.googleusercontent.com&redirect_uri=urn%3aietf%3awg%3aoauth%3a2.0%3aoob&response_type=code&scope=email%20https%3a%2f%2fwww.googleapis.com%2fauth%2fdocs.test%20https%3a%2f%2fwww.googleapis.com%2fauth%2fdrive%20https%3a%2f%2fwww.googleapis.com%2fauth%2fdrive.photos.readonly%20https%3a%2f%2fwww.googleapis.com%2fauth%2fpeopleapi.readonly\n",
            "\n",
            "Enter your authorization code:\n",
            "··········\n",
            "Mounted at /content/gdrive\n"
          ],
          "name": "stdout"
        }
      ]
    },
    {
      "cell_type": "code",
      "metadata": {
        "id": "8WlIRLBrx8TJ",
        "colab_type": "code",
        "outputId": "e37aa503-af55-4658-cb3f-ce45203955eb",
        "colab": {
          "base_uri": "https://localhost:8080/",
          "height": 34
        }
      },
      "source": [
        "train_link = \"https://drive.google.com/open?id=1uYRl81ky2XUIrENCpmZr3IB_48cEuiWp\"\n",
        "fluff, id1 = train_link.split('=')\n",
        "test_link = \"https://drive.google.com/open?id=1_xQWkwm-ZD0NR824TH_eTyIYzW79uvyZ\"\n",
        "fluff, id2 = test_link.split('=')\n",
        "valid_link = \"https://drive.google.com/open?id=1gaS9R-PQvER5DE1dAgh7z6v4u_euIvrO\"\n",
        "fluff, id3 = valid_link.split('=')\n",
        "train_biases = \"https://drive.google.com/open?id=1Nwn3R1HDMCIj39K6HHyrsO87SkTlak9A\"\n",
        "fluff, id4 = train_biases.split('=')\n",
        "train_bodies = \"https://drive.google.com/open?id=1fo74P-p-zwqDNypVxefc0hch0UX-qdGg\"\n",
        "fluff, id5 = train_bodies.split('=')\n",
        "ucinews = \"https://drive.google.com/open?id=1tz6i1Y45GyubVYzzkBWDRnDZDkG6u8i1\"\n",
        "fluff, id6 = ucinews.split('=')\n",
        "debate = \"https://drive.google.com/open?id=1FHsPLiT2Fh3sxbm0J7cTLEDMBxgL2LBt\"\n",
        "fluff, id7 = debate.split(\"=\")\n",
        "debateFile = \"https://drive.google.com/open?id=1X4Bu8LLRofDxMTICeMBXmJNaOb4r2m02\"\n",
        "fluff, id8 = debateFile.split(\"=\")\n",
        "print (id8) # Verify that you have everything after '='\n"
      ],
      "execution_count": 5,
      "outputs": [
        {
          "output_type": "stream",
          "text": [
            "1X4Bu8LLRofDxMTICeMBXmJNaOb4r2m02\n"
          ],
          "name": "stdout"
        }
      ]
    },
    {
      "cell_type": "markdown",
      "metadata": {
        "id": "8SMIWrBrwYb0",
        "colab_type": "text"
      },
      "source": [
        "### Load the dataset"
      ]
    },
    {
      "cell_type": "code",
      "metadata": {
        "id": "iMr3DKROwYb0",
        "colab_type": "code",
        "colab": {}
      },
      "source": [
        "test_filename = 'test.tsv'\n",
        "train_filename = 'train.tsv'\n",
        "valid_filename = 'valid.tsv'\n",
        "train_bias = 'train_biases.csv'\n",
        "train_body = 'train_bodies.csv'\n",
        "uci_news = 'uci-news-aggregator.csv'\n",
        "debate_news = 'debate.csv'"
      ],
      "execution_count": 0,
      "outputs": []
    },
    {
      "cell_type": "code",
      "metadata": {
        "id": "g3XJBDAoyB0Y",
        "colab_type": "code",
        "colab": {}
      },
      "source": [
        "downloaded = googleDrive.CreateFile({'id':id1}) \n",
        "downloaded.GetContentFile(train_filename)  \n",
        "downloaded = googleDrive.CreateFile({'id':id2}) \n",
        "downloaded.GetContentFile(test_filename)  \n",
        "downloaded = googleDrive.CreateFile({'id':id3}) \n",
        "downloaded.GetContentFile(valid_filename)\n",
        "\n",
        "downloaded = googleDrive.CreateFile({'id':id4}) \n",
        "downloaded.GetContentFile(train_bias)  \n",
        "downloaded = googleDrive.CreateFile({'id':id5}) \n",
        "downloaded.GetContentFile(train_body)  \n",
        "downloaded = googleDrive.CreateFile({'id':id6}) \n",
        "downloaded.GetContentFile(uci_news)\n",
        "downloaded = googleDrive.CreateFile({'id':id8}) \n",
        "downloaded.GetContentFile(debate_news)\n",
        "\n"
      ],
      "execution_count": 0,
      "outputs": []
    },
    {
      "cell_type": "markdown",
      "metadata": {
        "id": "2b-_kyy9wYb3",
        "colab_type": "text"
      },
      "source": [
        "### Define Column names in Dataset"
      ]
    },
    {
      "cell_type": "code",
      "metadata": {
        "id": "oyLnDYuNwYb3",
        "colab_type": "code",
        "colab": {}
      },
      "source": [
        "Colnames = ['Json_Id', 'Label', 'Statement', 'Subject', 'Speaker',\n",
        "           'Speaker\\'sJobTitle', 'StateInfo', 'partyAffiliation',\n",
        "           'BarelyTrueCounts', 'FalseCounts','HalfTrueCounts',\n",
        "           'MostlyTrueCounts','PantsOnFireCounts','Context']\n",
        "#labelcolname = 'Label'\n",
        "titlecolname = 'Speaker\\'sJobTitle'"
      ],
      "execution_count": 0,
      "outputs": []
    },
    {
      "cell_type": "code",
      "metadata": {
        "id": "enifPbtOwYb6",
        "colab_type": "code",
        "colab": {}
      },
      "source": [
        "import matplotlib.pyplot as plt\n",
        "import matplotlib.pyplot as mp\n",
        "##Printing the rod cloud\n",
        "from PIL import Image\n",
        "from wordcloud import WordCloud, STOPWORDS  #install $ pip install wordcloud\n",
        "\n",
        "# Thanks : https://www.kaggle.com/aashita/word-clouds-of-various-shapes ##\n",
        "def plot_wordcloud(text, mask=None, max_words=200, max_font_size=100, figure_size=(12.0,8.0), \n",
        "                   title = None, title_size=20, image_color=False):\n",
        "    stopwords = set(STOPWORDS)\n",
        "    more_stopwords = {'one', 'br', 'Po', 'th', 'sayi', 'fo', 'Unknown'}\n",
        "    stopwords = stopwords.union(more_stopwords)\n",
        "\n",
        "    wordcloud = WordCloud(background_color='white',\n",
        "                    stopwords = stopwords,\n",
        "                    max_words = max_words,\n",
        "                    max_font_size = max_font_size, \n",
        "                    random_state = 42,\n",
        "                    width=800, \n",
        "                    height=400,\n",
        "                    mask = mask)\n",
        "    wordcloud.generate(str(text))\n",
        "    \n",
        "    mp.figure(figsize=figure_size)\n",
        "    if image_color:\n",
        "        image_colors = ImageColorGenerator(mask);\n",
        "        mp.imshow(wordcloud.recolor(color_func=image_colors), interpolation=\"bilinear\");\n",
        "        mp.title(title, fontdict={'size': title_size,  \n",
        "                                  'verticalalignment': 'top'})\n",
        "    else:\n",
        "        mp.imshow(wordcloud);\n",
        "        mp.title(title, fontdict={'size': title_size, 'color': 'black', \n",
        "                                  'verticalalignment': 'bottom'})\n",
        "    mp.axis('off');\n",
        "    mp.tight_layout()  "
      ],
      "execution_count": 0,
      "outputs": []
    },
    {
      "cell_type": "code",
      "metadata": {
        "id": "Sw9UflD2wYb8",
        "colab_type": "code",
        "colab": {}
      },
      "source": [
        "def create_word_cloud(dataframe, colname, title):\n",
        "    plot_wordcloud(dataframe[colname].dropna(),  max_words=300000, max_font_size=300, title=title)"
      ],
      "execution_count": 0,
      "outputs": []
    },
    {
      "cell_type": "markdown",
      "metadata": {
        "id": "Jic87gAYwYb_",
        "colab_type": "text"
      },
      "source": [
        "### Reading the Dataset"
      ]
    },
    {
      "cell_type": "code",
      "metadata": {
        "id": "2Q9G010PwYcA",
        "colab_type": "code",
        "outputId": "ad050376-07fb-4b90-c0cd-936d12e680f9",
        "colab": {
          "base_uri": "https://localhost:8080/",
          "height": 306
        }
      },
      "source": [
        "train_news = pd.read_csv(train_filename, sep='\\t', names = Colnames,error_bad_lines=False)\n",
        "test_news = pd.read_csv(test_filename, sep='\\t', names = Colnames,error_bad_lines=False)\n",
        "valid_news = pd.read_csv(valid_filename, sep='\\t', names = Colnames,error_bad_lines=False)\n",
        "\n",
        "train_news.head()"
      ],
      "execution_count": 11,
      "outputs": [
        {
          "output_type": "execute_result",
          "data": {
            "text/html": [
              "<div>\n",
              "<style scoped>\n",
              "    .dataframe tbody tr th:only-of-type {\n",
              "        vertical-align: middle;\n",
              "    }\n",
              "\n",
              "    .dataframe tbody tr th {\n",
              "        vertical-align: top;\n",
              "    }\n",
              "\n",
              "    .dataframe thead th {\n",
              "        text-align: right;\n",
              "    }\n",
              "</style>\n",
              "<table border=\"1\" class=\"dataframe\">\n",
              "  <thead>\n",
              "    <tr style=\"text-align: right;\">\n",
              "      <th></th>\n",
              "      <th>Json_Id</th>\n",
              "      <th>Label</th>\n",
              "      <th>Statement</th>\n",
              "      <th>Subject</th>\n",
              "      <th>Speaker</th>\n",
              "      <th>Speaker'sJobTitle</th>\n",
              "      <th>StateInfo</th>\n",
              "      <th>partyAffiliation</th>\n",
              "      <th>BarelyTrueCounts</th>\n",
              "      <th>FalseCounts</th>\n",
              "      <th>HalfTrueCounts</th>\n",
              "      <th>MostlyTrueCounts</th>\n",
              "      <th>PantsOnFireCounts</th>\n",
              "      <th>Context</th>\n",
              "    </tr>\n",
              "  </thead>\n",
              "  <tbody>\n",
              "    <tr>\n",
              "      <th>0</th>\n",
              "      <td>2635.json</td>\n",
              "      <td>false</td>\n",
              "      <td>Says the Annies List political group supports ...</td>\n",
              "      <td>abortion</td>\n",
              "      <td>dwayne-bohac</td>\n",
              "      <td>State representative</td>\n",
              "      <td>Texas</td>\n",
              "      <td>republican</td>\n",
              "      <td>0.0</td>\n",
              "      <td>1.0</td>\n",
              "      <td>0.0</td>\n",
              "      <td>0.0</td>\n",
              "      <td>0.0</td>\n",
              "      <td>a mailer</td>\n",
              "    </tr>\n",
              "    <tr>\n",
              "      <th>1</th>\n",
              "      <td>10540.json</td>\n",
              "      <td>half-true</td>\n",
              "      <td>When did the decline of coal start? It started...</td>\n",
              "      <td>energy,history,job-accomplishments</td>\n",
              "      <td>scott-surovell</td>\n",
              "      <td>State delegate</td>\n",
              "      <td>Virginia</td>\n",
              "      <td>democrat</td>\n",
              "      <td>0.0</td>\n",
              "      <td>0.0</td>\n",
              "      <td>1.0</td>\n",
              "      <td>1.0</td>\n",
              "      <td>0.0</td>\n",
              "      <td>a floor speech.</td>\n",
              "    </tr>\n",
              "    <tr>\n",
              "      <th>2</th>\n",
              "      <td>324.json</td>\n",
              "      <td>mostly-true</td>\n",
              "      <td>Hillary Clinton agrees with John McCain \"by vo...</td>\n",
              "      <td>foreign-policy</td>\n",
              "      <td>barack-obama</td>\n",
              "      <td>President</td>\n",
              "      <td>Illinois</td>\n",
              "      <td>democrat</td>\n",
              "      <td>70.0</td>\n",
              "      <td>71.0</td>\n",
              "      <td>160.0</td>\n",
              "      <td>163.0</td>\n",
              "      <td>9.0</td>\n",
              "      <td>Denver</td>\n",
              "    </tr>\n",
              "    <tr>\n",
              "      <th>3</th>\n",
              "      <td>1123.json</td>\n",
              "      <td>false</td>\n",
              "      <td>Health care reform legislation is likely to ma...</td>\n",
              "      <td>health-care</td>\n",
              "      <td>blog-posting</td>\n",
              "      <td>NaN</td>\n",
              "      <td>NaN</td>\n",
              "      <td>none</td>\n",
              "      <td>7.0</td>\n",
              "      <td>19.0</td>\n",
              "      <td>3.0</td>\n",
              "      <td>5.0</td>\n",
              "      <td>44.0</td>\n",
              "      <td>a news release</td>\n",
              "    </tr>\n",
              "    <tr>\n",
              "      <th>4</th>\n",
              "      <td>9028.json</td>\n",
              "      <td>half-true</td>\n",
              "      <td>The economic turnaround started at the end of ...</td>\n",
              "      <td>economy,jobs</td>\n",
              "      <td>charlie-crist</td>\n",
              "      <td>NaN</td>\n",
              "      <td>Florida</td>\n",
              "      <td>democrat</td>\n",
              "      <td>15.0</td>\n",
              "      <td>9.0</td>\n",
              "      <td>20.0</td>\n",
              "      <td>19.0</td>\n",
              "      <td>2.0</td>\n",
              "      <td>an interview on CNN</td>\n",
              "    </tr>\n",
              "  </tbody>\n",
              "</table>\n",
              "</div>"
            ],
            "text/plain": [
              "      Json_Id        Label  ... PantsOnFireCounts              Context\n",
              "0   2635.json        false  ...               0.0             a mailer\n",
              "1  10540.json    half-true  ...               0.0      a floor speech.\n",
              "2    324.json  mostly-true  ...               9.0               Denver\n",
              "3   1123.json        false  ...              44.0       a news release\n",
              "4   9028.json    half-true  ...               2.0  an interview on CNN\n",
              "\n",
              "[5 rows x 14 columns]"
            ]
          },
          "metadata": {
            "tags": []
          },
          "execution_count": 11
        }
      ]
    },
    {
      "cell_type": "markdown",
      "metadata": {
        "id": "uvpDoFhCwYcD",
        "colab_type": "text"
      },
      "source": [
        "### Simplifying the label contents"
      ]
    },
    {
      "cell_type": "code",
      "metadata": {
        "id": "VxZkul5DwYcE",
        "colab_type": "code",
        "outputId": "14bb4676-cc0b-4e65-e2aa-a1b9fdbbf1fb",
        "colab": {
          "base_uri": "https://localhost:8080/",
          "height": 0
        }
      },
      "source": [
        "true_labels = ['original','true','mostly-true','half-true']\n",
        "false_labels = ['barely-true','false','pants-fire']\n",
        "def simplify_label(input_label):\n",
        "    if input_label in true_labels:\n",
        "        return 1\n",
        "    else:\n",
        "        return 0\n",
        "labelcolname = 'Encoded_Label'\n",
        "\n",
        "train_news[labelcolname] = train_news.apply(lambda row: simplify_label(row['Label']), axis=1)\n",
        "test_news[labelcolname] = test_news.apply(lambda row: simplify_label(row['Label']), axis=1)\n",
        "valid_news[labelcolname] = valid_news.apply(lambda row: simplify_label(row['Label']), axis=1)\n",
        "train_news.head()"
      ],
      "execution_count": 12,
      "outputs": [
        {
          "output_type": "execute_result",
          "data": {
            "text/html": [
              "<div>\n",
              "<style scoped>\n",
              "    .dataframe tbody tr th:only-of-type {\n",
              "        vertical-align: middle;\n",
              "    }\n",
              "\n",
              "    .dataframe tbody tr th {\n",
              "        vertical-align: top;\n",
              "    }\n",
              "\n",
              "    .dataframe thead th {\n",
              "        text-align: right;\n",
              "    }\n",
              "</style>\n",
              "<table border=\"1\" class=\"dataframe\">\n",
              "  <thead>\n",
              "    <tr style=\"text-align: right;\">\n",
              "      <th></th>\n",
              "      <th>Json_Id</th>\n",
              "      <th>Label</th>\n",
              "      <th>Statement</th>\n",
              "      <th>Subject</th>\n",
              "      <th>Speaker</th>\n",
              "      <th>Speaker'sJobTitle</th>\n",
              "      <th>StateInfo</th>\n",
              "      <th>partyAffiliation</th>\n",
              "      <th>BarelyTrueCounts</th>\n",
              "      <th>FalseCounts</th>\n",
              "      <th>HalfTrueCounts</th>\n",
              "      <th>MostlyTrueCounts</th>\n",
              "      <th>PantsOnFireCounts</th>\n",
              "      <th>Context</th>\n",
              "      <th>Encoded_Label</th>\n",
              "    </tr>\n",
              "  </thead>\n",
              "  <tbody>\n",
              "    <tr>\n",
              "      <th>0</th>\n",
              "      <td>2635.json</td>\n",
              "      <td>false</td>\n",
              "      <td>Says the Annies List political group supports ...</td>\n",
              "      <td>abortion</td>\n",
              "      <td>dwayne-bohac</td>\n",
              "      <td>State representative</td>\n",
              "      <td>Texas</td>\n",
              "      <td>republican</td>\n",
              "      <td>0.0</td>\n",
              "      <td>1.0</td>\n",
              "      <td>0.0</td>\n",
              "      <td>0.0</td>\n",
              "      <td>0.0</td>\n",
              "      <td>a mailer</td>\n",
              "      <td>0</td>\n",
              "    </tr>\n",
              "    <tr>\n",
              "      <th>1</th>\n",
              "      <td>10540.json</td>\n",
              "      <td>half-true</td>\n",
              "      <td>When did the decline of coal start? It started...</td>\n",
              "      <td>energy,history,job-accomplishments</td>\n",
              "      <td>scott-surovell</td>\n",
              "      <td>State delegate</td>\n",
              "      <td>Virginia</td>\n",
              "      <td>democrat</td>\n",
              "      <td>0.0</td>\n",
              "      <td>0.0</td>\n",
              "      <td>1.0</td>\n",
              "      <td>1.0</td>\n",
              "      <td>0.0</td>\n",
              "      <td>a floor speech.</td>\n",
              "      <td>1</td>\n",
              "    </tr>\n",
              "    <tr>\n",
              "      <th>2</th>\n",
              "      <td>324.json</td>\n",
              "      <td>mostly-true</td>\n",
              "      <td>Hillary Clinton agrees with John McCain \"by vo...</td>\n",
              "      <td>foreign-policy</td>\n",
              "      <td>barack-obama</td>\n",
              "      <td>President</td>\n",
              "      <td>Illinois</td>\n",
              "      <td>democrat</td>\n",
              "      <td>70.0</td>\n",
              "      <td>71.0</td>\n",
              "      <td>160.0</td>\n",
              "      <td>163.0</td>\n",
              "      <td>9.0</td>\n",
              "      <td>Denver</td>\n",
              "      <td>1</td>\n",
              "    </tr>\n",
              "    <tr>\n",
              "      <th>3</th>\n",
              "      <td>1123.json</td>\n",
              "      <td>false</td>\n",
              "      <td>Health care reform legislation is likely to ma...</td>\n",
              "      <td>health-care</td>\n",
              "      <td>blog-posting</td>\n",
              "      <td>NaN</td>\n",
              "      <td>NaN</td>\n",
              "      <td>none</td>\n",
              "      <td>7.0</td>\n",
              "      <td>19.0</td>\n",
              "      <td>3.0</td>\n",
              "      <td>5.0</td>\n",
              "      <td>44.0</td>\n",
              "      <td>a news release</td>\n",
              "      <td>0</td>\n",
              "    </tr>\n",
              "    <tr>\n",
              "      <th>4</th>\n",
              "      <td>9028.json</td>\n",
              "      <td>half-true</td>\n",
              "      <td>The economic turnaround started at the end of ...</td>\n",
              "      <td>economy,jobs</td>\n",
              "      <td>charlie-crist</td>\n",
              "      <td>NaN</td>\n",
              "      <td>Florida</td>\n",
              "      <td>democrat</td>\n",
              "      <td>15.0</td>\n",
              "      <td>9.0</td>\n",
              "      <td>20.0</td>\n",
              "      <td>19.0</td>\n",
              "      <td>2.0</td>\n",
              "      <td>an interview on CNN</td>\n",
              "      <td>1</td>\n",
              "    </tr>\n",
              "  </tbody>\n",
              "</table>\n",
              "</div>"
            ],
            "text/plain": [
              "      Json_Id        Label  ...              Context Encoded_Label\n",
              "0   2635.json        false  ...             a mailer             0\n",
              "1  10540.json    half-true  ...      a floor speech.             1\n",
              "2    324.json  mostly-true  ...               Denver             1\n",
              "3   1123.json        false  ...       a news release             0\n",
              "4   9028.json    half-true  ...  an interview on CNN             1\n",
              "\n",
              "[5 rows x 15 columns]"
            ]
          },
          "metadata": {
            "tags": []
          },
          "execution_count": 12
        }
      ]
    },
    {
      "cell_type": "markdown",
      "metadata": {
        "id": "LnCOWTaqwYcH",
        "colab_type": "text"
      },
      "source": [
        "## Data Preprocessing\n",
        "We will perform the following steps:\n",
        "\n",
        "* All stopwords are removed.\n",
        "* Words that have fewer than 3 characters are removed.\n",
        "* Words are lemmatized — words in third person are changed to first person and verbs in past and future tenses are changed into present.\n",
        "* Words are stemmed — words are reduced to their root form.\n",
        "* Tokenization: Split the text into sentences and the sentences into words. Lowercase the words and remove punctuation."
      ]
    },
    {
      "cell_type": "code",
      "metadata": {
        "id": "PhtK00ctwYcI",
        "colab_type": "code",
        "outputId": "2873493e-2735-4b29-e38f-ff00df28da3b",
        "colab": {
          "base_uri": "https://localhost:8080/",
          "height": 85
        }
      },
      "source": [
        "import string\n",
        "import gensim\n",
        "from gensim.utils import simple_preprocess\n",
        "from gensim.parsing.preprocessing import STOPWORDS\n",
        "from nltk.corpus import stopwords\n",
        "from nltk.stem import WordNetLemmatizer, SnowballStemmer\n",
        "from nltk.stem.porter import *\n",
        "import numpy as np\n",
        "np.random.seed(2018)\n",
        "import nltk\n",
        "nltk.download('wordnet')\n",
        "nltk.download('stopwords')\n",
        "stemmer = SnowballStemmer('english')"
      ],
      "execution_count": 13,
      "outputs": [
        {
          "output_type": "stream",
          "text": [
            "[nltk_data] Downloading package wordnet to /root/nltk_data...\n",
            "[nltk_data]   Unzipping corpora/wordnet.zip.\n",
            "[nltk_data] Downloading package stopwords to /root/nltk_data...\n",
            "[nltk_data]   Unzipping corpora/stopwords.zip.\n"
          ],
          "name": "stdout"
        }
      ]
    },
    {
      "cell_type": "markdown",
      "metadata": {
        "id": "i2WW4fUdwYcL",
        "colab_type": "text"
      },
      "source": [
        "### Remove Stopwords and shortwords using nltk stopwords"
      ]
    },
    {
      "cell_type": "code",
      "metadata": {
        "id": "2wA2hsJUwYcL",
        "colab_type": "code",
        "colab": {}
      },
      "source": [
        "sw = stopwords.words('english')\n",
        "#Remove stop words\n",
        "def remove_stop_and_short_words(text):\n",
        "    text = [word.lower() for word in text.split() if (word.lower() not in sw) and (len(word)>3)]\n",
        "    return \" \".join(text)\n",
        "\n",
        "def remove_stop_and_short_words_new(text):\n",
        "    result = []\n",
        "    for token in gensim.utils.simple_preprocess(text):\n",
        "        if token not in gensim.parsing.preprocessing.STOPWORDS and len(token) > 3:\n",
        "            result.append(lemmatize_stemming(token))\n",
        "    return \" \".join(result)"
      ],
      "execution_count": 0,
      "outputs": []
    },
    {
      "cell_type": "markdown",
      "metadata": {
        "id": "McP9DIVzwYcP",
        "colab_type": "text"
      },
      "source": [
        "### Perform lemmatization and Stemming process using WordNetLemmatizer"
      ]
    },
    {
      "cell_type": "code",
      "metadata": {
        "id": "skl2JMfhwYcQ",
        "colab_type": "code",
        "colab": {}
      },
      "source": [
        "def lemmatize_stemming(text):\n",
        "    return stemmer.stem(WordNetLemmatizer().lemmatize(text, pos='v'))\n",
        "\n",
        "#Removes punctuations from text data\n",
        "def remove_punctuation(text):\n",
        "    translator = str.maketrans('', '', string.punctuation)\n",
        "    return text.translate(translator)"
      ],
      "execution_count": 0,
      "outputs": []
    },
    {
      "cell_type": "markdown",
      "metadata": {
        "id": "VxR9aOAZwYcS",
        "colab_type": "text"
      },
      "source": [
        "### Preprocess text function"
      ]
    },
    {
      "cell_type": "code",
      "metadata": {
        "id": "EgRssGEwwYcS",
        "colab_type": "code",
        "colab": {}
      },
      "source": [
        "def process_data(text):\n",
        "    text = remove_stop_and_short_words_new(text)\n",
        "    text = lemmatize_stemming(text)\n",
        "    text = remove_punctuation(text)\n",
        "    return text\n",
        "\n",
        "def preprocess(text):\n",
        "    #result =[]\n",
        "    #result.append(process_data(text).split())\n",
        "    return process_data(text).split()"
      ],
      "execution_count": 0,
      "outputs": []
    },
    {
      "cell_type": "markdown",
      "metadata": {
        "id": "LtGabiBVwYcU",
        "colab_type": "text"
      },
      "source": [
        "### Just testing the preprocess "
      ]
    },
    {
      "cell_type": "code",
      "metadata": {
        "id": "MvRixaXMwYcV",
        "colab_type": "code",
        "outputId": "03a451ee-fd7d-443f-9be7-70a2f157cd71",
        "colab": {
          "base_uri": "https://localhost:8080/",
          "height": 0
        }
      },
      "source": [
        "print (process_data(train_news['Statement'][0]))\n",
        "#process_data(train_news['Statement'][4])\n",
        "preprocess(train_news['Statement'][4])"
      ],
      "execution_count": 17,
      "outputs": [
        {
          "output_type": "stream",
          "text": [
            "say anni list polit group support trimest abort demand\n"
          ],
          "name": "stdout"
        },
        {
          "output_type": "execute_result",
          "data": {
            "text/plain": [
              "['econom', 'turnaround', 'start', 'term']"
            ]
          },
          "metadata": {
            "tags": []
          },
          "execution_count": 17
        }
      ]
    },
    {
      "cell_type": "code",
      "metadata": {
        "id": "QHEc_LLOwYcX",
        "colab_type": "code",
        "outputId": "99f1680b-c448-44c6-e702-8c0a89fbd710",
        "colab": {
          "base_uri": "https://localhost:8080/",
          "height": 0
        }
      },
      "source": [
        "processedheadlinecolname = 'processed_Statement'\n",
        "\n",
        "train_news['index'] = train_news.index\n",
        "train_news[processedheadlinecolname] = train_news.apply(lambda row: process_data(row['Statement']), axis=1)\n",
        "train_news.head()\n",
        "\n",
        "test_news['index'] = test_news.index\n",
        "test_news[processedheadlinecolname] = test_news.apply(lambda row: process_data(row['Statement']), axis=1)\n",
        "test_news.head()\n",
        "\n",
        "valid_news['index'] = valid_news.index\n",
        "valid_news[processedheadlinecolname] = valid_news.apply(lambda row: process_data(row['Statement']), axis=1)\n",
        "valid_news.head()"
      ],
      "execution_count": 18,
      "outputs": [
        {
          "output_type": "execute_result",
          "data": {
            "text/html": [
              "<div>\n",
              "<style scoped>\n",
              "    .dataframe tbody tr th:only-of-type {\n",
              "        vertical-align: middle;\n",
              "    }\n",
              "\n",
              "    .dataframe tbody tr th {\n",
              "        vertical-align: top;\n",
              "    }\n",
              "\n",
              "    .dataframe thead th {\n",
              "        text-align: right;\n",
              "    }\n",
              "</style>\n",
              "<table border=\"1\" class=\"dataframe\">\n",
              "  <thead>\n",
              "    <tr style=\"text-align: right;\">\n",
              "      <th></th>\n",
              "      <th>Json_Id</th>\n",
              "      <th>Label</th>\n",
              "      <th>Statement</th>\n",
              "      <th>Subject</th>\n",
              "      <th>Speaker</th>\n",
              "      <th>Speaker'sJobTitle</th>\n",
              "      <th>StateInfo</th>\n",
              "      <th>partyAffiliation</th>\n",
              "      <th>BarelyTrueCounts</th>\n",
              "      <th>FalseCounts</th>\n",
              "      <th>HalfTrueCounts</th>\n",
              "      <th>MostlyTrueCounts</th>\n",
              "      <th>PantsOnFireCounts</th>\n",
              "      <th>Context</th>\n",
              "      <th>Encoded_Label</th>\n",
              "      <th>index</th>\n",
              "      <th>processed_Statement</th>\n",
              "    </tr>\n",
              "  </thead>\n",
              "  <tbody>\n",
              "    <tr>\n",
              "      <th>0</th>\n",
              "      <td>12134.json</td>\n",
              "      <td>barely-true</td>\n",
              "      <td>We have less Americans working now than in the...</td>\n",
              "      <td>economy,jobs</td>\n",
              "      <td>vicky-hartzler</td>\n",
              "      <td>U.S. Representative</td>\n",
              "      <td>Missouri</td>\n",
              "      <td>republican</td>\n",
              "      <td>1</td>\n",
              "      <td>0</td>\n",
              "      <td>1</td>\n",
              "      <td>0</td>\n",
              "      <td>0</td>\n",
              "      <td>an interview with ABC17 News</td>\n",
              "      <td>0</td>\n",
              "      <td>0</td>\n",
              "      <td>american work</td>\n",
              "    </tr>\n",
              "    <tr>\n",
              "      <th>1</th>\n",
              "      <td>238.json</td>\n",
              "      <td>pants-fire</td>\n",
              "      <td>When Obama was sworn into office, he DID NOT u...</td>\n",
              "      <td>obama-birth-certificate,religion</td>\n",
              "      <td>chain-email</td>\n",
              "      <td>NaN</td>\n",
              "      <td>NaN</td>\n",
              "      <td>none</td>\n",
              "      <td>11</td>\n",
              "      <td>43</td>\n",
              "      <td>8</td>\n",
              "      <td>5</td>\n",
              "      <td>105</td>\n",
              "      <td>NaN</td>\n",
              "      <td>0</td>\n",
              "      <td>1</td>\n",
              "      <td>obama swear offic holi bibl instead kuran equi...</td>\n",
              "    </tr>\n",
              "    <tr>\n",
              "      <th>2</th>\n",
              "      <td>7891.json</td>\n",
              "      <td>false</td>\n",
              "      <td>Says Having organizations parading as being so...</td>\n",
              "      <td>campaign-finance,congress,taxes</td>\n",
              "      <td>earl-blumenauer</td>\n",
              "      <td>U.S. representative</td>\n",
              "      <td>Oregon</td>\n",
              "      <td>democrat</td>\n",
              "      <td>0</td>\n",
              "      <td>1</td>\n",
              "      <td>1</td>\n",
              "      <td>1</td>\n",
              "      <td>0</td>\n",
              "      <td>a U.S. Ways and Means hearing</td>\n",
              "      <td>0</td>\n",
              "      <td>2</td>\n",
              "      <td>say have organ parad social welfar organ invol...</td>\n",
              "    </tr>\n",
              "    <tr>\n",
              "      <th>3</th>\n",
              "      <td>8169.json</td>\n",
              "      <td>half-true</td>\n",
              "      <td>Says nearly half of Oregons children are poor.</td>\n",
              "      <td>poverty</td>\n",
              "      <td>jim-francesconi</td>\n",
              "      <td>Member of the State Board of Higher Education</td>\n",
              "      <td>Oregon</td>\n",
              "      <td>none</td>\n",
              "      <td>0</td>\n",
              "      <td>1</td>\n",
              "      <td>1</td>\n",
              "      <td>1</td>\n",
              "      <td>0</td>\n",
              "      <td>an opinion article</td>\n",
              "      <td>1</td>\n",
              "      <td>3</td>\n",
              "      <td>say near half oregon children poor</td>\n",
              "    </tr>\n",
              "    <tr>\n",
              "      <th>4</th>\n",
              "      <td>929.json</td>\n",
              "      <td>half-true</td>\n",
              "      <td>On attacks by Republicans that various program...</td>\n",
              "      <td>economy,stimulus</td>\n",
              "      <td>barack-obama</td>\n",
              "      <td>President</td>\n",
              "      <td>Illinois</td>\n",
              "      <td>democrat</td>\n",
              "      <td>70</td>\n",
              "      <td>71</td>\n",
              "      <td>160</td>\n",
              "      <td>163</td>\n",
              "      <td>9</td>\n",
              "      <td>interview with CBS News</td>\n",
              "      <td>1</td>\n",
              "      <td>4</td>\n",
              "      <td>attack republican program econom stimulus plan...</td>\n",
              "    </tr>\n",
              "  </tbody>\n",
              "</table>\n",
              "</div>"
            ],
            "text/plain": [
              "      Json_Id  ...                                processed_Statement\n",
              "0  12134.json  ...                                      american work\n",
              "1    238.json  ...  obama swear offic holi bibl instead kuran equi...\n",
              "2   7891.json  ...  say have organ parad social welfar organ invol...\n",
              "3   8169.json  ...                 say near half oregon children poor\n",
              "4    929.json  ...  attack republican program econom stimulus plan...\n",
              "\n",
              "[5 rows x 17 columns]"
            ]
          },
          "metadata": {
            "tags": []
          },
          "execution_count": 18
        }
      ]
    },
    {
      "cell_type": "markdown",
      "metadata": {
        "id": "auwjrKnqwYca",
        "colab_type": "text"
      },
      "source": [
        "### Displaying the Speaker's Job Title data in different format using WordCloud\n",
        "This gives us the better display of the contents of column "
      ]
    },
    {
      "cell_type": "code",
      "metadata": {
        "id": "e6jiA6PDwYca",
        "colab_type": "code",
        "outputId": "9f8c6a3a-2bd3-446c-f278-6be76996964a",
        "colab": {
          "base_uri": "https://localhost:8080/",
          "height": 0
        }
      },
      "source": [
        "create_word_cloud(train_news,'Speaker\\'sJobTitle','WordCloud for Speaker\\'s Job Title against Train')"
      ],
      "execution_count": 19,
      "outputs": [
        {
          "output_type": "display_data",
          "data": {
            "image/png": "[encoded data removed]",
            "text/plain": [
              "<Figure size 864x576 with 1 Axes>"
            ]
          },
          "metadata": {
            "tags": []
          }
        }
      ]
    },
    {
      "cell_type": "code",
      "metadata": {
        "id": "XjBt6UFIwYcd",
        "colab_type": "code",
        "outputId": "789b5f74-a573-499b-e1ce-94dda3b2db50",
        "colab": {
          "base_uri": "https://localhost:8080/",
          "height": 0
        }
      },
      "source": [
        "create_word_cloud(test_news,'Speaker\\'sJobTitle','WordCloud for Speaker\\'s Job Title against Test')"
      ],
      "execution_count": 20,
      "outputs": [
        {
          "output_type": "display_data",
          "data": {
            "image/png": "[encoded data removed]",
            "text/plain": [
              "<Figure size 864x576 with 1 Axes>"
            ]
          },
          "metadata": {
            "tags": []
          }
        }
      ]
    },
    {
      "cell_type": "code",
      "metadata": {
        "id": "kS1KH2A_wYcg",
        "colab_type": "code",
        "outputId": "811438a7-e35f-4e15-9262-36a47e1dbf30",
        "colab": {
          "base_uri": "https://localhost:8080/",
          "height": 0
        }
      },
      "source": [
        "create_word_cloud(valid_news,'Speaker\\'sJobTitle','WordCloud for Speaker\\'s Job Title against Valid')"
      ],
      "execution_count": 21,
      "outputs": [
        {
          "output_type": "display_data",
          "data": {
            "image/png": "[encoded data removed]",
            "text/plain": [
              "<Figure size 864x576 with 1 Axes>"
            ]
          },
          "metadata": {
            "tags": []
          }
        }
      ]
    },
    {
      "cell_type": "code",
      "metadata": {
        "id": "7C2ktGuiwYcm",
        "colab_type": "code",
        "colab": {}
      },
      "source": [
        "train_news.to_csv(\"/content/gdrive/My Drive/Drifters/Dataset/Drifters_BiasedOrSlanted/Enriched_data/train_cleantext.csv\", sep=',')\n",
        "test_news.to_csv(\"/content/gdrive/My Drive/Drifters/Dataset/Drifters_BiasedOrSlanted/Enriched_data/test_cleantext.csv\", sep=',')\n",
        "valid_news.to_csv(\"/content/gdrive/My Drive/Drifters/Dataset/Drifters_BiasedOrSlanted/Enriched_data/valid_cleantext.csv\", sep=',')"
      ],
      "execution_count": 0,
      "outputs": []
    },
    {
      "cell_type": "markdown",
      "metadata": {
        "id": "cAnOyq3UwYcs",
        "colab_type": "text"
      },
      "source": [
        "### Column choosed for Biased Factor\n",
        "\n",
        "chose Speakers job title as a parameter to find information that how much job title can affect the label values.For example if the Job title is Senaotor, then the graph between speakers job title vs label verifies whether speaker is saying the truth or not"
      ]
    },
    {
      "cell_type": "code",
      "metadata": {
        "id": "zwFJ3cZjwYcv",
        "colab_type": "code",
        "colab": {}
      },
      "source": [
        "#X_train=train_news[\"Speaker'sJobTitle\"]\n",
        "#Y_train=train_news[\"Label\"]\n",
        "X_train=train_news[titlecolname]\n",
        "Y_train = train_news[labelcolname]"
      ],
      "execution_count": 0,
      "outputs": []
    },
    {
      "cell_type": "code",
      "metadata": {
        "id": "qIXRnj--iWKt",
        "colab_type": "code",
        "outputId": "8f80e3b3-e385-43ac-e593-ef28ea6ecde5",
        "colab": {
          "base_uri": "https://localhost:8080/",
          "height": 0
        }
      },
      "source": [
        "X_train\n"
      ],
      "execution_count": 24,
      "outputs": [
        {
          "output_type": "execute_result",
          "data": {
            "text/plain": [
              "0                                 State representative\n",
              "1                                       State delegate\n",
              "2                                            President\n",
              "3                                                  NaN\n",
              "4                                                  NaN\n",
              "                             ...                      \n",
              "10235                                              NaN\n",
              "10236                                              NaN\n",
              "10237                                              NaN\n",
              "10238                                              NaN\n",
              "10239    chairman of the Republican National Committee\n",
              "Name: Speaker'sJobTitle, Length: 10240, dtype: object"
            ]
          },
          "metadata": {
            "tags": []
          },
          "execution_count": 24
        }
      ]
    },
    {
      "cell_type": "markdown",
      "metadata": {
        "id": "e11_I7mRwYcz",
        "colab_type": "text"
      },
      "source": [
        "#### Exploring data through cross tabulation"
      ]
    },
    {
      "cell_type": "code",
      "metadata": {
        "id": "AywRpFs7wYc0",
        "colab_type": "code",
        "colab": {}
      },
      "source": [
        "CrossTab = pd.crosstab(X_train,Y_train,margins=True)"
      ],
      "execution_count": 0,
      "outputs": []
    },
    {
      "cell_type": "code",
      "metadata": {
        "id": "mSK6YyKiwYc6",
        "colab_type": "code",
        "outputId": "17b46036-b0d5-4fd6-c3d0-c8100d6e3bca",
        "colab": {
          "base_uri": "https://localhost:8080/",
          "height": 0
        }
      },
      "source": [
        "CrossTab.sort_values('All', ascending=False)"
      ],
      "execution_count": 26,
      "outputs": [
        {
          "output_type": "execute_result",
          "data": {
            "text/html": [
              "<div>\n",
              "<style scoped>\n",
              "    .dataframe tbody tr th:only-of-type {\n",
              "        vertical-align: middle;\n",
              "    }\n",
              "\n",
              "    .dataframe tbody tr th {\n",
              "        vertical-align: top;\n",
              "    }\n",
              "\n",
              "    .dataframe thead th {\n",
              "        text-align: right;\n",
              "    }\n",
              "</style>\n",
              "<table border=\"1\" class=\"dataframe\">\n",
              "  <thead>\n",
              "    <tr style=\"text-align: right;\">\n",
              "      <th>Encoded_Label</th>\n",
              "      <th>0</th>\n",
              "      <th>1</th>\n",
              "      <th>All</th>\n",
              "    </tr>\n",
              "    <tr>\n",
              "      <th>Speaker'sJobTitle</th>\n",
              "      <th></th>\n",
              "      <th></th>\n",
              "      <th></th>\n",
              "    </tr>\n",
              "  </thead>\n",
              "  <tbody>\n",
              "    <tr>\n",
              "      <th>All</th>\n",
              "      <td>3079</td>\n",
              "      <td>4264</td>\n",
              "      <td>7343</td>\n",
              "    </tr>\n",
              "    <tr>\n",
              "      <th>President</th>\n",
              "      <td>132</td>\n",
              "      <td>360</td>\n",
              "      <td>492</td>\n",
              "    </tr>\n",
              "    <tr>\n",
              "      <th>U.S. Senator</th>\n",
              "      <td>144</td>\n",
              "      <td>335</td>\n",
              "      <td>479</td>\n",
              "    </tr>\n",
              "    <tr>\n",
              "      <th>Governor</th>\n",
              "      <td>174</td>\n",
              "      <td>217</td>\n",
              "      <td>391</td>\n",
              "    </tr>\n",
              "    <tr>\n",
              "      <th>President-Elect</th>\n",
              "      <td>201</td>\n",
              "      <td>72</td>\n",
              "      <td>273</td>\n",
              "    </tr>\n",
              "    <tr>\n",
              "      <th>...</th>\n",
              "      <td>...</td>\n",
              "      <td>...</td>\n",
              "      <td>...</td>\n",
              "    </tr>\n",
              "    <tr>\n",
              "      <th>Director, Sustainable Water Infrastructure Program, Ceres</th>\n",
              "      <td>0</td>\n",
              "      <td>1</td>\n",
              "      <td>1</td>\n",
              "    </tr>\n",
              "    <tr>\n",
              "      <th>Director, Georgia C.A.R.E.</th>\n",
              "      <td>1</td>\n",
              "      <td>0</td>\n",
              "      <td>1</td>\n",
              "    </tr>\n",
              "    <tr>\n",
              "      <th>President, Milwaukee Bucks</th>\n",
              "      <td>1</td>\n",
              "      <td>0</td>\n",
              "      <td>1</td>\n",
              "    </tr>\n",
              "    <tr>\n",
              "      <th>President, National Abortion Federation</th>\n",
              "      <td>0</td>\n",
              "      <td>1</td>\n",
              "      <td>1</td>\n",
              "    </tr>\n",
              "    <tr>\n",
              "      <th>secretary-general of the United Nations</th>\n",
              "      <td>0</td>\n",
              "      <td>1</td>\n",
              "      <td>1</td>\n",
              "    </tr>\n",
              "  </tbody>\n",
              "</table>\n",
              "<p>1185 rows × 3 columns</p>\n",
              "</div>"
            ],
            "text/plain": [
              "Encoded_Label                                          0     1   All\n",
              "Speaker'sJobTitle                                                   \n",
              "All                                                 3079  4264  7343\n",
              "President                                            132   360   492\n",
              "U.S. Senator                                         144   335   479\n",
              "Governor                                             174   217   391\n",
              "President-Elect                                      201    72   273\n",
              "...                                                  ...   ...   ...\n",
              "Director, Sustainable Water Infrastructure Prog...     0     1     1\n",
              "Director, Georgia C.A.R.E.                             1     0     1\n",
              "President, Milwaukee Bucks                             1     0     1\n",
              "President, National Abortion Federation                0     1     1\n",
              " secretary-general of the United Nations               0     1     1\n",
              "\n",
              "[1185 rows x 3 columns]"
            ]
          },
          "metadata": {
            "tags": []
          },
          "execution_count": 26
        }
      ]
    },
    {
      "cell_type": "code",
      "metadata": {
        "id": "medjEDXhwYc-",
        "colab_type": "code",
        "outputId": "8a40015d-f0d3-4076-da6c-49b325896ac4",
        "colab": {
          "base_uri": "https://localhost:8080/",
          "height": 0
        }
      },
      "source": [
        "fig, ax = plt.subplots()\n",
        "ax1 = X_train.value_counts().sort_index(ascending=True).head(10).plot('bar', ax=ax, legend=True)"
      ],
      "execution_count": 27,
      "outputs": [
        {
          "output_type": "display_data",
          "data": {
            "image/png": "[encoded data removed]",
            "text/plain": [
              "<Figure size 432x288 with 1 Axes>"
            ]
          },
          "metadata": {
            "tags": []
          }
        }
      ]
    },
    {
      "cell_type": "code",
      "metadata": {
        "id": "ulvoP5OnnZXd",
        "colab_type": "code",
        "outputId": "a6a1f1cd-f237-469d-883a-2d552413f27c",
        "colab": {
          "base_uri": "https://localhost:8080/",
          "height": 0
        }
      },
      "source": [
        "CrossTab.head()"
      ],
      "execution_count": 28,
      "outputs": [
        {
          "output_type": "execute_result",
          "data": {
            "text/html": [
              "<div>\n",
              "<style scoped>\n",
              "    .dataframe tbody tr th:only-of-type {\n",
              "        vertical-align: middle;\n",
              "    }\n",
              "\n",
              "    .dataframe tbody tr th {\n",
              "        vertical-align: top;\n",
              "    }\n",
              "\n",
              "    .dataframe thead th {\n",
              "        text-align: right;\n",
              "    }\n",
              "</style>\n",
              "<table border=\"1\" class=\"dataframe\">\n",
              "  <thead>\n",
              "    <tr style=\"text-align: right;\">\n",
              "      <th>Encoded_Label</th>\n",
              "      <th>0</th>\n",
              "      <th>1</th>\n",
              "      <th>All</th>\n",
              "    </tr>\n",
              "    <tr>\n",
              "      <th>Speaker'sJobTitle</th>\n",
              "      <th></th>\n",
              "      <th></th>\n",
              "      <th></th>\n",
              "    </tr>\n",
              "  </thead>\n",
              "  <tbody>\n",
              "    <tr>\n",
              "      <th>secretary-general of the United Nations</th>\n",
              "      <td>0</td>\n",
              "      <td>1</td>\n",
              "      <td>1</td>\n",
              "    </tr>\n",
              "    <tr>\n",
              "      <th>4th Congressional District's congressman</th>\n",
              "      <td>1</td>\n",
              "      <td>1</td>\n",
              "      <td>2</td>\n",
              "    </tr>\n",
              "    <tr>\n",
              "      <th>501 (c) (4) educational group</th>\n",
              "      <td>0</td>\n",
              "      <td>1</td>\n",
              "      <td>1</td>\n",
              "    </tr>\n",
              "    <tr>\n",
              "      <th>8th District congressional candidate</th>\n",
              "      <td>1</td>\n",
              "      <td>4</td>\n",
              "      <td>5</td>\n",
              "    </tr>\n",
              "    <tr>\n",
              "      <th>9-12 member in Tampa</th>\n",
              "      <td>1</td>\n",
              "      <td>0</td>\n",
              "      <td>1</td>\n",
              "    </tr>\n",
              "  </tbody>\n",
              "</table>\n",
              "</div>"
            ],
            "text/plain": [
              "Encoded_Label                             0  1  All\n",
              "Speaker'sJobTitle                                  \n",
              " secretary-general of the United Nations  0  1    1\n",
              "4th Congressional District's congressman  1  1    2\n",
              "501 (c) (4) educational group             0  1    1\n",
              "8th District congressional candidate      1  4    5\n",
              "9-12 member in Tampa                      1  0    1"
            ]
          },
          "metadata": {
            "tags": []
          },
          "execution_count": 28
        }
      ]
    },
    {
      "cell_type": "code",
      "metadata": {
        "id": "xjcaYAdywYdC",
        "colab_type": "code",
        "outputId": "b9da3b80-5c70-42db-cdde-268d7feb5f7d",
        "colab": {
          "base_uri": "https://localhost:8080/",
          "height": 0
        }
      },
      "source": [
        "import seaborn as sns\n",
        "sns.countplot(x=\"All\", data=CrossTab,order=CrossTab[\"All\"].value_counts().iloc[:5].index)\n",
        "plt.show()"
      ],
      "execution_count": 29,
      "outputs": [
        {
          "output_type": "display_data",
          "data": {
            "image/png": "[encoded data removed]",
            "text/plain": [
              "<Figure size 432x288 with 1 Axes>"
            ]
          },
          "metadata": {
            "tags": []
          }
        }
      ]
    },
    {
      "cell_type": "code",
      "metadata": {
        "id": "YSXYnv_cwYdF",
        "colab_type": "code",
        "outputId": "d71274c0-8407-497b-8da0-84268da7b79a",
        "colab": {
          "base_uri": "https://localhost:8080/",
          "height": 0
        }
      },
      "source": [
        "#By changing the value here for column we can check as per job title whats the probability of speaker lying\n",
        "#This is specific example for U.S. Senator\n",
        "import numpy as np\n",
        "values_for_true = np.column_stack([train_news[Colnames].str.contains(\"U.S. Senator\") for Colnames in ['Speaker\\'sJobTitle']])\n",
        "#print (values_for_true)\n",
        "unique, counts = np.unique(values_for_true, return_counts=True)\n",
        "dict(zip(unique, counts))\n",
        "train_news['values_for_true'] = values_for_true\n",
        "import matplotlib.pyplot as plt\n",
        "fig, ax = plt.subplots()\n",
        "ax1 = train_news[train_news['values_for_true']==True]['Label'].value_counts().plot('bar', ax=ax, legend=True)"
      ],
      "execution_count": 30,
      "outputs": [
        {
          "output_type": "display_data",
          "data": {
            "image/png": "[encoded data removed]",
            "text/plain": [
              "<Figure size 432x288 with 1 Axes>"
            ]
          },
          "metadata": {
            "tags": []
          }
        }
      ]
    },
    {
      "cell_type": "code",
      "metadata": {
        "id": "-UW7uUDTwYdI",
        "colab_type": "code",
        "outputId": "be0370fd-484a-438b-85a4-fff5ee0833c1",
        "colab": {
          "base_uri": "https://localhost:8080/",
          "height": 0
        }
      },
      "source": [
        "#Setting NAN to No Job Title under Speaker's Job Title\n",
        "X_train = X_train.replace(np.nan,'No Job Title', regex=True)\n",
        "X_train"
      ],
      "execution_count": 31,
      "outputs": [
        {
          "output_type": "execute_result",
          "data": {
            "text/plain": [
              "0                                 State representative\n",
              "1                                       State delegate\n",
              "2                                            President\n",
              "3                                         No Job Title\n",
              "4                                         No Job Title\n",
              "                             ...                      \n",
              "10235                                     No Job Title\n",
              "10236                                     No Job Title\n",
              "10237                                     No Job Title\n",
              "10238                                     No Job Title\n",
              "10239    chairman of the Republican National Committee\n",
              "Name: Speaker'sJobTitle, Length: 10240, dtype: object"
            ]
          },
          "metadata": {
            "tags": []
          },
          "execution_count": 31
        }
      ]
    },
    {
      "cell_type": "markdown",
      "metadata": {
        "id": "LOThtNKcwYdL",
        "colab_type": "text"
      },
      "source": [
        "### Select a document to preview after prepocessing"
      ]
    },
    {
      "cell_type": "code",
      "metadata": {
        "id": "2B_VTippwYdM",
        "colab_type": "code",
        "outputId": "9c5ae3a9-2d11-4c1b-b001-a636829a8153",
        "colab": {
          "base_uri": "https://localhost:8080/",
          "height": 0
        }
      },
      "source": [
        "#checking the sample document \n",
        "doc_sample = train_news[train_news['Json_Id'] == '2635.json'][\"Statement\"][0]\n",
        "\n",
        "print('original document: ')\n",
        "words = []\n",
        "for word in doc_sample.split(' '):\n",
        "    words.append(word)\n",
        "print(words)\n",
        "print('\\n\\n tokenized and lemmatized document: ')\n",
        "print(preprocess(doc_sample))\n",
        "#print(process_data(doc_sample))"
      ],
      "execution_count": 32,
      "outputs": [
        {
          "output_type": "stream",
          "text": [
            "original document: \n",
            "['Says', 'the', 'Annies', 'List', 'political', 'group', 'supports', 'third-trimester', 'abortions', 'on', 'demand.']\n",
            "\n",
            "\n",
            " tokenized and lemmatized document: \n",
            "['say', 'anni', 'list', 'polit', 'group', 'support', 'trimest', 'abort', 'demand']\n"
          ],
          "name": "stdout"
        }
      ]
    },
    {
      "cell_type": "markdown",
      "metadata": {
        "id": "jFXq41hjwYdP",
        "colab_type": "text"
      },
      "source": [
        "### Preprocess the headline text, saving the results as ‘processed_docs'"
      ]
    },
    {
      "cell_type": "code",
      "metadata": {
        "id": "AAKGT0l3wYdR",
        "colab_type": "code",
        "outputId": "8dd3718c-38f0-41b0-cda2-ee00e98ab448",
        "colab": {
          "base_uri": "https://localhost:8080/",
          "height": 0
        }
      },
      "source": [
        "processed_docs = train_news['Statement'].map(preprocess)\n",
        "processed_docs[:10]"
      ],
      "execution_count": 33,
      "outputs": [
        {
          "output_type": "execute_result",
          "data": {
            "text/plain": [
              "0    [say, anni, list, polit, group, support, trime...\n",
              "1    [declin, coal, start, start, natur, take, star...\n",
              "2    [hillari, clinton, agre, john, mccain, vote, g...\n",
              "3    [health, care, reform, legisl, like, mandat, f...\n",
              "4                    [econom, turnaround, start, term]\n",
              "5    [chicago, bear, start, quarterback, year, tota...\n",
              "6               [dunnam, live, district, repres, year]\n",
              "7    [person, stage, work, activ, year, pass, russ,...\n",
              "8    [take, million, oregon, lotteri, fund, port, n...\n",
              "9    [say, primari, oppon, glenn, grothman, leibham...\n",
              "Name: Statement, dtype: object"
            ]
          },
          "metadata": {
            "tags": []
          },
          "execution_count": 33
        }
      ]
    },
    {
      "cell_type": "markdown",
      "metadata": {
        "id": "6n5eaBahwYdX",
        "colab_type": "text"
      },
      "source": [
        "### Bag of Words on the Data set\n",
        "Create a dictionary from ‘processed_docs’ containing the number of times a word appears in the training set"
      ]
    },
    {
      "cell_type": "code",
      "metadata": {
        "id": "-g75uKKMwYdY",
        "colab_type": "code",
        "outputId": "51d5b282-18e5-4dab-997f-8a599b90a6be",
        "colab": {
          "base_uri": "https://localhost:8080/",
          "height": 0
        }
      },
      "source": [
        "#processed docs->getting words\n",
        "dictionary = gensim.corpora.Dictionary(processed_docs)\n",
        "count = 0\n",
        "for k, v in dictionary.iteritems():\n",
        "    print(k, v)\n",
        "    count += 1\n",
        "    if count > 10:\n",
        "        break"
      ],
      "execution_count": 34,
      "outputs": [
        {
          "output_type": "stream",
          "text": [
            "0 abort\n",
            "1 anni\n",
            "2 demand\n",
            "3 group\n",
            "4 list\n",
            "5 polit\n",
            "6 say\n",
            "7 support\n",
            "8 trimest\n",
            "9 administr\n",
            "10 begin\n"
          ],
          "name": "stdout"
        }
      ]
    },
    {
      "cell_type": "code",
      "metadata": {
        "id": "-Rdvax9YwYdb",
        "colab_type": "code",
        "outputId": "ae77cb71-0993-4a44-a7f4-a7cf54dab9ad",
        "colab": {
          "base_uri": "https://localhost:8080/",
          "height": 0
        }
      },
      "source": [
        "#printing actual dictionary\n",
        "dictionary.filter_extremes(no_below=15, no_above=0.5, keep_n=100000)\n",
        "print(dictionary)"
      ],
      "execution_count": 35,
      "outputs": [
        {
          "output_type": "stream",
          "text": [
            "Dictionary(1078 unique tokens: ['abort', 'demand', 'group', 'list', 'polit']...)\n"
          ],
          "name": "stdout"
        }
      ]
    },
    {
      "cell_type": "code",
      "metadata": {
        "id": "r6TY-PJmwYdd",
        "colab_type": "code",
        "outputId": "9225136b-7b73-47be-9998-1fdb6b1f1be8",
        "colab": {
          "base_uri": "https://localhost:8080/",
          "height": 0
        }
      },
      "source": [
        "bow_corpus = [dictionary.doc2bow(doc) for doc in processed_docs]\n",
        "bow_corpus[10][0]"
      ],
      "execution_count": 36,
      "outputs": [
        {
          "output_type": "execute_result",
          "data": {
            "text/plain": [
              "(24, 2)"
            ]
          },
          "metadata": {
            "tags": []
          },
          "execution_count": 36
        }
      ]
    },
    {
      "cell_type": "code",
      "metadata": {
        "id": "IKf2EczvwYdf",
        "colab_type": "code",
        "outputId": "239a69e4-63ba-413e-d234-b30dda7d824b",
        "colab": {
          "base_uri": "https://localhost:8080/",
          "height": 0
        }
      },
      "source": [
        "#checking word frequency count\n",
        "bow_doc_4310 = bow_corpus[4310]\n",
        "for i in range(len(bow_doc_4310)):\n",
        "    print(\"Word {} (\\\"{}\\\") appears {} time.\".format(bow_doc_4310[i][0], \n",
        "                                               dictionary[bow_doc_4310[i][0]], \n",
        "bow_doc_4310[i][1]))\n",
        "print(len(bow_corpus))"
      ],
      "execution_count": 37,
      "outputs": [
        {
          "output_type": "stream",
          "text": [
            "Word 7 (\"administr\") appears 1 time.\n",
            "Word 84 (\"economi\") appears 1 time.\n",
            "Word 128 (\"scott\") appears 1 time.\n",
            "Word 129 (\"walker\") appears 1 time.\n",
            "Word 184 (\"member\") appears 2 time.\n",
            "Word 254 (\"job\") appears 1 time.\n",
            "Word 279 (\"public\") appears 1 time.\n",
            "Word 326 (\"hear\") appears 1 time.\n",
            "Word 547 (\"charg\") appears 1 time.\n",
            "Word 799 (\"talk\") appears 1 time.\n",
            "Word 1031 (\"field\") appears 1 time.\n",
            "10240\n"
          ],
          "name": "stdout"
        }
      ]
    },
    {
      "cell_type": "code",
      "metadata": {
        "id": "c8chH4qywYdj",
        "colab_type": "code",
        "colab": {}
      },
      "source": [
        "#applying tf-idf and LDA\n",
        "from gensim import corpora, models\n",
        "tfidf = models.TfidfModel(bow_corpus)\n",
        "corpus_tfidf = tfidf[bow_corpus]"
      ],
      "execution_count": 0,
      "outputs": []
    },
    {
      "cell_type": "code",
      "metadata": {
        "id": "BxbNlA5QwYdn",
        "colab_type": "code",
        "outputId": "85eb0a89-e61f-45c6-850a-b7c570777d1e",
        "colab": {
          "base_uri": "https://localhost:8080/",
          "height": 0
        }
      },
      "source": [
        "from pprint import pprint\n",
        "\n",
        "for doc in corpus_tfidf:\n",
        "    pprint(doc)\n",
        "    break"
      ],
      "execution_count": 39,
      "outputs": [
        {
          "output_type": "stream",
          "text": [
            "[(0, 0.3397402827336795),\n",
            " (1, 0.5002880765433487),\n",
            " (2, 0.4088224168287155),\n",
            " (3, 0.4639566513984633),\n",
            " (4, 0.40750764496407926),\n",
            " (5, 0.10879086838115597),\n",
            " (6, 0.27202739591951525)]\n"
          ],
          "name": "stdout"
        }
      ]
    },
    {
      "cell_type": "markdown",
      "metadata": {
        "id": "OrKLt5ghwYdp",
        "colab_type": "text"
      },
      "source": [
        "### Running LDA using Bag of Words\n",
        "Train our lda model using gensim.models.LdaMulticore and save it to ‘lda_model’. \n",
        "For each topic, we will explore the words occuring in that topic and its relative weight."
      ]
    },
    {
      "cell_type": "code",
      "metadata": {
        "id": "CdVOZ5vewYdq",
        "colab_type": "code",
        "outputId": "d5bbc55b-acc1-48d7-8f64-c526707ae628",
        "colab": {
          "base_uri": "https://localhost:8080/",
          "height": 0
        }
      },
      "source": [
        "lda_model = gensim.models.LdaMulticore(bow_corpus, num_topics=10, id2word=dictionary, passes=2, workers=2)\n",
        "for idx, topic in lda_model.print_topics(-1):\n",
        "    print('Topic: {} \\nWords: {}'.format(idx, topic))"
      ],
      "execution_count": 40,
      "outputs": [
        {
          "output_type": "stream",
          "text": [
            "Topic: 0 \n",
            "Words: 0.032*\"say\" + 0.019*\"million\" + 0.015*\"state\" + 0.014*\"dollar\" + 0.013*\"american\" + 0.012*\"democrat\" + 0.012*\"year\" + 0.011*\"job\" + 0.010*\"billion\" + 0.010*\"work\"\n",
            "Topic: 1 \n",
            "Words: 0.040*\"state\" + 0.026*\"say\" + 0.025*\"year\" + 0.021*\"immigr\" + 0.017*\"illeg\" + 0.015*\"georgia\" + 0.012*\"texa\" + 0.011*\"clinton\" + 0.009*\"peopl\" + 0.009*\"school\"\n",
            "Topic: 2 \n",
            "Words: 0.026*\"say\" + 0.015*\"health\" + 0.013*\"care\" + 0.012*\"american\" + 0.012*\"support\" + 0.011*\"govern\" + 0.011*\"trump\" + 0.010*\"state\" + 0.010*\"dont\" + 0.009*\"women\"\n",
            "Topic: 3 \n",
            "Words: 0.033*\"obama\" + 0.024*\"say\" + 0.018*\"presid\" + 0.015*\"barack\" + 0.012*\"vote\" + 0.012*\"bush\" + 0.011*\"time\" + 0.011*\"state\" + 0.011*\"forc\" + 0.010*\"florida\"\n",
            "Topic: 4 \n",
            "Words: 0.047*\"say\" + 0.020*\"year\" + 0.019*\"fund\" + 0.018*\"state\" + 0.015*\"school\" + 0.014*\"budget\" + 0.013*\"offic\" + 0.013*\"billion\" + 0.012*\"public\" + 0.011*\"wisconsin\"\n",
            "Topic: 5 \n",
            "Words: 0.076*\"say\" + 0.035*\"year\" + 0.028*\"obama\" + 0.027*\"presid\" + 0.016*\"barack\" + 0.015*\"billion\" + 0.014*\"scott\" + 0.011*\"state\" + 0.009*\"million\" + 0.009*\"walker\"\n",
            "Topic: 6 \n",
            "Words: 0.045*\"health\" + 0.030*\"year\" + 0.026*\"care\" + 0.021*\"insur\" + 0.017*\"plan\" + 0.016*\"american\" + 0.016*\"spend\" + 0.016*\"percent\" + 0.015*\"senat\" + 0.014*\"say\"\n",
            "Topic: 7 \n",
            "Words: 0.056*\"percent\" + 0.033*\"peopl\" + 0.029*\"state\" + 0.017*\"rate\" + 0.015*\"unemploy\" + 0.014*\"year\" + 0.014*\"say\" + 0.014*\"perc\" + 0.013*\"countri\" + 0.013*\"incom\"\n",
            "Topic: 8 \n",
            "Words: 0.050*\"job\" + 0.022*\"creat\" + 0.019*\"debt\" + 0.017*\"percent\" + 0.015*\"nation\" + 0.015*\"texa\" + 0.014*\"say\" + 0.013*\"countri\" + 0.012*\"million\" + 0.012*\"lose\"\n",
            "Topic: 9 \n",
            "Words: 0.071*\"say\" + 0.024*\"percent\" + 0.021*\"tax\" + 0.018*\"vote\" + 0.014*\"republican\" + 0.014*\"state\" + 0.014*\"clinton\" + 0.013*\"romney\" + 0.012*\"rais\" + 0.011*\"hillari\"\n"
          ],
          "name": "stdout"
        }
      ]
    },
    {
      "cell_type": "code",
      "metadata": {
        "id": "wymvvuxWwYds",
        "colab_type": "code",
        "outputId": "4739ceb6-04cb-451a-d132-0513bb04f7eb",
        "colab": {
          "base_uri": "https://localhost:8080/",
          "height": 0
        }
      },
      "source": [
        "#LDA using TF-IDF\n",
        "lda_model_tfidf = gensim.models.LdaMulticore(corpus_tfidf, num_topics=10, id2word=dictionary, passes=2, workers=4)\n",
        "for idx, topic in lda_model_tfidf.print_topics(-1):\n",
        "    print('Topic: {} Word: {}'.format(idx, topic))"
      ],
      "execution_count": 41,
      "outputs": [
        {
          "output_type": "stream",
          "text": [
            "Topic: 0 Word: 0.014*\"say\" + 0.011*\"year\" + 0.008*\"go\" + 0.008*\"dollar\" + 0.008*\"obama\" + 0.008*\"state\" + 0.007*\"spend\" + 0.007*\"senat\" + 0.007*\"job\" + 0.007*\"dont\"\n",
            "Topic: 1 Word: 0.014*\"say\" + 0.009*\"job\" + 0.008*\"percent\" + 0.008*\"democrat\" + 0.008*\"american\" + 0.008*\"vote\" + 0.008*\"month\" + 0.007*\"health\" + 0.007*\"creat\" + 0.007*\"island\"\n",
            "Topic: 2 Word: 0.019*\"tax\" + 0.017*\"billion\" + 0.016*\"rais\" + 0.013*\"say\" + 0.012*\"job\" + 0.011*\"million\" + 0.010*\"percent\" + 0.010*\"obama\" + 0.010*\"year\" + 0.010*\"state\"\n",
            "Topic: 3 Word: 0.013*\"health\" + 0.013*\"say\" + 0.011*\"care\" + 0.010*\"state\" + 0.010*\"support\" + 0.010*\"texa\" + 0.010*\"year\" + 0.008*\"rick\" + 0.007*\"georgia\" + 0.007*\"fund\"\n",
            "Topic: 4 Word: 0.017*\"say\" + 0.013*\"year\" + 0.012*\"spend\" + 0.009*\"school\" + 0.008*\"percent\" + 0.008*\"texa\" + 0.007*\"trump\" + 0.007*\"state\" + 0.007*\"abort\" + 0.006*\"student\"\n",
            "Topic: 5 Word: 0.016*\"state\" + 0.010*\"unit\" + 0.010*\"say\" + 0.010*\"year\" + 0.010*\"budget\" + 0.010*\"countri\" + 0.008*\"govern\" + 0.008*\"economi\" + 0.008*\"america\" + 0.007*\"vote\"\n",
            "Topic: 6 Word: 0.014*\"say\" + 0.009*\"state\" + 0.009*\"peopl\" + 0.008*\"texa\" + 0.007*\"year\" + 0.006*\"live\" + 0.006*\"vote\" + 0.006*\"school\" + 0.006*\"famili\" + 0.006*\"percent\"\n",
            "Topic: 7 Word: 0.018*\"obama\" + 0.017*\"percent\" + 0.015*\"presid\" + 0.012*\"barack\" + 0.011*\"say\" + 0.011*\"year\" + 0.009*\"health\" + 0.007*\"immigr\" + 0.007*\"govern\" + 0.006*\"vote\"\n",
            "Topic: 8 Word: 0.012*\"say\" + 0.011*\"secur\" + 0.010*\"social\" + 0.010*\"percent\" + 0.008*\"parti\" + 0.007*\"privat\" + 0.007*\"year\" + 0.007*\"republican\" + 0.007*\"want\" + 0.007*\"go\"\n",
            "Topic: 9 Word: 0.012*\"say\" + 0.011*\"percent\" + 0.010*\"florida\" + 0.008*\"rate\" + 0.007*\"state\" + 0.007*\"vote\" + 0.007*\"near\" + 0.007*\"obama\" + 0.006*\"wisconsin\" + 0.006*\"countri\"\n"
          ],
          "name": "stdout"
        }
      ]
    },
    {
      "cell_type": "code",
      "metadata": {
        "id": "lpDEa6UfwYdt",
        "colab_type": "code",
        "outputId": "7efba0b8-a943-4254-99a4-4fa3baccc794",
        "colab": {
          "base_uri": "https://localhost:8080/",
          "height": 0
        }
      },
      "source": [
        "processed_docs[4310]"
      ],
      "execution_count": 42,
      "outputs": [
        {
          "output_type": "execute_result",
          "data": {
            "text/plain": [
              "['member',\n",
              " 'public',\n",
              " 'charg',\n",
              " 'hear',\n",
              " 'scott',\n",
              " 'walker',\n",
              " 'dozen',\n",
              " 'member',\n",
              " 'administr',\n",
              " 'talk',\n",
              " 'job',\n",
              " 'economi',\n",
              " 'lambeau',\n",
              " 'field']"
            ]
          },
          "metadata": {
            "tags": []
          },
          "execution_count": 42
        }
      ]
    },
    {
      "cell_type": "markdown",
      "metadata": {
        "id": "IK_YXVvpwYdw",
        "colab_type": "text"
      },
      "source": [
        "#### Performance evaluation by classifying sample document using LDA Bag of Words model\n",
        "We will check where our test document would be classified."
      ]
    },
    {
      "cell_type": "code",
      "metadata": {
        "id": "d6GywYg4wYdx",
        "colab_type": "code",
        "outputId": "7e945574-9a80-40b0-912b-40e1f9704a37",
        "colab": {
          "base_uri": "https://localhost:8080/",
          "height": 0
        }
      },
      "source": [
        "for index, score in sorted(lda_model[bow_corpus[0]], key=lambda tup: -1*tup[1]):\n",
        "    print(\"\\nScore: {}\\t \\nTopic: {}\".format(score, lda_model.print_topic(index, 10)))"
      ],
      "execution_count": 43,
      "outputs": [
        {
          "output_type": "stream",
          "text": [
            "\n",
            "Score: 0.5517028570175171\t \n",
            "Topic: 0.071*\"say\" + 0.024*\"percent\" + 0.021*\"tax\" + 0.018*\"vote\" + 0.014*\"republican\" + 0.014*\"state\" + 0.014*\"clinton\" + 0.013*\"romney\" + 0.012*\"rais\" + 0.011*\"hillari\"\n",
            "\n",
            "Score: 0.3482738137245178\t \n",
            "Topic: 0.026*\"say\" + 0.015*\"health\" + 0.013*\"care\" + 0.012*\"american\" + 0.012*\"support\" + 0.011*\"govern\" + 0.011*\"trump\" + 0.010*\"state\" + 0.010*\"dont\" + 0.009*\"women\"\n",
            "\n",
            "Score: 0.012503745034337044\t \n",
            "Topic: 0.045*\"health\" + 0.030*\"year\" + 0.026*\"care\" + 0.021*\"insur\" + 0.017*\"plan\" + 0.016*\"american\" + 0.016*\"spend\" + 0.016*\"percent\" + 0.015*\"senat\" + 0.014*\"say\"\n",
            "\n",
            "Score: 0.012503706850111485\t \n",
            "Topic: 0.032*\"say\" + 0.019*\"million\" + 0.015*\"state\" + 0.014*\"dollar\" + 0.013*\"american\" + 0.012*\"democrat\" + 0.012*\"year\" + 0.011*\"job\" + 0.010*\"billion\" + 0.010*\"work\"\n",
            "\n",
            "Score: 0.012503678910434246\t \n",
            "Topic: 0.033*\"obama\" + 0.024*\"say\" + 0.018*\"presid\" + 0.015*\"barack\" + 0.012*\"vote\" + 0.012*\"bush\" + 0.011*\"time\" + 0.011*\"state\" + 0.011*\"forc\" + 0.010*\"florida\"\n",
            "\n",
            "Score: 0.012503614649176598\t \n",
            "Topic: 0.047*\"say\" + 0.020*\"year\" + 0.019*\"fund\" + 0.018*\"state\" + 0.015*\"school\" + 0.014*\"budget\" + 0.013*\"offic\" + 0.013*\"billion\" + 0.012*\"public\" + 0.011*\"wisconsin\"\n",
            "\n",
            "Score: 0.012503097765147686\t \n",
            "Topic: 0.050*\"job\" + 0.022*\"creat\" + 0.019*\"debt\" + 0.017*\"percent\" + 0.015*\"nation\" + 0.015*\"texa\" + 0.014*\"say\" + 0.013*\"countri\" + 0.012*\"million\" + 0.012*\"lose\"\n",
            "\n",
            "Score: 0.012502484954893589\t \n",
            "Topic: 0.076*\"say\" + 0.035*\"year\" + 0.028*\"obama\" + 0.027*\"presid\" + 0.016*\"barack\" + 0.015*\"billion\" + 0.014*\"scott\" + 0.011*\"state\" + 0.009*\"million\" + 0.009*\"walker\"\n",
            "\n",
            "Score: 0.012502126395702362\t \n",
            "Topic: 0.040*\"state\" + 0.026*\"say\" + 0.025*\"year\" + 0.021*\"immigr\" + 0.017*\"illeg\" + 0.015*\"georgia\" + 0.012*\"texa\" + 0.011*\"clinton\" + 0.009*\"peopl\" + 0.009*\"school\"\n",
            "\n",
            "Score: 0.012500849552452564\t \n",
            "Topic: 0.056*\"percent\" + 0.033*\"peopl\" + 0.029*\"state\" + 0.017*\"rate\" + 0.015*\"unemploy\" + 0.014*\"year\" + 0.014*\"say\" + 0.014*\"perc\" + 0.013*\"countri\" + 0.013*\"incom\"\n"
          ],
          "name": "stdout"
        }
      ]
    },
    {
      "cell_type": "markdown",
      "metadata": {
        "id": "Gdfh07gvwYd1",
        "colab_type": "text"
      },
      "source": [
        "### Performance Evaluation by classifying sample document using LDA TF-IDF model"
      ]
    },
    {
      "cell_type": "code",
      "metadata": {
        "id": "AgsY4RDgwYd3",
        "colab_type": "code",
        "outputId": "f74bcf05-ac6e-45f2-b728-628fec4e1699",
        "colab": {
          "base_uri": "https://localhost:8080/",
          "height": 0
        }
      },
      "source": [
        "for index, score in sorted(lda_model_tfidf[bow_corpus[0]], key=lambda tup: -1*tup[1]):\n",
        "    print(\"\\nScore: {}\\t \\nTopic: {}\".format(score, lda_model_tfidf.print_topic(index, 10)))"
      ],
      "execution_count": 44,
      "outputs": [
        {
          "output_type": "stream",
          "text": [
            "\n",
            "Score: 0.7134698033332825\t \n",
            "Topic: 0.017*\"say\" + 0.013*\"year\" + 0.012*\"spend\" + 0.009*\"school\" + 0.008*\"percent\" + 0.008*\"texa\" + 0.007*\"trump\" + 0.007*\"state\" + 0.007*\"abort\" + 0.006*\"student\"\n",
            "\n",
            "Score: 0.18650200963020325\t \n",
            "Topic: 0.012*\"say\" + 0.011*\"percent\" + 0.010*\"florida\" + 0.008*\"rate\" + 0.007*\"state\" + 0.007*\"vote\" + 0.007*\"near\" + 0.007*\"obama\" + 0.006*\"wisconsin\" + 0.006*\"countri\"\n",
            "\n",
            "Score: 0.01250749733299017\t \n",
            "Topic: 0.014*\"say\" + 0.009*\"state\" + 0.009*\"peopl\" + 0.008*\"texa\" + 0.007*\"year\" + 0.006*\"live\" + 0.006*\"vote\" + 0.006*\"school\" + 0.006*\"famili\" + 0.006*\"percent\"\n",
            "\n",
            "Score: 0.012504777871072292\t \n",
            "Topic: 0.013*\"health\" + 0.013*\"say\" + 0.011*\"care\" + 0.010*\"state\" + 0.010*\"support\" + 0.010*\"texa\" + 0.010*\"year\" + 0.008*\"rick\" + 0.007*\"georgia\" + 0.007*\"fund\"\n",
            "\n",
            "Score: 0.012504168786108494\t \n",
            "Topic: 0.012*\"say\" + 0.011*\"secur\" + 0.010*\"social\" + 0.010*\"percent\" + 0.008*\"parti\" + 0.007*\"privat\" + 0.007*\"year\" + 0.007*\"republican\" + 0.007*\"want\" + 0.007*\"go\"\n",
            "\n",
            "Score: 0.012503959238529205\t \n",
            "Topic: 0.016*\"state\" + 0.010*\"unit\" + 0.010*\"say\" + 0.010*\"year\" + 0.010*\"budget\" + 0.010*\"countri\" + 0.008*\"govern\" + 0.008*\"economi\" + 0.008*\"america\" + 0.007*\"vote\"\n",
            "\n",
            "Score: 0.012502689845860004\t \n",
            "Topic: 0.019*\"tax\" + 0.017*\"billion\" + 0.016*\"rais\" + 0.013*\"say\" + 0.012*\"job\" + 0.011*\"million\" + 0.010*\"percent\" + 0.010*\"obama\" + 0.010*\"year\" + 0.010*\"state\"\n",
            "\n",
            "Score: 0.012502460740506649\t \n",
            "Topic: 0.018*\"obama\" + 0.017*\"percent\" + 0.015*\"presid\" + 0.012*\"barack\" + 0.011*\"say\" + 0.011*\"year\" + 0.009*\"health\" + 0.007*\"immigr\" + 0.007*\"govern\" + 0.006*\"vote\"\n",
            "\n",
            "Score: 0.01250134315341711\t \n",
            "Topic: 0.014*\"say\" + 0.009*\"job\" + 0.008*\"percent\" + 0.008*\"democrat\" + 0.008*\"american\" + 0.008*\"vote\" + 0.008*\"month\" + 0.007*\"health\" + 0.007*\"creat\" + 0.007*\"island\"\n",
            "\n",
            "Score: 0.012501334771513939\t \n",
            "Topic: 0.014*\"say\" + 0.011*\"year\" + 0.008*\"go\" + 0.008*\"dollar\" + 0.008*\"obama\" + 0.008*\"state\" + 0.007*\"spend\" + 0.007*\"senat\" + 0.007*\"job\" + 0.007*\"dont\"\n"
          ],
          "name": "stdout"
        }
      ]
    },
    {
      "cell_type": "markdown",
      "metadata": {
        "id": "0cU04gm5wYd6",
        "colab_type": "text"
      },
      "source": [
        "### MultinomialNB classifier"
      ]
    },
    {
      "cell_type": "code",
      "metadata": {
        "id": "A5KBlasPwYd6",
        "colab_type": "code",
        "colab": {}
      },
      "source": [
        "from sklearn.pipeline import Pipeline\n",
        "from sklearn.feature_extraction.text import CountVectorizer\n",
        "from sklearn.feature_extraction.text import TfidfTransformer\n",
        "from sklearn.naive_bayes import MultinomialNB\n",
        "from sklearn.metrics import classification_report,confusion_matrix\n",
        "\n",
        "pipeline = Pipeline([\n",
        "    ('bow',CountVectorizer(analyzer=preprocess)), # converts strings to integer counts\n",
        "    ('tfidf',TfidfTransformer()), # converts integer counts to weighted TF-IDF scores\n",
        "    ('classifier',MultinomialNB()) # train on TF-IDF vectors with Naive Bayes classifier\n",
        "])"
      ],
      "execution_count": 0,
      "outputs": []
    },
    {
      "cell_type": "code",
      "metadata": {
        "id": "yafrYJdGwYd-",
        "colab_type": "code",
        "outputId": "45060054-8777-470f-cd0c-faa716bd5800",
        "colab": {
          "base_uri": "https://localhost:8080/",
          "height": 0
        }
      },
      "source": [
        "#dfTwoCols= train_news[['Label','Subject']]\n",
        "dfTwoCols= train_news[['Label','Speaker\\'sJobTitle']]\n",
        "dfTwoCols.groupby(\"Label\").count().plot(kind='bar')"
      ],
      "execution_count": 46,
      "outputs": [
        {
          "output_type": "execute_result",
          "data": {
            "text/plain": [
              "<matplotlib.axes._subplots.AxesSubplot at 0x7fefdf6c46d8>"
            ]
          },
          "metadata": {
            "tags": []
          },
          "execution_count": 46
        },
        {
          "output_type": "display_data",
          "data": {
            "image/png": "[encoded data removed]",
            "text/plain": [
              "<Figure size 432x288 with 1 Axes>"
            ]
          },
          "metadata": {
            "tags": []
          }
        }
      ]
    },
    {
      "cell_type": "code",
      "metadata": {
        "id": "TWhZdVENwYd_",
        "colab_type": "code",
        "outputId": "b4d33b73-bf89-456d-9b83-e79881102386",
        "colab": {
          "base_uri": "https://localhost:8080/",
          "height": 0
        }
      },
      "source": [
        "dfTwoCols['verdict'] = dfTwoCols['Label'].map({'false': 0, 'true': 1, 'barely-true':0, 'half-true':1,'mostly-true':1,'pants-fire':0})\n",
        "dfTwoCols"
      ],
      "execution_count": 47,
      "outputs": [
        {
          "output_type": "execute_result",
          "data": {
            "text/html": [
              "<div>\n",
              "<style scoped>\n",
              "    .dataframe tbody tr th:only-of-type {\n",
              "        vertical-align: middle;\n",
              "    }\n",
              "\n",
              "    .dataframe tbody tr th {\n",
              "        vertical-align: top;\n",
              "    }\n",
              "\n",
              "    .dataframe thead th {\n",
              "        text-align: right;\n",
              "    }\n",
              "</style>\n",
              "<table border=\"1\" class=\"dataframe\">\n",
              "  <thead>\n",
              "    <tr style=\"text-align: right;\">\n",
              "      <th></th>\n",
              "      <th>Label</th>\n",
              "      <th>Speaker'sJobTitle</th>\n",
              "      <th>verdict</th>\n",
              "    </tr>\n",
              "  </thead>\n",
              "  <tbody>\n",
              "    <tr>\n",
              "      <th>0</th>\n",
              "      <td>false</td>\n",
              "      <td>State representative</td>\n",
              "      <td>0</td>\n",
              "    </tr>\n",
              "    <tr>\n",
              "      <th>1</th>\n",
              "      <td>half-true</td>\n",
              "      <td>State delegate</td>\n",
              "      <td>1</td>\n",
              "    </tr>\n",
              "    <tr>\n",
              "      <th>2</th>\n",
              "      <td>mostly-true</td>\n",
              "      <td>President</td>\n",
              "      <td>1</td>\n",
              "    </tr>\n",
              "    <tr>\n",
              "      <th>3</th>\n",
              "      <td>false</td>\n",
              "      <td>NaN</td>\n",
              "      <td>0</td>\n",
              "    </tr>\n",
              "    <tr>\n",
              "      <th>4</th>\n",
              "      <td>half-true</td>\n",
              "      <td>NaN</td>\n",
              "      <td>1</td>\n",
              "    </tr>\n",
              "    <tr>\n",
              "      <th>...</th>\n",
              "      <td>...</td>\n",
              "      <td>...</td>\n",
              "      <td>...</td>\n",
              "    </tr>\n",
              "    <tr>\n",
              "      <th>10235</th>\n",
              "      <td>mostly-true</td>\n",
              "      <td>NaN</td>\n",
              "      <td>1</td>\n",
              "    </tr>\n",
              "    <tr>\n",
              "      <th>10236</th>\n",
              "      <td>mostly-true</td>\n",
              "      <td>NaN</td>\n",
              "      <td>1</td>\n",
              "    </tr>\n",
              "    <tr>\n",
              "      <th>10237</th>\n",
              "      <td>half-true</td>\n",
              "      <td>NaN</td>\n",
              "      <td>1</td>\n",
              "    </tr>\n",
              "    <tr>\n",
              "      <th>10238</th>\n",
              "      <td>false</td>\n",
              "      <td>NaN</td>\n",
              "      <td>0</td>\n",
              "    </tr>\n",
              "    <tr>\n",
              "      <th>10239</th>\n",
              "      <td>pants-fire</td>\n",
              "      <td>chairman of the Republican National Committee</td>\n",
              "      <td>0</td>\n",
              "    </tr>\n",
              "  </tbody>\n",
              "</table>\n",
              "<p>10240 rows × 3 columns</p>\n",
              "</div>"
            ],
            "text/plain": [
              "             Label                              Speaker'sJobTitle  verdict\n",
              "0            false                           State representative        0\n",
              "1        half-true                                 State delegate        1\n",
              "2      mostly-true                                      President        1\n",
              "3            false                                            NaN        0\n",
              "4        half-true                                            NaN        1\n",
              "...            ...                                            ...      ...\n",
              "10235  mostly-true                                            NaN        1\n",
              "10236  mostly-true                                            NaN        1\n",
              "10237    half-true                                            NaN        1\n",
              "10238        false                                            NaN        0\n",
              "10239   pants-fire  chairman of the Republican National Committee        0\n",
              "\n",
              "[10240 rows x 3 columns]"
            ]
          },
          "metadata": {
            "tags": []
          },
          "execution_count": 47
        }
      ]
    },
    {
      "cell_type": "code",
      "metadata": {
        "id": "qi-q6NbjwYeC",
        "colab_type": "code",
        "outputId": "33b891ac-44b7-4459-c78e-02fdc189f3ea",
        "colab": {
          "base_uri": "https://localhost:8080/",
          "height": 0
        }
      },
      "source": [
        "dfTwoCols.groupby(\"verdict\").count().plot(kind='bar')"
      ],
      "execution_count": 48,
      "outputs": [
        {
          "output_type": "execute_result",
          "data": {
            "text/plain": [
              "<matplotlib.axes._subplots.AxesSubplot at 0x7fefdf6d8518>"
            ]
          },
          "metadata": {
            "tags": []
          },
          "execution_count": 48
        },
        {
          "output_type": "display_data",
          "data": {
            "image/png": "[encoded data removed]",
            "text/plain": [
              "<Figure size 432x288 with 1 Axes>"
            ]
          },
          "metadata": {
            "tags": []
          }
        }
      ]
    },
    {
      "cell_type": "code",
      "metadata": {
        "id": "Zirl7e0wwYeH",
        "colab_type": "code",
        "outputId": "f53fd9c4-c18a-4c5d-e667-67cd6a59a55b",
        "colab": {
          "base_uri": "https://localhost:8080/",
          "height": 0
        }
      },
      "source": [
        "ct1=pd.crosstab(dfTwoCols[\"Speaker\\'sJobTitle\"],dfTwoCols[\"verdict\"],margins=True)\n",
        "ct1.sort_values('All', ascending=False)"
      ],
      "execution_count": 49,
      "outputs": [
        {
          "output_type": "execute_result",
          "data": {
            "text/html": [
              "<div>\n",
              "<style scoped>\n",
              "    .dataframe tbody tr th:only-of-type {\n",
              "        vertical-align: middle;\n",
              "    }\n",
              "\n",
              "    .dataframe tbody tr th {\n",
              "        vertical-align: top;\n",
              "    }\n",
              "\n",
              "    .dataframe thead th {\n",
              "        text-align: right;\n",
              "    }\n",
              "</style>\n",
              "<table border=\"1\" class=\"dataframe\">\n",
              "  <thead>\n",
              "    <tr style=\"text-align: right;\">\n",
              "      <th>verdict</th>\n",
              "      <th>0</th>\n",
              "      <th>1</th>\n",
              "      <th>All</th>\n",
              "    </tr>\n",
              "    <tr>\n",
              "      <th>Speaker'sJobTitle</th>\n",
              "      <th></th>\n",
              "      <th></th>\n",
              "      <th></th>\n",
              "    </tr>\n",
              "  </thead>\n",
              "  <tbody>\n",
              "    <tr>\n",
              "      <th>All</th>\n",
              "      <td>3079</td>\n",
              "      <td>4264</td>\n",
              "      <td>7343</td>\n",
              "    </tr>\n",
              "    <tr>\n",
              "      <th>President</th>\n",
              "      <td>132</td>\n",
              "      <td>360</td>\n",
              "      <td>492</td>\n",
              "    </tr>\n",
              "    <tr>\n",
              "      <th>U.S. Senator</th>\n",
              "      <td>144</td>\n",
              "      <td>335</td>\n",
              "      <td>479</td>\n",
              "    </tr>\n",
              "    <tr>\n",
              "      <th>Governor</th>\n",
              "      <td>174</td>\n",
              "      <td>217</td>\n",
              "      <td>391</td>\n",
              "    </tr>\n",
              "    <tr>\n",
              "      <th>President-Elect</th>\n",
              "      <td>201</td>\n",
              "      <td>72</td>\n",
              "      <td>273</td>\n",
              "    </tr>\n",
              "    <tr>\n",
              "      <th>...</th>\n",
              "      <td>...</td>\n",
              "      <td>...</td>\n",
              "      <td>...</td>\n",
              "    </tr>\n",
              "    <tr>\n",
              "      <th>Director, Sustainable Water Infrastructure Program, Ceres</th>\n",
              "      <td>0</td>\n",
              "      <td>1</td>\n",
              "      <td>1</td>\n",
              "    </tr>\n",
              "    <tr>\n",
              "      <th>Director, Georgia C.A.R.E.</th>\n",
              "      <td>1</td>\n",
              "      <td>0</td>\n",
              "      <td>1</td>\n",
              "    </tr>\n",
              "    <tr>\n",
              "      <th>President, Milwaukee Bucks</th>\n",
              "      <td>1</td>\n",
              "      <td>0</td>\n",
              "      <td>1</td>\n",
              "    </tr>\n",
              "    <tr>\n",
              "      <th>President, National Abortion Federation</th>\n",
              "      <td>0</td>\n",
              "      <td>1</td>\n",
              "      <td>1</td>\n",
              "    </tr>\n",
              "    <tr>\n",
              "      <th>secretary-general of the United Nations</th>\n",
              "      <td>0</td>\n",
              "      <td>1</td>\n",
              "      <td>1</td>\n",
              "    </tr>\n",
              "  </tbody>\n",
              "</table>\n",
              "<p>1185 rows × 3 columns</p>\n",
              "</div>"
            ],
            "text/plain": [
              "verdict                                                0     1   All\n",
              "Speaker'sJobTitle                                                   \n",
              "All                                                 3079  4264  7343\n",
              "President                                            132   360   492\n",
              "U.S. Senator                                         144   335   479\n",
              "Governor                                             174   217   391\n",
              "President-Elect                                      201    72   273\n",
              "...                                                  ...   ...   ...\n",
              "Director, Sustainable Water Infrastructure Prog...     0     1     1\n",
              "Director, Georgia C.A.R.E.                             1     0     1\n",
              "President, Milwaukee Bucks                             1     0     1\n",
              "President, National Abortion Federation                0     1     1\n",
              " secretary-general of the United Nations               0     1     1\n",
              "\n",
              "[1185 rows x 3 columns]"
            ]
          },
          "metadata": {
            "tags": []
          },
          "execution_count": 49
        }
      ]
    },
    {
      "cell_type": "markdown",
      "metadata": {
        "id": "xxLI4nYKwYeL",
        "colab_type": "text"
      },
      "source": [
        "Here we can see especially in the exceptional case of candidates-biography, social security that there is more false news than true. Now that we have some information we can proceed find more information by processing the text to find unique values in subjects. Also by visualization we can observe that sensational news will have extremely polarised graphs. Applying data preprocessing for NLP processing like tokeninsing, stemming etc\n",
        "\n"
      ]
    },
    {
      "cell_type": "code",
      "metadata": {
        "id": "oTOYTxIpwYeM",
        "colab_type": "code",
        "outputId": "d282bb3b-a1b1-4500-b3a5-6ac0b4048bdd",
        "colab": {
          "base_uri": "https://localhost:8080/",
          "height": 0
        }
      },
      "source": [
        "#print(bow_corpus)\n",
        "class_train=np.array(dfTwoCols[\"verdict\"])\n",
        "print(class_train)\n",
        "class_train=class_train.reshape(-1,1)\n",
        "print(class_train)\n",
        "\n",
        "pipeline.fit(train_news['Statement'],class_train)"
      ],
      "execution_count": 50,
      "outputs": [
        {
          "output_type": "stream",
          "text": [
            "[0 1 1 ... 1 0 0]\n",
            "[[0]\n",
            " [1]\n",
            " [1]\n",
            " ...\n",
            " [1]\n",
            " [0]\n",
            " [0]]\n"
          ],
          "name": "stdout"
        },
        {
          "output_type": "execute_result",
          "data": {
            "text/plain": [
              "Pipeline(memory=None,\n",
              "         steps=[('bow',\n",
              "                 CountVectorizer(analyzer=<function preprocess at 0x7fefe8ef7f28>,\n",
              "                                 binary=False, decode_error='strict',\n",
              "                                 dtype=<class 'numpy.int64'>, encoding='utf-8',\n",
              "                                 input='content', lowercase=True, max_df=1.0,\n",
              "                                 max_features=None, min_df=1,\n",
              "                                 ngram_range=(1, 1), preprocessor=None,\n",
              "                                 stop_words=None, strip_accents=None,\n",
              "                                 token_pattern='(?u)\\\\b\\\\w\\\\w+\\\\b',\n",
              "                                 tokenizer=None, vocabulary=None)),\n",
              "                ('tfidf',\n",
              "                 TfidfTransformer(norm='l2', smooth_idf=True,\n",
              "                                  sublinear_tf=False, use_idf=True)),\n",
              "                ('classifier',\n",
              "                 MultinomialNB(alpha=1.0, class_prior=None, fit_prior=True))],\n",
              "         verbose=False)"
            ]
          },
          "metadata": {
            "tags": []
          },
          "execution_count": 50
        }
      ]
    },
    {
      "cell_type": "code",
      "metadata": {
        "id": "cO28qDDLwYeN",
        "colab_type": "code",
        "outputId": "4bccf9a5-6941-4ede-9d46-1bed139f9709",
        "colab": {
          "base_uri": "https://localhost:8080/",
          "height": 0
        }
      },
      "source": [
        "#test\n",
        "#dfs_test = pd.read_excel(\"input\")\n",
        "msg_test=test_news[\"Statement\"]\n",
        "dfTwoCols_test= test_news[['Label','Subject']]\n",
        "dfTwoCols_test['verdict'] = dfTwoCols_test['Label'].map({'false': 0, 'true': 1, 'barely-true':0, 'half-true':1,'mostly-true':1,'pants-fire':0})\n",
        "dfTwoCols_test\n",
        "class_test=np.array(dfTwoCols_test[\"verdict\"])\n",
        "print(class_test)\n",
        "class_test=class_test.reshape(-1,1)\n",
        "print(class_test)\n",
        "predictions = pipeline.predict(msg_test)"
      ],
      "execution_count": 51,
      "outputs": [
        {
          "output_type": "stream",
          "text": [
            "[1 0 0 ... 0 0 0]\n",
            "[[1]\n",
            " [0]\n",
            " [0]\n",
            " ...\n",
            " [0]\n",
            " [0]\n",
            " [0]]\n"
          ],
          "name": "stdout"
        }
      ]
    },
    {
      "cell_type": "code",
      "metadata": {
        "id": "yJiO0mUmwYeP",
        "colab_type": "code",
        "outputId": "70b4805d-cbce-4d52-fea1-0a768ea381ec",
        "colab": {
          "base_uri": "https://localhost:8080/",
          "height": 0
        }
      },
      "source": [
        "print(classification_report(class_test,predictions))"
      ],
      "execution_count": 52,
      "outputs": [
        {
          "output_type": "stream",
          "text": [
            "              precision    recall  f1-score   support\n",
            "\n",
            "           0       0.63      0.30      0.41       553\n",
            "           1       0.61      0.86      0.72       714\n",
            "\n",
            "    accuracy                           0.62      1267\n",
            "   macro avg       0.62      0.58      0.56      1267\n",
            "weighted avg       0.62      0.62      0.58      1267\n",
            "\n"
          ],
          "name": "stdout"
        }
      ]
    },
    {
      "cell_type": "code",
      "metadata": {
        "id": "bg9ELGanwYeR",
        "colab_type": "code",
        "outputId": "ad1eba7e-02bc-4090-9ed8-d51441b17b4d",
        "colab": {
          "base_uri": "https://localhost:8080/",
          "height": 0
        }
      },
      "source": [
        "sns.heatmap(confusion_matrix(class_test,predictions),annot=True)\n",
        "# references: https://www.kaggle.com/astandrik/simple-spam-filter-using-naive-bayes"
      ],
      "execution_count": 53,
      "outputs": [
        {
          "output_type": "execute_result",
          "data": {
            "text/plain": [
              "<matplotlib.axes._subplots.AxesSubplot at 0x7fefddceb5f8>"
            ]
          },
          "metadata": {
            "tags": []
          },
          "execution_count": 53
        },
        {
          "output_type": "display_data",
          "data": {
            "image/png": "[encoded data removed]",
            "text/plain": [
              "<Figure size 432x288 with 2 Axes>"
            ]
          },
          "metadata": {
            "tags": []
          }
        }
      ]
    },
    {
      "cell_type": "markdown",
      "metadata": {
        "id": "ace_XgQMwYeW",
        "colab_type": "text"
      },
      "source": [
        "## Classifiers"
      ]
    },
    {
      "cell_type": "code",
      "metadata": {
        "id": "p9w4Gme0wYeX",
        "colab_type": "code",
        "colab": {}
      },
      "source": [
        "from sklearn.feature_extraction.text import CountVectorizer\n",
        "from sklearn.feature_extraction.text import TfidfTransformer\n",
        "from sklearn.feature_extraction.text import TfidfVectorizer\n",
        "from yellowbrick.text import FreqDistVisualizer"
      ],
      "execution_count": 0,
      "outputs": []
    },
    {
      "cell_type": "markdown",
      "metadata": {
        "id": "aXF6DVDLwYeZ",
        "colab_type": "text"
      },
      "source": [
        "#### CounterVectorizer & Stats"
      ]
    },
    {
      "cell_type": "code",
      "metadata": {
        "id": "KtZ2yX5rwYea",
        "colab_type": "code",
        "colab": {}
      },
      "source": [
        "countV = CountVectorizer()\n",
        "train_count = countV.fit_transform(train_news['Statement'].values)\n",
        "def get_countVectorizer_stats():\n",
        "    \n",
        "    #vocab size\n",
        "    train_count.shape\n",
        "\n",
        "    #check vocabulary using below command\n",
        "    print(countV.vocabulary_)\n",
        "\n",
        "    #get feature names\n",
        "    print(countV.get_feature_names()[:25])"
      ],
      "execution_count": 0,
      "outputs": []
    },
    {
      "cell_type": "code",
      "metadata": {
        "id": "likFY1yNwYed",
        "colab_type": "code",
        "outputId": "6ab7f186-dafe-482c-f394-37742d22526d",
        "colab": {
          "base_uri": "https://localhost:8080/",
          "height": 0
        }
      },
      "source": [
        "tfidfV = TfidfTransformer()\n",
        "train_tfidf = tfidfV.fit_transform(train_count)\n",
        "\n",
        "def get_tfidf_stats():\n",
        "    train_tfidf.shape\n",
        "    #get train data feature names \n",
        "    print(train_tfidf.A[:10])\n",
        "    \n",
        "get_tfidf_stats()"
      ],
      "execution_count": 56,
      "outputs": [
        {
          "output_type": "stream",
          "text": [
            "[[0. 0. 0. ... 0. 0. 0.]\n",
            " [0. 0. 0. ... 0. 0. 0.]\n",
            " [0. 0. 0. ... 0. 0. 0.]\n",
            " ...\n",
            " [0. 0. 0. ... 0. 0. 0.]\n",
            " [0. 0. 0. ... 0. 0. 0.]\n",
            " [0. 0. 0. ... 0. 0. 0.]]\n"
          ],
          "name": "stdout"
        }
      ]
    },
    {
      "cell_type": "markdown",
      "metadata": {
        "id": "pHswhKpcwYef",
        "colab_type": "text"
      },
      "source": [
        "#### Tfidfvectorizer compute the word counts, idf and tf-idf values all at once"
      ]
    },
    {
      "cell_type": "code",
      "metadata": {
        "id": "bncIEWQ0wYeg",
        "colab_type": "code",
        "colab": {}
      },
      "source": [
        "tfidf_ngram = TfidfVectorizer(stop_words='english',ngram_range=(1,4),use_idf=True,smooth_idf=True)"
      ],
      "execution_count": 0,
      "outputs": []
    },
    {
      "cell_type": "code",
      "metadata": {
        "id": "RhYx3DmZwYei",
        "colab_type": "code",
        "colab": {}
      },
      "source": [
        "from sklearn.pipeline import Pipeline\n",
        "from sklearn.naive_bayes import MultinomialNB\n",
        "from sklearn.linear_model import  LogisticRegression\n",
        "from sklearn.linear_model import SGDClassifier\n",
        "from sklearn import svm\n",
        "from sklearn.ensemble import RandomForestClassifier\n",
        "from sklearn.model_selection import KFold\n",
        "from sklearn.metrics import confusion_matrix, f1_score, classification_report\n",
        "from sklearn.model_selection import GridSearchCV\n",
        "from sklearn.model_selection import learning_curve\n",
        "import matplotlib.pyplot as plt\n",
        "from sklearn.metrics import precision_recall_curve\n",
        "from sklearn.metrics import average_precision_score"
      ],
      "execution_count": 0,
      "outputs": []
    },
    {
      "cell_type": "markdown",
      "metadata": {
        "id": "k9KB6r-lm3QK",
        "colab_type": "text"
      },
      "source": [
        "### Data Amalgamation"
      ]
    },
    {
      "cell_type": "code",
      "metadata": {
        "id": "EwQqe6L_mxp4",
        "colab_type": "code",
        "outputId": "ec692288-9b29-4248-8e00-41ced53cac5f",
        "colab": {
          "base_uri": "https://localhost:8080/",
          "height": 0
        }
      },
      "source": [
        "dataset_stances2 = pd.read_csv(train_bias, sep=',')\n",
        "dataset_body2 = pd.read_csv(train_body, sep=',')\n",
        "UCI_Aggregator_load = pd.read_csv(uci_news,sep=',')\n",
        "UCI_Aggregator = UCI_Aggregator_load.dropna(how='any')\n",
        "UCI_Aggregator.head()"
      ],
      "execution_count": 59,
      "outputs": [
        {
          "output_type": "execute_result",
          "data": {
            "text/html": [
              "<div>\n",
              "<style scoped>\n",
              "    .dataframe tbody tr th:only-of-type {\n",
              "        vertical-align: middle;\n",
              "    }\n",
              "\n",
              "    .dataframe tbody tr th {\n",
              "        vertical-align: top;\n",
              "    }\n",
              "\n",
              "    .dataframe thead th {\n",
              "        text-align: right;\n",
              "    }\n",
              "</style>\n",
              "<table border=\"1\" class=\"dataframe\">\n",
              "  <thead>\n",
              "    <tr style=\"text-align: right;\">\n",
              "      <th></th>\n",
              "      <th>ID</th>\n",
              "      <th>TITLE</th>\n",
              "      <th>URL</th>\n",
              "      <th>PUBLISHER</th>\n",
              "      <th>CATEGORY</th>\n",
              "      <th>STORY</th>\n",
              "      <th>HOSTNAME</th>\n",
              "      <th>TIMESTAMP</th>\n",
              "    </tr>\n",
              "  </thead>\n",
              "  <tbody>\n",
              "    <tr>\n",
              "      <th>0</th>\n",
              "      <td>1</td>\n",
              "      <td>Fed official says weak data caused by weather,...</td>\n",
              "      <td>http://www.latimes.com/business/money/la-fi-mo...</td>\n",
              "      <td>Los Angeles Times</td>\n",
              "      <td>b</td>\n",
              "      <td>ddUyU0VZz0BRneMioxUPQVP6sIxvM</td>\n",
              "      <td>www.latimes.com</td>\n",
              "      <td>1394470370698</td>\n",
              "    </tr>\n",
              "    <tr>\n",
              "      <th>1</th>\n",
              "      <td>2</td>\n",
              "      <td>Fed's Charles Plosser sees high bar for change...</td>\n",
              "      <td>http://www.livemint.com/Politics/H2EvwJSK2VE6O...</td>\n",
              "      <td>Livemint</td>\n",
              "      <td>b</td>\n",
              "      <td>ddUyU0VZz0BRneMioxUPQVP6sIxvM</td>\n",
              "      <td>www.livemint.com</td>\n",
              "      <td>1394470371207</td>\n",
              "    </tr>\n",
              "    <tr>\n",
              "      <th>2</th>\n",
              "      <td>3</td>\n",
              "      <td>US open: Stocks fall after Fed official hints ...</td>\n",
              "      <td>http://www.ifamagazine.com/news/us-open-stocks...</td>\n",
              "      <td>IFA Magazine</td>\n",
              "      <td>b</td>\n",
              "      <td>ddUyU0VZz0BRneMioxUPQVP6sIxvM</td>\n",
              "      <td>www.ifamagazine.com</td>\n",
              "      <td>1394470371550</td>\n",
              "    </tr>\n",
              "    <tr>\n",
              "      <th>3</th>\n",
              "      <td>4</td>\n",
              "      <td>Fed risks falling 'behind the curve', Charles ...</td>\n",
              "      <td>http://www.ifamagazine.com/news/fed-risks-fall...</td>\n",
              "      <td>IFA Magazine</td>\n",
              "      <td>b</td>\n",
              "      <td>ddUyU0VZz0BRneMioxUPQVP6sIxvM</td>\n",
              "      <td>www.ifamagazine.com</td>\n",
              "      <td>1394470371793</td>\n",
              "    </tr>\n",
              "    <tr>\n",
              "      <th>4</th>\n",
              "      <td>5</td>\n",
              "      <td>Fed's Plosser: Nasty Weather Has Curbed Job Gr...</td>\n",
              "      <td>http://www.moneynews.com/Economy/federal-reser...</td>\n",
              "      <td>Moneynews</td>\n",
              "      <td>b</td>\n",
              "      <td>ddUyU0VZz0BRneMioxUPQVP6sIxvM</td>\n",
              "      <td>www.moneynews.com</td>\n",
              "      <td>1394470372027</td>\n",
              "    </tr>\n",
              "  </tbody>\n",
              "</table>\n",
              "</div>"
            ],
            "text/plain": [
              "   ID  ...      TIMESTAMP\n",
              "0   1  ...  1394470370698\n",
              "1   2  ...  1394470371207\n",
              "2   3  ...  1394470371550\n",
              "3   4  ...  1394470371793\n",
              "4   5  ...  1394470372027\n",
              "\n",
              "[5 rows x 8 columns]"
            ]
          },
          "metadata": {
            "tags": []
          },
          "execution_count": 59
        }
      ]
    },
    {
      "cell_type": "code",
      "metadata": {
        "id": "_29KILWLsDzT",
        "colab_type": "code",
        "outputId": "3446947a-a1ff-4744-e318-ecab7a7cc754",
        "colab": {
          "base_uri": "https://localhost:8080/",
          "height": 0
        }
      },
      "source": [
        "UCI_Aggregator['CATEGORY'].value_counts().plot(kind=\"bar\")\n",
        "plt.show()\n",
        "\n",
        "# train/test data split\n",
        "from sklearn.model_selection import train_test_split\n",
        "train, test = train_test_split(UCI_Aggregator, test_size=0.2)"
      ],
      "execution_count": 60,
      "outputs": [
        {
          "output_type": "display_data",
          "data": {
            "image/png": "[encoded data removed]",
            "text/plain": [
              "<Figure size 576x396 with 1 Axes>"
            ]
          },
          "metadata": {
            "tags": []
          }
        }
      ]
    },
    {
      "cell_type": "markdown",
      "metadata": {
        "id": "PK43J284CsC-",
        "colab_type": "text"
      },
      "source": [
        "### Fakeness impact based on the claim stance\n",
        "1. agree = 0 (If most of the claims agree with the news, the news is possibly not fake) \n",
        "2. disagree = 1 (If most of the claims disagree with the news, the news is possibly fake)\n",
        "3. discuss = 0.5 (If there is a lot of discussion happening around, the news may or may not be fake)\n",
        "4. unrealted = 1 (If the stances are mostly unrealted, the news will most likely be fake)\n",
        "\n",
        "#### Create a doc2vec model for the training dataset"
      ]
    },
    {
      "cell_type": "code",
      "metadata": {
        "id": "AMfXntErDAHy",
        "colab_type": "code",
        "outputId": "cebcae87-3f00-408b-ddfd-c9c35e702f2b",
        "colab": {
          "base_uri": "https://localhost:8080/",
          "height": 51
        }
      },
      "source": [
        "#Import all the dependencies\n",
        "from gensim.models.doc2vec import Doc2Vec, TaggedDocument\n",
        "from nltk.tokenize import word_tokenize\n",
        "nltk.download('punkt')\n",
        "tagged_data = [TaggedDocument(words=word_tokenize(_d.lower()), tags=[str(i)]) for i, _d in enumerate(dataset_body2['articleBody'])]"
      ],
      "execution_count": 61,
      "outputs": [
        {
          "output_type": "stream",
          "text": [
            "[nltk_data] Downloading package punkt to /root/nltk_data...\n",
            "[nltk_data]   Unzipping tokenizers/punkt.zip.\n"
          ],
          "name": "stdout"
        }
      ]
    },
    {
      "cell_type": "markdown",
      "metadata": {
        "id": "O_Kk_EesDOQG",
        "colab_type": "text"
      },
      "source": [
        "#### Iterations for the Model\n",
        "With the new datasource, we perform about 60 iterations to perfect the model."
      ]
    },
    {
      "cell_type": "code",
      "metadata": {
        "id": "Vye4BmYrDYb6",
        "colab_type": "code",
        "outputId": "9d44e85d-d7ea-4205-c978-2f08be719d31",
        "colab": {
          "base_uri": "https://localhost:8080/",
          "height": 1000
        }
      },
      "source": [
        "max_epochs = 60\n",
        "vec_size = 20\n",
        "alpha = 0.025\n",
        "\n",
        "model = Doc2Vec(size=vec_size,\n",
        "                alpha=alpha, \n",
        "                min_alpha=0.00025,\n",
        "                min_count=1,\n",
        "                dm =0)\n",
        "  \n",
        "model.build_vocab(tagged_data)\n",
        "\n",
        "for epoch in range(max_epochs):\n",
        "    print('iteration {0}'.format(epoch))\n",
        "    model.train(tagged_data,total_examples=model.corpus_count,epochs=model.iter)\n",
        "    # decrease the learning rate\n",
        "    model.alpha -= 0.0002\n",
        "    # fix the learning rate, no decay\n",
        "    model.min_alpha = model.alpha\n",
        "\n",
        "savedModel = \"/content/gdrive/My Drive/Drifters/Models/Biased.model\"\n",
        "model.save(savedModel)\n",
        "print(\"Model Saved\")"
      ],
      "execution_count": 62,
      "outputs": [
        {
          "output_type": "stream",
          "text": [
            "iteration 0\n",
            "iteration 1\n",
            "iteration 2\n",
            "iteration 3\n",
            "iteration 4\n",
            "iteration 5\n",
            "iteration 6\n",
            "iteration 7\n",
            "iteration 8\n",
            "iteration 9\n",
            "iteration 10\n",
            "iteration 11\n",
            "iteration 12\n",
            "iteration 13\n",
            "iteration 14\n",
            "iteration 15\n",
            "iteration 16\n",
            "iteration 17\n",
            "iteration 18\n",
            "iteration 19\n",
            "iteration 20\n",
            "iteration 21\n",
            "iteration 22\n",
            "iteration 23\n",
            "iteration 24\n",
            "iteration 25\n",
            "iteration 26\n",
            "iteration 27\n",
            "iteration 28\n",
            "iteration 29\n",
            "iteration 30\n",
            "iteration 31\n",
            "iteration 32\n",
            "iteration 33\n",
            "iteration 34\n",
            "iteration 35\n",
            "iteration 36\n",
            "iteration 37\n",
            "iteration 38\n",
            "iteration 39\n",
            "iteration 40\n",
            "iteration 41\n",
            "iteration 42\n",
            "iteration 43\n",
            "iteration 44\n",
            "iteration 45\n",
            "iteration 46\n",
            "iteration 47\n",
            "iteration 48\n",
            "iteration 49\n",
            "iteration 50\n",
            "iteration 51\n",
            "iteration 52\n",
            "iteration 53\n",
            "iteration 54\n",
            "iteration 55\n",
            "iteration 56\n",
            "iteration 57\n",
            "iteration 58\n",
            "iteration 59\n",
            "Model Saved\n"
          ],
          "name": "stdout"
        }
      ]
    },
    {
      "cell_type": "markdown",
      "metadata": {
        "id": "2m97UcTNVHMh",
        "colab_type": "text"
      },
      "source": [
        "#### Validation\n",
        "This fucntion will scrape the fakenewschallenge dataset to get claims for all the news articles present in new aggregator dataset.\n",
        "Once the relevant claims are found a new dataset will be returned which will have just the required details like news article and respective claims"
      ]
    },
    {
      "cell_type": "code",
      "metadata": {
        "id": "hCV1VDn-U-Qx",
        "colab_type": "code",
        "colab": {}
      },
      "source": [
        "from gensim.models.doc2vec import Doc2Vec\n",
        "def get_claims():\n",
        "    #model= Doc2Vec.load(\"d2v.model\")\n",
        "    model = Doc2Vec.load(savedModel)\n",
        "    dataset_body2['index'] = dataset_body2.index\n",
        "    count=1\n",
        "    uci_news=0\n",
        "    fnc_news_body_index=0\n",
        "    for i in range(14204, 400000):\n",
        "        claim1=UCI_Aggregator['TITLE'][i]\n",
        "        claim1.lower()\n",
        "        new_test_data = word_tokenize(claim1.lower())\n",
        "        v2 = model.infer_vector(new_test_data)\n",
        "        similar_documents = model.docvecs.most_similar([v2], topn = 1)\n",
        "        myarray = np.asarray(similar_documents)\n",
        "        new_a=myarray.squeeze()\n",
        "        similarity_score=new_a[1]\n",
        "        article_id = new_a[0]\n",
        "        if float(similarity_score) > 0.95:\n",
        "            #print (\"{}\".format(count))\n",
        "            #print (\"At index {}, Claim - {}\".format(i, claim1))\n",
        "            uci_news = i\n",
        "            #print(\"** Similar news articles **\")\n",
        "            #print(dataset_body2.loc[dataset_body2['index'] == int(new_a[0]), 'articleBody'])\n",
        "            fnc_news_body_index = int(new_a[0])\n",
        "            count+=1\n",
        "    UCI_Aggregator['TITLE'][uci_news]\n",
        "    dataset_body2['articleBody'][fnc_news_body_index]\n",
        "    Body_ID = dataset_body2.loc[dataset_body2['index'] == fnc_news_body_index, 'Body ID']\n",
        "    new_df = dataset_stances2[dataset_stances2['Body ID'] == int(Body_ID)]\n",
        "    new_df2 = new_df.join(new_df['Stance'].str.get_dummies())\n",
        "    return new_df2"
      ],
      "execution_count": 0,
      "outputs": []
    },
    {
      "cell_type": "markdown",
      "metadata": {
        "id": "RE2Z5Wq1VSf9",
        "colab_type": "text"
      },
      "source": [
        "### Analyse the biase or stance from new data set"
      ]
    },
    {
      "cell_type": "code",
      "metadata": {
        "id": "5W92nFAdVQZY",
        "colab_type": "code",
        "outputId": "0808794d-ed2c-4928-9668-a3e77c115d33",
        "colab": {
          "base_uri": "https://localhost:8080/",
          "height": 51
        }
      },
      "source": [
        "def stance_check():\n",
        "    df = get_claims()\n",
        "    arr=df['Stance'].value_counts().index\n",
        "    for i in arr:\n",
        "        print(i)\n",
        "        if i == 'discuss':\n",
        "            Stance_check=0.5\n",
        "        elif i == 'agree':\n",
        "            Stance_check=0\n",
        "        elif i == 'disagree':\n",
        "            Stance_check=1\n",
        "        else:\n",
        "            Stance_check=1\n",
        "    return Stance_check\n",
        "stance_check()"
      ],
      "execution_count": 64,
      "outputs": [
        {
          "output_type": "stream",
          "text": [
            "discuss\n"
          ],
          "name": "stdout"
        },
        {
          "output_type": "execute_result",
          "data": {
            "text/plain": [
              "0.5"
            ]
          },
          "metadata": {
            "tags": []
          },
          "execution_count": 64
        }
      ]
    },
    {
      "cell_type": "markdown",
      "metadata": {
        "id": "5R5W0QUtDpcg",
        "colab_type": "text"
      },
      "source": [
        "#### Model Validation\n",
        "Once the iterations are complete, we now test the model by feeding a new statement into the model testing its accuracy"
      ]
    },
    {
      "cell_type": "code",
      "metadata": {
        "id": "JknpzSjsDlmt",
        "colab_type": "code",
        "outputId": "a1df7e3f-efe3-4878-9767-ce10cf8e736f",
        "colab": {
          "base_uri": "https://localhost:8080/",
          "height": 34
        }
      },
      "source": [
        "#testing for a text\n",
        "from gensim.models.doc2vec import Doc2Vec\n",
        "text = \"A aqi men served her what she thought was meat and rice, but it was something else entirely.\"\n",
        "model= Doc2Vec.load(savedModel)\n",
        "#to find the vector of a document which is not in training data\n",
        "test_data = word_tokenize(text)\n",
        "v1 = model.infer_vector(test_data)\n",
        "similar_doc = model.docvecs.most_similar([v1])\n",
        "print(similar_doc[0][0])\n",
        "#test_sentence= [model.infer_vector(word_tokenize(text))]\n",
        "#print (test_sentence)"
      ],
      "execution_count": 65,
      "outputs": [
        {
          "output_type": "stream",
          "text": [
            "1180\n"
          ],
          "name": "stdout"
        }
      ]
    },
    {
      "cell_type": "code",
      "metadata": {
        "id": "H4suHNq6EB8F",
        "colab_type": "code",
        "outputId": "194d0f63-42a8-4c1b-c50e-f84ef8bc3b59",
        "colab": {
          "base_uri": "https://localhost:8080/",
          "height": 632
        }
      },
      "source": [
        "titleCol=[]\n",
        "for row in train_news[titlecolname]:\n",
        "    try:        \n",
        "        test_data = word_tokenize(row.lower())\n",
        "        v1 = model.infer_vector(test_data)\n",
        "        similar_doc = model.docvecs.most_similar([v1])\n",
        "        titleCol.append(similar_doc[0][0])\n",
        "    except:\n",
        "        pass\n",
        "sourceCol=list(map(int, titleCol))\n",
        "train_news['titleCol_new']=pd.Series(titleCol)\n",
        "train_news.head()"
      ],
      "execution_count": 66,
      "outputs": [
        {
          "output_type": "execute_result",
          "data": {
            "text/html": [
              "<div>\n",
              "<style scoped>\n",
              "    .dataframe tbody tr th:only-of-type {\n",
              "        vertical-align: middle;\n",
              "    }\n",
              "\n",
              "    .dataframe tbody tr th {\n",
              "        vertical-align: top;\n",
              "    }\n",
              "\n",
              "    .dataframe thead th {\n",
              "        text-align: right;\n",
              "    }\n",
              "</style>\n",
              "<table border=\"1\" class=\"dataframe\">\n",
              "  <thead>\n",
              "    <tr style=\"text-align: right;\">\n",
              "      <th></th>\n",
              "      <th>Json_Id</th>\n",
              "      <th>Label</th>\n",
              "      <th>Statement</th>\n",
              "      <th>Subject</th>\n",
              "      <th>Speaker</th>\n",
              "      <th>Speaker'sJobTitle</th>\n",
              "      <th>StateInfo</th>\n",
              "      <th>partyAffiliation</th>\n",
              "      <th>BarelyTrueCounts</th>\n",
              "      <th>FalseCounts</th>\n",
              "      <th>HalfTrueCounts</th>\n",
              "      <th>MostlyTrueCounts</th>\n",
              "      <th>PantsOnFireCounts</th>\n",
              "      <th>Context</th>\n",
              "      <th>Encoded_Label</th>\n",
              "      <th>index</th>\n",
              "      <th>processed_Statement</th>\n",
              "      <th>values_for_true</th>\n",
              "      <th>titleCol_new</th>\n",
              "    </tr>\n",
              "  </thead>\n",
              "  <tbody>\n",
              "    <tr>\n",
              "      <th>0</th>\n",
              "      <td>2635.json</td>\n",
              "      <td>false</td>\n",
              "      <td>Says the Annies List political group supports ...</td>\n",
              "      <td>abortion</td>\n",
              "      <td>dwayne-bohac</td>\n",
              "      <td>State representative</td>\n",
              "      <td>Texas</td>\n",
              "      <td>republican</td>\n",
              "      <td>0.0</td>\n",
              "      <td>1.0</td>\n",
              "      <td>0.0</td>\n",
              "      <td>0.0</td>\n",
              "      <td>0.0</td>\n",
              "      <td>a mailer</td>\n",
              "      <td>0</td>\n",
              "      <td>0</td>\n",
              "      <td>say anni list polit group support trimest abor...</td>\n",
              "      <td>False</td>\n",
              "      <td>1054</td>\n",
              "    </tr>\n",
              "    <tr>\n",
              "      <th>1</th>\n",
              "      <td>10540.json</td>\n",
              "      <td>half-true</td>\n",
              "      <td>When did the decline of coal start? It started...</td>\n",
              "      <td>energy,history,job-accomplishments</td>\n",
              "      <td>scott-surovell</td>\n",
              "      <td>State delegate</td>\n",
              "      <td>Virginia</td>\n",
              "      <td>democrat</td>\n",
              "      <td>0.0</td>\n",
              "      <td>0.0</td>\n",
              "      <td>1.0</td>\n",
              "      <td>1.0</td>\n",
              "      <td>0.0</td>\n",
              "      <td>a floor speech.</td>\n",
              "      <td>1</td>\n",
              "      <td>1</td>\n",
              "      <td>declin coal start start natur take start begin...</td>\n",
              "      <td>False</td>\n",
              "      <td>365</td>\n",
              "    </tr>\n",
              "    <tr>\n",
              "      <th>2</th>\n",
              "      <td>324.json</td>\n",
              "      <td>mostly-true</td>\n",
              "      <td>Hillary Clinton agrees with John McCain \"by vo...</td>\n",
              "      <td>foreign-policy</td>\n",
              "      <td>barack-obama</td>\n",
              "      <td>President</td>\n",
              "      <td>Illinois</td>\n",
              "      <td>democrat</td>\n",
              "      <td>70.0</td>\n",
              "      <td>71.0</td>\n",
              "      <td>160.0</td>\n",
              "      <td>163.0</td>\n",
              "      <td>9.0</td>\n",
              "      <td>Denver</td>\n",
              "      <td>1</td>\n",
              "      <td>2</td>\n",
              "      <td>hillari clinton agre john mccain vote georg bu...</td>\n",
              "      <td>False</td>\n",
              "      <td>490</td>\n",
              "    </tr>\n",
              "    <tr>\n",
              "      <th>3</th>\n",
              "      <td>1123.json</td>\n",
              "      <td>false</td>\n",
              "      <td>Health care reform legislation is likely to ma...</td>\n",
              "      <td>health-care</td>\n",
              "      <td>blog-posting</td>\n",
              "      <td>NaN</td>\n",
              "      <td>NaN</td>\n",
              "      <td>none</td>\n",
              "      <td>7.0</td>\n",
              "      <td>19.0</td>\n",
              "      <td>3.0</td>\n",
              "      <td>5.0</td>\n",
              "      <td>44.0</td>\n",
              "      <td>a news release</td>\n",
              "      <td>0</td>\n",
              "      <td>3</td>\n",
              "      <td>health care reform legisl like mandat free cha...</td>\n",
              "      <td>NaN</td>\n",
              "      <td>1571</td>\n",
              "    </tr>\n",
              "    <tr>\n",
              "      <th>4</th>\n",
              "      <td>9028.json</td>\n",
              "      <td>half-true</td>\n",
              "      <td>The economic turnaround started at the end of ...</td>\n",
              "      <td>economy,jobs</td>\n",
              "      <td>charlie-crist</td>\n",
              "      <td>NaN</td>\n",
              "      <td>Florida</td>\n",
              "      <td>democrat</td>\n",
              "      <td>15.0</td>\n",
              "      <td>9.0</td>\n",
              "      <td>20.0</td>\n",
              "      <td>19.0</td>\n",
              "      <td>2.0</td>\n",
              "      <td>an interview on CNN</td>\n",
              "      <td>1</td>\n",
              "      <td>4</td>\n",
              "      <td>econom turnaround start term</td>\n",
              "      <td>NaN</td>\n",
              "      <td>820</td>\n",
              "    </tr>\n",
              "  </tbody>\n",
              "</table>\n",
              "</div>"
            ],
            "text/plain": [
              "      Json_Id        Label  ... values_for_true titleCol_new\n",
              "0   2635.json        false  ...           False         1054\n",
              "1  10540.json    half-true  ...           False          365\n",
              "2    324.json  mostly-true  ...           False          490\n",
              "3   1123.json        false  ...             NaN         1571\n",
              "4   9028.json    half-true  ...             NaN          820\n",
              "\n",
              "[5 rows x 19 columns]"
            ]
          },
          "metadata": {
            "tags": []
          },
          "execution_count": 66
        }
      ]
    },
    {
      "cell_type": "code",
      "metadata": {
        "id": "otUNDaWXEXxI",
        "colab_type": "code",
        "outputId": "b5a82f1d-5f83-48e9-989a-57b77d1506bd",
        "colab": {
          "base_uri": "https://localhost:8080/",
          "height": 615
        }
      },
      "source": [
        "titleCol=[]\n",
        "for row in test_news[titlecolname]:\n",
        "    try:\n",
        "        \n",
        "        test_data = word_tokenize(row.lower())\n",
        "        v1 = model.infer_vector(test_data)\n",
        "        similar_doc = model.docvecs.most_similar([v1])\n",
        "        titleCol.append(similar_doc[0][0])\n",
        "    except:\n",
        "        pass\n",
        "sourceCol=list(map(int, titleCol))\n",
        "test_news['titleCol_new']=pd.Series(titleCol)\n",
        "test_news.head()"
      ],
      "execution_count": 67,
      "outputs": [
        {
          "output_type": "execute_result",
          "data": {
            "text/html": [
              "<div>\n",
              "<style scoped>\n",
              "    .dataframe tbody tr th:only-of-type {\n",
              "        vertical-align: middle;\n",
              "    }\n",
              "\n",
              "    .dataframe tbody tr th {\n",
              "        vertical-align: top;\n",
              "    }\n",
              "\n",
              "    .dataframe thead th {\n",
              "        text-align: right;\n",
              "    }\n",
              "</style>\n",
              "<table border=\"1\" class=\"dataframe\">\n",
              "  <thead>\n",
              "    <tr style=\"text-align: right;\">\n",
              "      <th></th>\n",
              "      <th>Json_Id</th>\n",
              "      <th>Label</th>\n",
              "      <th>Statement</th>\n",
              "      <th>Subject</th>\n",
              "      <th>Speaker</th>\n",
              "      <th>Speaker'sJobTitle</th>\n",
              "      <th>StateInfo</th>\n",
              "      <th>partyAffiliation</th>\n",
              "      <th>BarelyTrueCounts</th>\n",
              "      <th>FalseCounts</th>\n",
              "      <th>HalfTrueCounts</th>\n",
              "      <th>MostlyTrueCounts</th>\n",
              "      <th>PantsOnFireCounts</th>\n",
              "      <th>Context</th>\n",
              "      <th>Encoded_Label</th>\n",
              "      <th>index</th>\n",
              "      <th>processed_Statement</th>\n",
              "      <th>titleCol_new</th>\n",
              "    </tr>\n",
              "  </thead>\n",
              "  <tbody>\n",
              "    <tr>\n",
              "      <th>0</th>\n",
              "      <td>11972.json</td>\n",
              "      <td>true</td>\n",
              "      <td>Building a wall on the U.S.-Mexico border will...</td>\n",
              "      <td>immigration</td>\n",
              "      <td>rick-perry</td>\n",
              "      <td>Governor</td>\n",
              "      <td>Texas</td>\n",
              "      <td>republican</td>\n",
              "      <td>30</td>\n",
              "      <td>30</td>\n",
              "      <td>42</td>\n",
              "      <td>23</td>\n",
              "      <td>18</td>\n",
              "      <td>Radio interview</td>\n",
              "      <td>1</td>\n",
              "      <td>0</td>\n",
              "      <td>build wall mexico border liter year</td>\n",
              "      <td>279</td>\n",
              "    </tr>\n",
              "    <tr>\n",
              "      <th>1</th>\n",
              "      <td>11685.json</td>\n",
              "      <td>false</td>\n",
              "      <td>Wisconsin is on pace to double the number of l...</td>\n",
              "      <td>jobs</td>\n",
              "      <td>katrina-shankland</td>\n",
              "      <td>State representative</td>\n",
              "      <td>Wisconsin</td>\n",
              "      <td>democrat</td>\n",
              "      <td>2</td>\n",
              "      <td>1</td>\n",
              "      <td>0</td>\n",
              "      <td>0</td>\n",
              "      <td>0</td>\n",
              "      <td>a news conference</td>\n",
              "      <td>0</td>\n",
              "      <td>1</td>\n",
              "      <td>wisconsin pace doubl number layoff year</td>\n",
              "      <td>784</td>\n",
              "    </tr>\n",
              "    <tr>\n",
              "      <th>2</th>\n",
              "      <td>11096.json</td>\n",
              "      <td>false</td>\n",
              "      <td>Says John McCain has done nothing to help the ...</td>\n",
              "      <td>military,veterans,voting-record</td>\n",
              "      <td>donald-trump</td>\n",
              "      <td>President-Elect</td>\n",
              "      <td>New York</td>\n",
              "      <td>republican</td>\n",
              "      <td>63</td>\n",
              "      <td>114</td>\n",
              "      <td>51</td>\n",
              "      <td>37</td>\n",
              "      <td>61</td>\n",
              "      <td>comments on ABC's This Week.</td>\n",
              "      <td>0</td>\n",
              "      <td>2</td>\n",
              "      <td>say john mccain help vet</td>\n",
              "      <td>639</td>\n",
              "    </tr>\n",
              "    <tr>\n",
              "      <th>3</th>\n",
              "      <td>5209.json</td>\n",
              "      <td>half-true</td>\n",
              "      <td>Suzanne Bonamici supports a plan that will cut...</td>\n",
              "      <td>medicare,message-machine-2012,campaign-adverti...</td>\n",
              "      <td>rob-cornilles</td>\n",
              "      <td>consultant</td>\n",
              "      <td>Oregon</td>\n",
              "      <td>republican</td>\n",
              "      <td>1</td>\n",
              "      <td>1</td>\n",
              "      <td>3</td>\n",
              "      <td>1</td>\n",
              "      <td>1</td>\n",
              "      <td>a radio show</td>\n",
              "      <td>1</td>\n",
              "      <td>3</td>\n",
              "      <td>suzann bonamici support plan choic medicar adv...</td>\n",
              "      <td>804</td>\n",
              "    </tr>\n",
              "    <tr>\n",
              "      <th>4</th>\n",
              "      <td>9524.json</td>\n",
              "      <td>pants-fire</td>\n",
              "      <td>When asked by a reporter whether hes at the ce...</td>\n",
              "      <td>campaign-finance,legal-issues,campaign-adverti...</td>\n",
              "      <td>state-democratic-party-wisconsin</td>\n",
              "      <td>NaN</td>\n",
              "      <td>Wisconsin</td>\n",
              "      <td>democrat</td>\n",
              "      <td>5</td>\n",
              "      <td>7</td>\n",
              "      <td>2</td>\n",
              "      <td>2</td>\n",
              "      <td>7</td>\n",
              "      <td>a web video</td>\n",
              "      <td>0</td>\n",
              "      <td>4</td>\n",
              "      <td>ask report center crimin scheme violat campaig...</td>\n",
              "      <td>1430</td>\n",
              "    </tr>\n",
              "  </tbody>\n",
              "</table>\n",
              "</div>"
            ],
            "text/plain": [
              "      Json_Id  ... titleCol_new\n",
              "0  11972.json  ...          279\n",
              "1  11685.json  ...          784\n",
              "2  11096.json  ...          639\n",
              "3   5209.json  ...          804\n",
              "4   9524.json  ...         1430\n",
              "\n",
              "[5 rows x 18 columns]"
            ]
          },
          "metadata": {
            "tags": []
          },
          "execution_count": 67
        }
      ]
    },
    {
      "cell_type": "code",
      "metadata": {
        "id": "jlNnvL8rAUd8",
        "colab_type": "code",
        "colab": {}
      },
      "source": [
        "X_test=train_news[titlecolname]\n",
        "Y_test = train_news[labelcolname]\n",
        "X_test =  X_test.replace(np.nan,'No Job Title', regex=True)"
      ],
      "execution_count": 0,
      "outputs": []
    },
    {
      "cell_type": "markdown",
      "metadata": {
        "id": "V1QC9iEKULT8",
        "colab_type": "text"
      },
      "source": [
        "### Finding the Accuracy of the model using different classification algorithms"
      ]
    },
    {
      "cell_type": "code",
      "metadata": {
        "id": "hLtgTzvBk040",
        "colab_type": "code",
        "colab": {}
      },
      "source": [
        "def code_pipeline(cv, counterV, clsf, clsf_object, x_train, y_train, x_test, y_test):\n",
        "  pipe = Pipeline([(cv, counterV), (clsf, clsf_object)])\n",
        "  pipe.fit(x_train, y_train)\n",
        "  predict = pipe.predict(x_test)\n",
        "  cls_report=classification_report(y_test,predict)\n",
        "  cnfmtx=confusion_matrix(y_test,predict)\n",
        "  mse=mean_squared_error(y_test, predict)\n",
        "  mae=mean_absolute_error(y_test, predict)\n",
        "  msse=np.sqrt(mean_squared_error(y_test, predict))\n",
        "  return np.mean(predict == y_test), cls_report, cnfmtx, mse, mae, msse, pipe"
      ],
      "execution_count": 0,
      "outputs": []
    },
    {
      "cell_type": "code",
      "metadata": {
        "id": "SnsjUkfIlj_o",
        "colab_type": "code",
        "colab": {}
      },
      "source": [
        "dictOfPipes = {}"
      ],
      "execution_count": 0,
      "outputs": []
    },
    {
      "cell_type": "code",
      "metadata": {
        "id": "MtEk2rN8QqH2",
        "colab_type": "code",
        "outputId": "ae77491c-c568-4dbe-9b9d-06fc99ebc048",
        "colab": {
          "base_uri": "https://localhost:8080/",
          "height": 1000
        }
      },
      "source": [
        "from sklearn.tree import DecisionTreeClassifier\n",
        "from sklearn.ensemble import RandomForestClassifier\n",
        "from sklearn.linear_model import LogisticRegression\n",
        "from sklearn.metrics import classification_report,confusion_matrix\n",
        "from sklearn.metrics import mean_squared_error, r2_score, mean_absolute_error\n",
        "from sklearn.naive_bayes import GaussianNB\n",
        "from sklearn.metrics import accuracy_score\n",
        "from sklearn.model_selection import train_test_split\n",
        "from sklearn.svm import SVC\n",
        "from xgboost import XGBClassifier\n",
        "from prettytable import PrettyTable\n",
        "#funcDict = {\"DescionTree\": DecisionTreeClassifier(),\"Randon Forest\": RandomForestClassifier(n_estimators=100)} #,\"naive Bayes\": GaussianNB(),\"SVC\": SVC()}\n",
        "funcDict = {\"MultiNB\": MultinomialNB(), \"DescionTree\": DecisionTreeClassifier(),\"Random Forest\": RandomForestClassifier(n_estimators=100), \"LogR_clf\":LogisticRegression(), \n",
        "            \"svm_Linear\": svm.LinearSVC(), \"SVM_SGD\": SGDClassifier(loss='hinge', penalty='l2', alpha=1e-3), \"xgb_clf\": XGBClassifier()}\n",
        "#p = PrettyTable([\"Algorithim\", \"Accuracy\",\"Confusion Matrix\", \"Mean Squared Error\",\"Mean Absolute Error\" ,\"MSSE\",\"Classification Report\"])\n",
        "p = PrettyTable([\"Algorithim\", \"Accuracy\",\"Confusion Matrix\",\"Classification Report\"])\n",
        "p.padding_width = 1\n",
        "p.float_format='.8'\n",
        "for key in p.align.keys():\n",
        "    p.align[key] = 'l'\n",
        "\n",
        "for key,value1 in funcDict.items():\n",
        "    data,cls_report,cfs1,mse,mae,msse, pipe = code_pipeline('PIPELINE', CountVectorizer(), 'nb_clf', value1, X_train, Y_train, X_test, Y_test)\n",
        "    dictOfPipes[key] = pipe\n",
        "    #p.add_row([key,data,cfs1,mse,mae,msse,cls_report])\n",
        "    #p.add_row([\"---\",\"---\",\"---\",\"---\",\"---\",\"---\",\"---\"])\n",
        "    #p.add_row([\"--------------\",\"-------------------\",\"-------------------\",\"----------------------\",\"-----------------------\",\"------------------\",\"-------------------------------------------------------\"])\n",
        "    p.add_row([key,data,cfs1,cls_report])\n",
        "    p.add_row([\"--------------\",\"-------------------\",\"-------------------\",\"---------------------------------------------------\"])  \n",
        "print(p)"
      ],
      "execution_count": 71,
      "outputs": [
        {
          "output_type": "stream",
          "text": [
            "+----------------+---------------------+---------------------+-------------------------------------------------------+\n",
            "| Algorithim     | Accuracy            | Confusion Matrix    | Classification Report                                 |\n",
            "+----------------+---------------------+---------------------+-------------------------------------------------------+\n",
            "| MultiNB        | 0.60468750          | [[2424 2064]        |               precision    recall  f1-score   support |\n",
            "|                |                     |  [1984 3768]]       |                                                       |\n",
            "|                |                     |                     |            0       0.55      0.54      0.54      4488 |\n",
            "|                |                     |                     |            1       0.65      0.66      0.65      5752 |\n",
            "|                |                     |                     |                                                       |\n",
            "|                |                     |                     |     accuracy                           0.60     10240 |\n",
            "|                |                     |                     |    macro avg       0.60      0.60      0.60     10240 |\n",
            "|                |                     |                     | weighted avg       0.60      0.60      0.60     10240 |\n",
            "|                |                     |                     |                                                       |\n",
            "| -------------- | ------------------- | ------------------- | ---------------------------------------------------   |\n",
            "| DescionTree    | 0.63359375          | [[1260 3228]        |               precision    recall  f1-score   support |\n",
            "|                |                     |  [ 524 5228]]       |                                                       |\n",
            "|                |                     |                     |            0       0.71      0.28      0.40      4488 |\n",
            "|                |                     |                     |            1       0.62      0.91      0.74      5752 |\n",
            "|                |                     |                     |                                                       |\n",
            "|                |                     |                     |     accuracy                           0.63     10240 |\n",
            "|                |                     |                     |    macro avg       0.66      0.59      0.57     10240 |\n",
            "|                |                     |                     | weighted avg       0.66      0.63      0.59     10240 |\n",
            "|                |                     |                     |                                                       |\n",
            "| -------------- | ------------------- | ------------------- | ---------------------------------------------------   |\n",
            "| Random Forest  | 0.63359375          | [[1157 3331]        |               precision    recall  f1-score   support |\n",
            "|                |                     |  [ 421 5331]]       |                                                       |\n",
            "|                |                     |                     |            0       0.73      0.26      0.38      4488 |\n",
            "|                |                     |                     |            1       0.62      0.93      0.74      5752 |\n",
            "|                |                     |                     |                                                       |\n",
            "|                |                     |                     |     accuracy                           0.63     10240 |\n",
            "|                |                     |                     |    macro avg       0.67      0.59      0.56     10240 |\n",
            "|                |                     |                     | weighted avg       0.67      0.63      0.58     10240 |\n",
            "|                |                     |                     |                                                       |\n",
            "| -------------- | ------------------- | ------------------- | ---------------------------------------------------   |\n",
            "| LogR_clf       | 0.61806641          | [[1011 3477]        |               precision    recall  f1-score   support |\n",
            "|                |                     |  [ 434 5318]]       |                                                       |\n",
            "|                |                     |                     |            0       0.70      0.23      0.34      4488 |\n",
            "|                |                     |                     |            1       0.60      0.92      0.73      5752 |\n",
            "|                |                     |                     |                                                       |\n",
            "|                |                     |                     |     accuracy                           0.62     10240 |\n",
            "|                |                     |                     |    macro avg       0.65      0.57      0.54     10240 |\n",
            "|                |                     |                     | weighted avg       0.65      0.62      0.56     10240 |\n",
            "|                |                     |                     |                                                       |\n",
            "| -------------- | ------------------- | ------------------- | ---------------------------------------------------   |\n",
            "| svm_Linear     | 0.62460938          | [[1101 3387]        |               precision    recall  f1-score   support |\n",
            "|                |                     |  [ 457 5295]]       |                                                       |\n",
            "|                |                     |                     |            0       0.71      0.25      0.36      4488 |\n",
            "|                |                     |                     |            1       0.61      0.92      0.73      5752 |\n",
            "|                |                     |                     |                                                       |\n",
            "|                |                     |                     |     accuracy                           0.62     10240 |\n",
            "|                |                     |                     |    macro avg       0.66      0.58      0.55     10240 |\n",
            "|                |                     |                     | weighted avg       0.65      0.62      0.57     10240 |\n",
            "|                |                     |                     |                                                       |\n",
            "| -------------- | ------------------- | ------------------- | ---------------------------------------------------   |\n",
            "| SVM_SGD        | 0.59404297          | [[ 628 3860]        |               precision    recall  f1-score   support |\n",
            "|                |                     |  [ 297 5455]]       |                                                       |\n",
            "|                |                     |                     |            0       0.68      0.14      0.23      4488 |\n",
            "|                |                     |                     |            1       0.59      0.95      0.72      5752 |\n",
            "|                |                     |                     |                                                       |\n",
            "|                |                     |                     |     accuracy                           0.59     10240 |\n",
            "|                |                     |                     |    macro avg       0.63      0.54      0.48     10240 |\n",
            "|                |                     |                     | weighted avg       0.63      0.59      0.51     10240 |\n",
            "|                |                     |                     |                                                       |\n",
            "| -------------- | ------------------- | ------------------- | ---------------------------------------------------   |\n",
            "| xgb_clf        | 0.59599609          | [[ 563 3925]        |               precision    recall  f1-score   support |\n",
            "|                |                     |  [ 212 5540]]       |                                                       |\n",
            "|                |                     |                     |            0       0.73      0.13      0.21      4488 |\n",
            "|                |                     |                     |            1       0.59      0.96      0.73      5752 |\n",
            "|                |                     |                     |                                                       |\n",
            "|                |                     |                     |     accuracy                           0.60     10240 |\n",
            "|                |                     |                     |    macro avg       0.66      0.54      0.47     10240 |\n",
            "|                |                     |                     | weighted avg       0.65      0.60      0.50     10240 |\n",
            "|                |                     |                     |                                                       |\n",
            "| -------------- | ------------------- | ------------------- | ---------------------------------------------------   |\n",
            "+----------------+---------------------+---------------------+-------------------------------------------------------+\n"
          ],
          "name": "stdout"
        }
      ]
    },
    {
      "cell_type": "markdown",
      "metadata": {
        "id": "VO7elhmPwYek",
        "colab_type": "text"
      },
      "source": [
        "#### Building Heatmaps for classification Algorithms"
      ]
    },
    {
      "cell_type": "code",
      "metadata": {
        "id": "yNjoxzT0wYe2",
        "colab_type": "code",
        "colab": {}
      },
      "source": [
        "def build_confusion_matrix(classifier, name):\n",
        "    \n",
        "    k_fold = KFold(n_splits=5, random_state=None, shuffle=False)\n",
        "    scores = []\n",
        "    confusion = np.array([[0,0],[0,0]])\n",
        "    val= []\n",
        "    for train_ind, test_ind in k_fold.split(train_news):\n",
        "        train_text = train_news.iloc[train_ind][titlecolname].dropna() \n",
        "        train_y = train_news.iloc[train_ind][labelcolname].dropna()\n",
        "    \n",
        "        test_text = train_news.iloc[test_ind][titlecolname].dropna()\n",
        "        test_y = train_news.iloc[test_ind][labelcolname].dropna()\n",
        "        \n",
        "        classifier.fit(train_text,train_y[0:len(train_text)])\n",
        "        predictions = classifier.predict(test_text)\n",
        "        confusion += confusion_matrix(test_y[0:len(predictions)],predictions)\n",
        "        score = f1_score(test_y[0:len(predictions)],predictions)\n",
        "        scores.append(score)\n",
        "    \n",
        "    print('Total statements classified:{}'.format(len(train_news)))\n",
        "    print('Score:{}'.format(sum(scores)/len(scores)))\n",
        "    print('Score length:{}'.format(len(scores)))\n",
        "    cm = confusion\n",
        "    #sns.heatmap(pd.DataFrame(cm), annot=True, cmap=\"YlGnBu\" ,fmt='g')\n",
        "    plt.figure()\n",
        "    sns.heatmap(cm, annot=True, cmap=\"YlGnBu\" ,fmt='g')\n",
        "    plt.tight_layout()\n",
        "    plt.title('Confusion matrix ' + name, y=1.1)\n",
        "    plt.ylabel('Actual label')\n",
        "    plt.xlabel('Predicted label')"
      ],
      "execution_count": 0,
      "outputs": []
    },
    {
      "cell_type": "code",
      "metadata": {
        "id": "FYX86AXfxz-8",
        "colab_type": "code",
        "outputId": "3758e19c-038c-4885-cb44-88d58c4f1205",
        "colab": {
          "base_uri": "https://localhost:8080/",
          "height": 1000
        }
      },
      "source": [
        "\n",
        "for key,value in dictOfPipes.items():  \n",
        "  build_confusion_matrix(dictOfPipes[key], key)\n",
        "  print(\"\\n\")"
      ],
      "execution_count": 75,
      "outputs": [
        {
          "output_type": "stream",
          "text": [
            "Total statements classified:10240\n",
            "Score:0.6728445613906109\n",
            "Score length:5\n",
            "\n",
            "\n",
            "Total statements classified:10240\n",
            "Score:0.6543351582811461\n",
            "Score length:5\n",
            "\n",
            "\n",
            "Total statements classified:10240\n",
            "Score:0.6662877888485613\n",
            "Score length:5\n",
            "\n",
            "\n",
            "Total statements classified:10240\n",
            "Score:0.6784570027863126\n",
            "Score length:5\n",
            "\n",
            "\n",
            "Total statements classified:10240\n",
            "Score:0.6706968258560283\n",
            "Score length:5\n",
            "\n",
            "\n",
            "Total statements classified:10240\n",
            "Score:0.7026562246368689\n",
            "Score length:5\n",
            "\n",
            "\n",
            "Total statements classified:10240\n",
            "Score:0.710042134135614\n",
            "Score length:5\n",
            "\n",
            "\n"
          ],
          "name": "stdout"
        },
        {
          "output_type": "display_data",
          "data": {
            "image/png": "[encoded data removed]",
            "text/plain": [
              "<Figure size 576x396 with 2 Axes>"
            ]
          },
          "metadata": {
            "tags": []
          }
        },
        {
          "output_type": "display_data",
          "data": {
            "image/png": "[encoded data removed]",
            "text/plain": [
              "<Figure size 576x396 with 2 Axes>"
            ]
          },
          "metadata": {
            "tags": []
          }
        },
        {
          "output_type": "display_data",
          "data": {
            "image/png": "[encoded data removed]",
            "text/plain": [
              "<Figure size 576x396 with 2 Axes>"
            ]
          },
          "metadata": {
            "tags": []
          }
        },
        {
          "output_type": "display_data",
          "data": {
            "image/png": "[encoded data removed]",
            "text/plain": [
              "<Figure size 576x396 with 2 Axes>"
            ]
          },
          "metadata": {
            "tags": []
          }
        },
        {
          "output_type": "display_data",
          "data": {
            "image/png": "[encoded data removed]",
            "text/plain": [
              "<Figure size 576x396 with 2 Axes>"
            ]
          },
          "metadata": {
            "tags": []
          }
        },
        {
          "output_type": "display_data",
          "data": {
            "image/png": "[encoded data removed]",
            "text/plain": [
              "<Figure size 576x396 with 2 Axes>"
            ]
          },
          "metadata": {
            "tags": []
          }
        },
        {
          "output_type": "display_data",
          "data": {
            "image/png": "[encoded data removed]",
            "text/plain": [
              "<Figure size 576x396 with 2 Axes>"
            ]
          },
          "metadata": {
            "tags": []
          }
        }
      ]
    }
  ]
}