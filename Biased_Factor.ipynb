{
  "nbformat": 4,
  "nbformat_minor": 0,
  "metadata": {
    "kernelspec": {
      "display_name": "Python 3",
      "language": "python",
      "name": "python3"
    },
    "language_info": {
      "codemirror_mode": {
        "name": "ipython",
        "version": 3
      },
      "file_extension": ".py",
      "mimetype": "text/x-python",
      "name": "python",
      "nbconvert_exporter": "python",
      "pygments_lexer": "ipython3",
      "version": "3.7.3"
    },
    "colab": {
      "name": "Biased_Factor.ipynb",
      "provenance": []
    }
  },
  "cells": [
    {
      "cell_type": "markdown",
      "metadata": {
        "id": "vWRY5XKdwYbm",
        "colab_type": "text"
      },
      "source": [
        "# Alternus Vera \n",
        "\n",
        "Course code: **CMPE-257** \n",
        "    \n",
        "Group name : **Drifters**\n",
        "    \n",
        "Name: **Viswanath Singh Kambam (012497524)** \n",
        "\n",
        "-----\n",
        "\n",
        "GitHub URL: \n",
        "\n",
        "\n",
        "### Liar Liar Pants on Fire Dataset Description \n",
        "- It has 3 files test, training and valid.\n",
        "- Each file has 14 columns\n",
        "    \n",
        "    Column 1: the ID of the statement ([ID].json).\n",
        "    \n",
        "    Column 2: the label.\n",
        "    \n",
        "    Column 3: the statement.\n",
        "    \n",
        "    Column 4: the subject(s).\n",
        "    \n",
        "    Column 5: the speaker.\n",
        "    \n",
        "    Column 6: the speaker's job title.\n",
        "    \n",
        "    Column 7: the state info.\n",
        "    \n",
        "    Column 8: the party affiliation.\n",
        "    \n",
        "    Column 9-13: the total credit history count, including the current statement.\n",
        "    \n",
        "    Column 14: the context (venue / location of the speech or statement).\n",
        "\n",
        "\n",
        "### Process of my approach\n",
        "\n",
        "1. Data Preprocessing\n",
        "2. Visualization\n",
        "3. Lemmatization\n",
        "4. Stemming\n",
        "5. Spell Check\n",
        "6. Dictionary\n",
        "7. LDA\n",
        "8. Doc2Vec\n",
        "9. TF-IDF\n",
        "10. LDA using TF-IDF \n",
        "11. Sentiment analysis \n",
        "12. Rating \n",
        "13. Naive Bayes Classifier\n",
        "14. Data enrichment\n",
        "15. Vectorization \n",
        "\n",
        "### Feature Selection\n",
        "**List top Features Selected based on research articles**\n",
        "\n",
        "1. Excitement (Sentimental Analysis)\n",
        "2. Misleading Headings\n",
        "3. Authenticity\n",
        "4. Biased\n",
        "\n",
        "\n",
        "\n",
        "### Team Contributions example:\n",
        "\n",
        "|Features  |  Member |\n",
        "|-----|-----|\n",
        "| Sensationalism                         |  Paramdeep Saini |  \n",
        "| Misleading headings                |  Julian Simon | \n",
        "| Authenticity                   |  Rajalakshmi Babu  |   \n",
        "| Biased or Slanted News                             |  Viswanath Singh Kambam |\n",
        "\n",
        " \n",
        "#### Enrichment Dataset Details\n",
        "\n",
        "- SenticNet5 sensational words corpus\n",
        "- Sensational Words Dictionary \n",
        "\n",
        "\n",
        "#### Libraries Used \n",
        "\n",
        "- NLTK \n",
        "- Gensim \n",
        "- Numpy\n",
        "- Pandas\n",
        "- CSV\n",
        "- WordCloud\n",
        "- Seaborn\n",
        "- Scipy\n",
        "- Regualr Expression\n",
        "- Matplotlib\n",
        "- Sklearn \n",
        "\n",
        "\n",
        "#### What did I try and What worked? \n",
        "\n",
        "> Initially I preprocessed the given dataset using NLTK in-build libraries for tokenization, stopwords removal, stemming and lemmentization. Then I decided to visualize the cleaned data using WordCloud. I decided to extract compound features like Sentiment, Sensationalism and LDA Topic score and utilized it to classify the news document as fake or not.\n",
        "\n",
        "#### What did not work?\n",
        "\n",
        "> Explain your work ...\n",
        "\n",
        "\n",
        "#### What alternatives did you try?\n",
        "\n",
        "> Explain your work \n"
      ]
    },
    {
      "cell_type": "code",
      "metadata": {
        "id": "8GkTlA7-wYbp",
        "colab_type": "code",
        "colab": {}
      },
      "source": [
        "## ignore warnings\n",
        "def warn(*args, **kwargs):\n",
        "    pass\n",
        "import warnings\n",
        "warnings.warn = warn"
      ],
      "execution_count": 0,
      "outputs": []
    },
    {
      "cell_type": "markdown",
      "metadata": {
        "id": "HbMt3fJMwYbw",
        "colab_type": "text"
      },
      "source": [
        "### Data selection and observations"
      ]
    },
    {
      "cell_type": "code",
      "metadata": {
        "id": "2Atcz-4VwYbx",
        "colab_type": "code",
        "colab": {}
      },
      "source": [
        "import numpy as np\n",
        "import pandas as pd\n",
        "import csv\n",
        "import seaborn as sns; sns.set() \n",
        "from sklearn.cluster import KMeans\n",
        "import matplotlib.pyplot as plt\n",
        "from sklearn.metrics import classification_report,confusion_matrix"
      ],
      "execution_count": 0,
      "outputs": []
    },
    {
      "cell_type": "code",
      "metadata": {
        "id": "HyE6R4Sexubd",
        "colab_type": "code",
        "colab": {}
      },
      "source": [
        "from pydrive.auth import GoogleAuth\n",
        "from pydrive.drive import GoogleDrive\n",
        "from google.colab import auth\n",
        "from oauth2client.client import GoogleCredentials\n",
        "# Authenticate and create the PyDrive client.\n",
        "auth.authenticate_user()\n",
        "gauth = GoogleAuth()\n",
        "gauth.credentials = GoogleCredentials.get_application_default()\n",
        "googleDrive = GoogleDrive(gauth)"
      ],
      "execution_count": 0,
      "outputs": []
    },
    {
      "cell_type": "code",
      "metadata": {
        "id": "PcIuclC8xwEj",
        "colab_type": "code",
        "colab": {}
      },
      "source": [
        "from google.colab import drive\n",
        "drive.mount('/content/gdrive')"
      ],
      "execution_count": 0,
      "outputs": []
    },
    {
      "cell_type": "code",
      "metadata": {
        "id": "8WlIRLBrx8TJ",
        "colab_type": "code",
        "colab": {}
      },
      "source": [
        "link = \"https://drive.google.com/open?id=1m-5saoMa-QoYGUiT1dIykOTTjUXB3I01\"\n",
        "fluff, id = link.split('=')\n",
        "print (id) # Verify that you have everything after '='"
      ],
      "execution_count": 0,
      "outputs": []
    },
    {
      "cell_type": "markdown",
      "metadata": {
        "id": "8SMIWrBrwYb0",
        "colab_type": "text"
      },
      "source": [
        "### Load the dataset"
      ]
    },
    {
      "cell_type": "code",
      "metadata": {
        "id": "g3XJBDAoyB0Y",
        "colab_type": "code",
        "colab": {}
      },
      "source": [
        "downloaded = googleDrive.CreateFile({'id':id}) \n",
        "downloaded.GetContentFile('train.xlsx')  \n",
        "dfs_train = pd.read_excel(\"train.xlsx\")"
      ],
      "execution_count": 0,
      "outputs": []
    },
    {
      "cell_type": "code",
      "metadata": {
        "id": "iMr3DKROwYb0",
        "colab_type": "code",
        "colab": {}
      },
      "source": [
        "test_filename = 'input_data/dataset/test.tsv'\n",
        "train_filename = 'input_data/dataset/train.tsv'\n",
        "valid_filename = 'input_data/dataset/valid.tsv'"
      ],
      "execution_count": 0,
      "outputs": []
    },
    {
      "cell_type": "markdown",
      "metadata": {
        "id": "2b-_kyy9wYb3",
        "colab_type": "text"
      },
      "source": [
        "### Define Column names in Dataset"
      ]
    },
    {
      "cell_type": "code",
      "metadata": {
        "id": "oyLnDYuNwYb3",
        "colab_type": "code",
        "colab": {}
      },
      "source": [
        "Colnames = ['Json_Id', 'Label', 'Statement', 'Subject', 'Speaker',\n",
        "           'Speaker\\'sJobTitle', 'StateInfo', 'partyAffiliation',\n",
        "           'BarelyTrueCounts', 'FalseCounts','HalfTrueCounts',\n",
        "           'MostlyTrueCounts','PantsOnFireCounts','Context']\n",
        "#labelcolname = 'Label'\n",
        "titlecolname = 'Speaker\\'sJobTitle'"
      ],
      "execution_count": 0,
      "outputs": []
    },
    {
      "cell_type": "code",
      "metadata": {
        "id": "enifPbtOwYb6",
        "colab_type": "code",
        "colab": {}
      },
      "source": [
        "import matplotlib.pyplot as plt\n",
        "import matplotlib.pyplot as mp\n",
        "##Printing the rod cloud\n",
        "from PIL import Image\n",
        "from wordcloud import WordCloud, STOPWORDS  #install $ pip install wordcloud\n",
        "\n",
        "# Thanks : https://www.kaggle.com/aashita/word-clouds-of-various-shapes ##\n",
        "def plot_wordcloud(text, mask=None, max_words=200, max_font_size=100, figure_size=(12.0,8.0), \n",
        "                   title = None, title_size=20, image_color=False):\n",
        "    stopwords = set(STOPWORDS)\n",
        "    more_stopwords = {'one', 'br', 'Po', 'th', 'sayi', 'fo', 'Unknown'}\n",
        "    stopwords = stopwords.union(more_stopwords)\n",
        "\n",
        "    wordcloud = WordCloud(background_color='white',\n",
        "                    stopwords = stopwords,\n",
        "                    max_words = max_words,\n",
        "                    max_font_size = max_font_size, \n",
        "                    random_state = 42,\n",
        "                    width=800, \n",
        "                    height=400,\n",
        "                    mask = mask)\n",
        "    wordcloud.generate(str(text))\n",
        "    \n",
        "    mp.figure(figsize=figure_size)\n",
        "    if image_color:\n",
        "        image_colors = ImageColorGenerator(mask);\n",
        "        mp.imshow(wordcloud.recolor(color_func=image_colors), interpolation=\"bilinear\");\n",
        "        mp.title(title, fontdict={'size': title_size,  \n",
        "                                  'verticalalignment': 'top'})\n",
        "    else:\n",
        "        mp.imshow(wordcloud);\n",
        "        mp.title(title, fontdict={'size': title_size, 'color': 'black', \n",
        "                                  'verticalalignment': 'bottom'})\n",
        "    mp.axis('off');\n",
        "    mp.tight_layout()  "
      ],
      "execution_count": 0,
      "outputs": []
    },
    {
      "cell_type": "code",
      "metadata": {
        "id": "Sw9UflD2wYb8",
        "colab_type": "code",
        "colab": {}
      },
      "source": [
        "def create_word_cloud(dataframe, colname, title):\n",
        "    plot_wordcloud(dataframe[colname].dropna(),  max_words=300000, max_font_size=300, title=title)"
      ],
      "execution_count": 0,
      "outputs": []
    },
    {
      "cell_type": "markdown",
      "metadata": {
        "id": "Jic87gAYwYb_",
        "colab_type": "text"
      },
      "source": [
        "### Reading the Dataset"
      ]
    },
    {
      "cell_type": "code",
      "metadata": {
        "id": "2Q9G010PwYcA",
        "colab_type": "code",
        "colab": {},
        "outputId": "3945a2d0-8323-4ffe-a46e-4404c56ccce4"
      },
      "source": [
        "train_news = pd.read_csv(train_filename, sep='\\t', names = Colnames,error_bad_lines=False)\n",
        "test_news = pd.read_csv(test_filename, sep='\\t', names = Colnames,error_bad_lines=False)\n",
        "valid_news = pd.read_csv(valid_filename, sep='\\t', names = Colnames,error_bad_lines=False)\n",
        "\n",
        "train_news.head()"
      ],
      "execution_count": 0,
      "outputs": [
        {
          "output_type": "execute_result",
          "data": {
            "text/html": [
              "<div>\n",
              "<style scoped>\n",
              "    .dataframe tbody tr th:only-of-type {\n",
              "        vertical-align: middle;\n",
              "    }\n",
              "\n",
              "    .dataframe tbody tr th {\n",
              "        vertical-align: top;\n",
              "    }\n",
              "\n",
              "    .dataframe thead th {\n",
              "        text-align: right;\n",
              "    }\n",
              "</style>\n",
              "<table border=\"1\" class=\"dataframe\">\n",
              "  <thead>\n",
              "    <tr style=\"text-align: right;\">\n",
              "      <th></th>\n",
              "      <th>Json_Id</th>\n",
              "      <th>Label</th>\n",
              "      <th>Statement</th>\n",
              "      <th>Subject</th>\n",
              "      <th>Speaker</th>\n",
              "      <th>Speaker'sJobTitle</th>\n",
              "      <th>StateInfo</th>\n",
              "      <th>partyAffiliation</th>\n",
              "      <th>BarelyTrueCounts</th>\n",
              "      <th>FalseCounts</th>\n",
              "      <th>HalfTrueCounts</th>\n",
              "      <th>MostlyTrueCounts</th>\n",
              "      <th>PantsOnFireCounts</th>\n",
              "      <th>Context</th>\n",
              "    </tr>\n",
              "  </thead>\n",
              "  <tbody>\n",
              "    <tr>\n",
              "      <th>0</th>\n",
              "      <td>2635.json</td>\n",
              "      <td>false</td>\n",
              "      <td>Says the Annies List political group supports ...</td>\n",
              "      <td>abortion</td>\n",
              "      <td>dwayne-bohac</td>\n",
              "      <td>State representative</td>\n",
              "      <td>Texas</td>\n",
              "      <td>republican</td>\n",
              "      <td>0.0</td>\n",
              "      <td>1.0</td>\n",
              "      <td>0.0</td>\n",
              "      <td>0.0</td>\n",
              "      <td>0.0</td>\n",
              "      <td>a mailer</td>\n",
              "    </tr>\n",
              "    <tr>\n",
              "      <th>1</th>\n",
              "      <td>10540.json</td>\n",
              "      <td>half-true</td>\n",
              "      <td>When did the decline of coal start? It started...</td>\n",
              "      <td>energy,history,job-accomplishments</td>\n",
              "      <td>scott-surovell</td>\n",
              "      <td>State delegate</td>\n",
              "      <td>Virginia</td>\n",
              "      <td>democrat</td>\n",
              "      <td>0.0</td>\n",
              "      <td>0.0</td>\n",
              "      <td>1.0</td>\n",
              "      <td>1.0</td>\n",
              "      <td>0.0</td>\n",
              "      <td>a floor speech.</td>\n",
              "    </tr>\n",
              "    <tr>\n",
              "      <th>2</th>\n",
              "      <td>324.json</td>\n",
              "      <td>mostly-true</td>\n",
              "      <td>Hillary Clinton agrees with John McCain \"by vo...</td>\n",
              "      <td>foreign-policy</td>\n",
              "      <td>barack-obama</td>\n",
              "      <td>President</td>\n",
              "      <td>Illinois</td>\n",
              "      <td>democrat</td>\n",
              "      <td>70.0</td>\n",
              "      <td>71.0</td>\n",
              "      <td>160.0</td>\n",
              "      <td>163.0</td>\n",
              "      <td>9.0</td>\n",
              "      <td>Denver</td>\n",
              "    </tr>\n",
              "    <tr>\n",
              "      <th>3</th>\n",
              "      <td>1123.json</td>\n",
              "      <td>false</td>\n",
              "      <td>Health care reform legislation is likely to ma...</td>\n",
              "      <td>health-care</td>\n",
              "      <td>blog-posting</td>\n",
              "      <td>NaN</td>\n",
              "      <td>NaN</td>\n",
              "      <td>none</td>\n",
              "      <td>7.0</td>\n",
              "      <td>19.0</td>\n",
              "      <td>3.0</td>\n",
              "      <td>5.0</td>\n",
              "      <td>44.0</td>\n",
              "      <td>a news release</td>\n",
              "    </tr>\n",
              "    <tr>\n",
              "      <th>4</th>\n",
              "      <td>9028.json</td>\n",
              "      <td>half-true</td>\n",
              "      <td>The economic turnaround started at the end of ...</td>\n",
              "      <td>economy,jobs</td>\n",
              "      <td>charlie-crist</td>\n",
              "      <td>NaN</td>\n",
              "      <td>Florida</td>\n",
              "      <td>democrat</td>\n",
              "      <td>15.0</td>\n",
              "      <td>9.0</td>\n",
              "      <td>20.0</td>\n",
              "      <td>19.0</td>\n",
              "      <td>2.0</td>\n",
              "      <td>an interview on CNN</td>\n",
              "    </tr>\n",
              "  </tbody>\n",
              "</table>\n",
              "</div>"
            ],
            "text/plain": [
              "      Json_Id        Label                                          Statement  \\\n",
              "0   2635.json        false  Says the Annies List political group supports ...   \n",
              "1  10540.json    half-true  When did the decline of coal start? It started...   \n",
              "2    324.json  mostly-true  Hillary Clinton agrees with John McCain \"by vo...   \n",
              "3   1123.json        false  Health care reform legislation is likely to ma...   \n",
              "4   9028.json    half-true  The economic turnaround started at the end of ...   \n",
              "\n",
              "                              Subject         Speaker     Speaker'sJobTitle  \\\n",
              "0                            abortion    dwayne-bohac  State representative   \n",
              "1  energy,history,job-accomplishments  scott-surovell        State delegate   \n",
              "2                      foreign-policy    barack-obama             President   \n",
              "3                         health-care    blog-posting                   NaN   \n",
              "4                        economy,jobs   charlie-crist                   NaN   \n",
              "\n",
              "  StateInfo partyAffiliation  BarelyTrueCounts  FalseCounts  HalfTrueCounts  \\\n",
              "0     Texas       republican               0.0          1.0             0.0   \n",
              "1  Virginia         democrat               0.0          0.0             1.0   \n",
              "2  Illinois         democrat              70.0         71.0           160.0   \n",
              "3       NaN             none               7.0         19.0             3.0   \n",
              "4   Florida         democrat              15.0          9.0            20.0   \n",
              "\n",
              "   MostlyTrueCounts  PantsOnFireCounts              Context  \n",
              "0               0.0                0.0             a mailer  \n",
              "1               1.0                0.0      a floor speech.  \n",
              "2             163.0                9.0               Denver  \n",
              "3               5.0               44.0       a news release  \n",
              "4              19.0                2.0  an interview on CNN  "
            ]
          },
          "metadata": {
            "tags": []
          },
          "execution_count": 10
        }
      ]
    },
    {
      "cell_type": "markdown",
      "metadata": {
        "id": "uvpDoFhCwYcD",
        "colab_type": "text"
      },
      "source": [
        "### Simplifying the label contents"
      ]
    },
    {
      "cell_type": "code",
      "metadata": {
        "id": "VxZkul5DwYcE",
        "colab_type": "code",
        "colab": {},
        "outputId": "fd83212a-de77-4442-8096-bf1cf9f755c4"
      },
      "source": [
        "true_labels = ['original','true','mostly-true','half-true']\n",
        "false_labels = ['barely-true','false','pants-fire']\n",
        "def simplify_label(input_label):\n",
        "    if input_label in true_labels:\n",
        "        return 1\n",
        "    else:\n",
        "        return 0\n",
        "labelcolname = 'Encoded_Label'\n",
        "\n",
        "train_news[labelcolname] = train_news.apply(lambda row: simplify_label(row['Label']), axis=1)\n",
        "test_news[labelcolname] = test_news.apply(lambda row: simplify_label(row['Label']), axis=1)\n",
        "valid_news[labelcolname] = valid_news.apply(lambda row: simplify_label(row['Label']), axis=1)\n",
        "train_news.head()"
      ],
      "execution_count": 0,
      "outputs": [
        {
          "output_type": "execute_result",
          "data": {
            "text/html": [
              "<div>\n",
              "<style scoped>\n",
              "    .dataframe tbody tr th:only-of-type {\n",
              "        vertical-align: middle;\n",
              "    }\n",
              "\n",
              "    .dataframe tbody tr th {\n",
              "        vertical-align: top;\n",
              "    }\n",
              "\n",
              "    .dataframe thead th {\n",
              "        text-align: right;\n",
              "    }\n",
              "</style>\n",
              "<table border=\"1\" class=\"dataframe\">\n",
              "  <thead>\n",
              "    <tr style=\"text-align: right;\">\n",
              "      <th></th>\n",
              "      <th>Json_Id</th>\n",
              "      <th>Label</th>\n",
              "      <th>Statement</th>\n",
              "      <th>Subject</th>\n",
              "      <th>Speaker</th>\n",
              "      <th>Speaker'sJobTitle</th>\n",
              "      <th>StateInfo</th>\n",
              "      <th>partyAffiliation</th>\n",
              "      <th>BarelyTrueCounts</th>\n",
              "      <th>FalseCounts</th>\n",
              "      <th>HalfTrueCounts</th>\n",
              "      <th>MostlyTrueCounts</th>\n",
              "      <th>PantsOnFireCounts</th>\n",
              "      <th>Context</th>\n",
              "      <th>Encoded_Label</th>\n",
              "    </tr>\n",
              "  </thead>\n",
              "  <tbody>\n",
              "    <tr>\n",
              "      <th>0</th>\n",
              "      <td>2635.json</td>\n",
              "      <td>false</td>\n",
              "      <td>Says the Annies List political group supports ...</td>\n",
              "      <td>abortion</td>\n",
              "      <td>dwayne-bohac</td>\n",
              "      <td>State representative</td>\n",
              "      <td>Texas</td>\n",
              "      <td>republican</td>\n",
              "      <td>0.0</td>\n",
              "      <td>1.0</td>\n",
              "      <td>0.0</td>\n",
              "      <td>0.0</td>\n",
              "      <td>0.0</td>\n",
              "      <td>a mailer</td>\n",
              "      <td>0</td>\n",
              "    </tr>\n",
              "    <tr>\n",
              "      <th>1</th>\n",
              "      <td>10540.json</td>\n",
              "      <td>half-true</td>\n",
              "      <td>When did the decline of coal start? It started...</td>\n",
              "      <td>energy,history,job-accomplishments</td>\n",
              "      <td>scott-surovell</td>\n",
              "      <td>State delegate</td>\n",
              "      <td>Virginia</td>\n",
              "      <td>democrat</td>\n",
              "      <td>0.0</td>\n",
              "      <td>0.0</td>\n",
              "      <td>1.0</td>\n",
              "      <td>1.0</td>\n",
              "      <td>0.0</td>\n",
              "      <td>a floor speech.</td>\n",
              "      <td>1</td>\n",
              "    </tr>\n",
              "    <tr>\n",
              "      <th>2</th>\n",
              "      <td>324.json</td>\n",
              "      <td>mostly-true</td>\n",
              "      <td>Hillary Clinton agrees with John McCain \"by vo...</td>\n",
              "      <td>foreign-policy</td>\n",
              "      <td>barack-obama</td>\n",
              "      <td>President</td>\n",
              "      <td>Illinois</td>\n",
              "      <td>democrat</td>\n",
              "      <td>70.0</td>\n",
              "      <td>71.0</td>\n",
              "      <td>160.0</td>\n",
              "      <td>163.0</td>\n",
              "      <td>9.0</td>\n",
              "      <td>Denver</td>\n",
              "      <td>1</td>\n",
              "    </tr>\n",
              "    <tr>\n",
              "      <th>3</th>\n",
              "      <td>1123.json</td>\n",
              "      <td>false</td>\n",
              "      <td>Health care reform legislation is likely to ma...</td>\n",
              "      <td>health-care</td>\n",
              "      <td>blog-posting</td>\n",
              "      <td>NaN</td>\n",
              "      <td>NaN</td>\n",
              "      <td>none</td>\n",
              "      <td>7.0</td>\n",
              "      <td>19.0</td>\n",
              "      <td>3.0</td>\n",
              "      <td>5.0</td>\n",
              "      <td>44.0</td>\n",
              "      <td>a news release</td>\n",
              "      <td>0</td>\n",
              "    </tr>\n",
              "    <tr>\n",
              "      <th>4</th>\n",
              "      <td>9028.json</td>\n",
              "      <td>half-true</td>\n",
              "      <td>The economic turnaround started at the end of ...</td>\n",
              "      <td>economy,jobs</td>\n",
              "      <td>charlie-crist</td>\n",
              "      <td>NaN</td>\n",
              "      <td>Florida</td>\n",
              "      <td>democrat</td>\n",
              "      <td>15.0</td>\n",
              "      <td>9.0</td>\n",
              "      <td>20.0</td>\n",
              "      <td>19.0</td>\n",
              "      <td>2.0</td>\n",
              "      <td>an interview on CNN</td>\n",
              "      <td>1</td>\n",
              "    </tr>\n",
              "  </tbody>\n",
              "</table>\n",
              "</div>"
            ],
            "text/plain": [
              "      Json_Id        Label                                          Statement  \\\n",
              "0   2635.json        false  Says the Annies List political group supports ...   \n",
              "1  10540.json    half-true  When did the decline of coal start? It started...   \n",
              "2    324.json  mostly-true  Hillary Clinton agrees with John McCain \"by vo...   \n",
              "3   1123.json        false  Health care reform legislation is likely to ma...   \n",
              "4   9028.json    half-true  The economic turnaround started at the end of ...   \n",
              "\n",
              "                              Subject         Speaker     Speaker'sJobTitle  \\\n",
              "0                            abortion    dwayne-bohac  State representative   \n",
              "1  energy,history,job-accomplishments  scott-surovell        State delegate   \n",
              "2                      foreign-policy    barack-obama             President   \n",
              "3                         health-care    blog-posting                   NaN   \n",
              "4                        economy,jobs   charlie-crist                   NaN   \n",
              "\n",
              "  StateInfo partyAffiliation  BarelyTrueCounts  FalseCounts  HalfTrueCounts  \\\n",
              "0     Texas       republican               0.0          1.0             0.0   \n",
              "1  Virginia         democrat               0.0          0.0             1.0   \n",
              "2  Illinois         democrat              70.0         71.0           160.0   \n",
              "3       NaN             none               7.0         19.0             3.0   \n",
              "4   Florida         democrat              15.0          9.0            20.0   \n",
              "\n",
              "   MostlyTrueCounts  PantsOnFireCounts              Context  Encoded_Label  \n",
              "0               0.0                0.0             a mailer              0  \n",
              "1               1.0                0.0      a floor speech.              1  \n",
              "2             163.0                9.0               Denver              1  \n",
              "3               5.0               44.0       a news release              0  \n",
              "4              19.0                2.0  an interview on CNN              1  "
            ]
          },
          "metadata": {
            "tags": []
          },
          "execution_count": 11
        }
      ]
    },
    {
      "cell_type": "markdown",
      "metadata": {
        "id": "LnCOWTaqwYcH",
        "colab_type": "text"
      },
      "source": [
        "## Data Preprocessing\n",
        "We will perform the following steps:\n",
        "\n",
        "* All stopwords are removed.\n",
        "* Words that have fewer than 3 characters are removed.\n",
        "* Words are lemmatized — words in third person are changed to first person and verbs in past and future tenses are changed into present.\n",
        "* Words are stemmed — words are reduced to their root form.\n",
        "* Tokenization: Split the text into sentences and the sentences into words. Lowercase the words and remove punctuation."
      ]
    },
    {
      "cell_type": "code",
      "metadata": {
        "id": "PhtK00ctwYcI",
        "colab_type": "code",
        "colab": {},
        "outputId": "e78e2786-21e4-4d3b-f25a-6e5070b9437d"
      },
      "source": [
        "import string\n",
        "import gensim\n",
        "from gensim.utils import simple_preprocess\n",
        "from gensim.parsing.preprocessing import STOPWORDS\n",
        "from nltk.corpus import stopwords\n",
        "from nltk.stem import WordNetLemmatizer, SnowballStemmer\n",
        "from nltk.stem.porter import *\n",
        "import numpy as np\n",
        "np.random.seed(2018)\n",
        "import nltk\n",
        "nltk.download('wordnet')\n",
        "stemmer = SnowballStemmer('english')"
      ],
      "execution_count": 0,
      "outputs": [
        {
          "output_type": "stream",
          "text": [
            "[nltk_data] Downloading package wordnet to\n",
            "[nltk_data]     C:\\Users\\viswanath.kambam\\AppData\\Roaming\\nltk_data...\n",
            "[nltk_data]   Package wordnet is already up-to-date!\n"
          ],
          "name": "stderr"
        }
      ]
    },
    {
      "cell_type": "markdown",
      "metadata": {
        "id": "i2WW4fUdwYcL",
        "colab_type": "text"
      },
      "source": [
        "### Remove Stopwords and shortwords using nltk stopwords"
      ]
    },
    {
      "cell_type": "code",
      "metadata": {
        "id": "2wA2hsJUwYcL",
        "colab_type": "code",
        "colab": {}
      },
      "source": [
        "sw = stopwords.words('english')\n",
        "#Remove stop words\n",
        "def remove_stop_and_short_words(text):\n",
        "    text = [word.lower() for word in text.split() if (word.lower() not in sw) and (len(word)>3)]\n",
        "    return \" \".join(text)\n",
        "\n",
        "def remove_stop_and_short_words_new(text):\n",
        "    result = []\n",
        "    for token in gensim.utils.simple_preprocess(text):\n",
        "        if token not in gensim.parsing.preprocessing.STOPWORDS and len(token) > 3:\n",
        "            result.append(lemmatize_stemming(token))\n",
        "    return \" \".join(result)"
      ],
      "execution_count": 0,
      "outputs": []
    },
    {
      "cell_type": "markdown",
      "metadata": {
        "id": "McP9DIVzwYcP",
        "colab_type": "text"
      },
      "source": [
        "### Perform lemmatization and Stemming process using WordNetLemmatizer"
      ]
    },
    {
      "cell_type": "code",
      "metadata": {
        "id": "skl2JMfhwYcQ",
        "colab_type": "code",
        "colab": {}
      },
      "source": [
        "def lemmatize_stemming(text):\n",
        "    return stemmer.stem(WordNetLemmatizer().lemmatize(text, pos='v'))\n",
        "\n",
        "#Removes punctuations from text data\n",
        "def remove_punctuation(text):\n",
        "    translator = str.maketrans('', '', string.punctuation)\n",
        "    return text.translate(translator)"
      ],
      "execution_count": 0,
      "outputs": []
    },
    {
      "cell_type": "markdown",
      "metadata": {
        "id": "VxR9aOAZwYcS",
        "colab_type": "text"
      },
      "source": [
        "### Preprocess text function"
      ]
    },
    {
      "cell_type": "code",
      "metadata": {
        "id": "EgRssGEwwYcS",
        "colab_type": "code",
        "colab": {}
      },
      "source": [
        "def process_data(text):\n",
        "    text = remove_stop_and_short_words_new(text)\n",
        "    text = lemmatize_stemming(text)\n",
        "    text = remove_punctuation(text)\n",
        "    return text\n",
        "\n",
        "def preprocess(text):\n",
        "    #result =[]\n",
        "    #result.append(process_data(text).split())\n",
        "    return process_data(text).split()"
      ],
      "execution_count": 0,
      "outputs": []
    },
    {
      "cell_type": "markdown",
      "metadata": {
        "id": "LtGabiBVwYcU",
        "colab_type": "text"
      },
      "source": [
        "### Just testing the preprocess "
      ]
    },
    {
      "cell_type": "code",
      "metadata": {
        "id": "MvRixaXMwYcV",
        "colab_type": "code",
        "colab": {},
        "outputId": "895bc6f4-0aee-413b-caec-a88e668c1a9f"
      },
      "source": [
        "print (process_data(train_news['Statement'][0]))\n",
        "#process_data(train_news['Statement'][4])\n",
        "preprocess(train_news['Statement'][4])"
      ],
      "execution_count": 0,
      "outputs": [
        {
          "output_type": "stream",
          "text": [
            "say anni list polit group support trimest abort demand\n"
          ],
          "name": "stdout"
        },
        {
          "output_type": "execute_result",
          "data": {
            "text/plain": [
              "['econom', 'turnaround', 'start', 'term']"
            ]
          },
          "metadata": {
            "tags": []
          },
          "execution_count": 22
        }
      ]
    },
    {
      "cell_type": "code",
      "metadata": {
        "id": "QHEc_LLOwYcX",
        "colab_type": "code",
        "colab": {},
        "outputId": "2cd2e20c-52bd-4243-fea5-9650f091037e"
      },
      "source": [
        "processedheadlinecolname = 'processed_Statement'\n",
        "\n",
        "train_news['index'] = train_news.index\n",
        "train_news[processedheadlinecolname] = train_news.apply(lambda row: process_data(row['Statement']), axis=1)\n",
        "train_news.head()\n",
        "\n",
        "test_news['index'] = test_news.index\n",
        "test_news[processedheadlinecolname] = test_news.apply(lambda row: process_data(row['Statement']), axis=1)\n",
        "test_news.head()\n",
        "\n",
        "valid_news['index'] = valid_news.index\n",
        "valid_news[processedheadlinecolname] = valid_news.apply(lambda row: process_data(row['Statement']), axis=1)\n",
        "valid_news.head()"
      ],
      "execution_count": 0,
      "outputs": [
        {
          "output_type": "execute_result",
          "data": {
            "text/html": [
              "<div>\n",
              "<style scoped>\n",
              "    .dataframe tbody tr th:only-of-type {\n",
              "        vertical-align: middle;\n",
              "    }\n",
              "\n",
              "    .dataframe tbody tr th {\n",
              "        vertical-align: top;\n",
              "    }\n",
              "\n",
              "    .dataframe thead th {\n",
              "        text-align: right;\n",
              "    }\n",
              "</style>\n",
              "<table border=\"1\" class=\"dataframe\">\n",
              "  <thead>\n",
              "    <tr style=\"text-align: right;\">\n",
              "      <th></th>\n",
              "      <th>Json_Id</th>\n",
              "      <th>Label</th>\n",
              "      <th>Statement</th>\n",
              "      <th>Subject</th>\n",
              "      <th>Speaker</th>\n",
              "      <th>Speaker'sJobTitle</th>\n",
              "      <th>StateInfo</th>\n",
              "      <th>partyAffiliation</th>\n",
              "      <th>BarelyTrueCounts</th>\n",
              "      <th>FalseCounts</th>\n",
              "      <th>HalfTrueCounts</th>\n",
              "      <th>MostlyTrueCounts</th>\n",
              "      <th>PantsOnFireCounts</th>\n",
              "      <th>Context</th>\n",
              "      <th>Encoded_Label</th>\n",
              "      <th>index</th>\n",
              "      <th>processed_Statement</th>\n",
              "    </tr>\n",
              "  </thead>\n",
              "  <tbody>\n",
              "    <tr>\n",
              "      <th>0</th>\n",
              "      <td>12134.json</td>\n",
              "      <td>barely-true</td>\n",
              "      <td>We have less Americans working now than in the...</td>\n",
              "      <td>economy,jobs</td>\n",
              "      <td>vicky-hartzler</td>\n",
              "      <td>U.S. Representative</td>\n",
              "      <td>Missouri</td>\n",
              "      <td>republican</td>\n",
              "      <td>1</td>\n",
              "      <td>0</td>\n",
              "      <td>1</td>\n",
              "      <td>0</td>\n",
              "      <td>0</td>\n",
              "      <td>an interview with ABC17 News</td>\n",
              "      <td>0</td>\n",
              "      <td>0</td>\n",
              "      <td>american work</td>\n",
              "    </tr>\n",
              "    <tr>\n",
              "      <th>1</th>\n",
              "      <td>238.json</td>\n",
              "      <td>pants-fire</td>\n",
              "      <td>When Obama was sworn into office, he DID NOT u...</td>\n",
              "      <td>obama-birth-certificate,religion</td>\n",
              "      <td>chain-email</td>\n",
              "      <td>NaN</td>\n",
              "      <td>NaN</td>\n",
              "      <td>none</td>\n",
              "      <td>11</td>\n",
              "      <td>43</td>\n",
              "      <td>8</td>\n",
              "      <td>5</td>\n",
              "      <td>105</td>\n",
              "      <td>NaN</td>\n",
              "      <td>0</td>\n",
              "      <td>1</td>\n",
              "      <td>obama swear offic holi bibl instead kuran equi...</td>\n",
              "    </tr>\n",
              "    <tr>\n",
              "      <th>2</th>\n",
              "      <td>7891.json</td>\n",
              "      <td>false</td>\n",
              "      <td>Says Having organizations parading as being so...</td>\n",
              "      <td>campaign-finance,congress,taxes</td>\n",
              "      <td>earl-blumenauer</td>\n",
              "      <td>U.S. representative</td>\n",
              "      <td>Oregon</td>\n",
              "      <td>democrat</td>\n",
              "      <td>0</td>\n",
              "      <td>1</td>\n",
              "      <td>1</td>\n",
              "      <td>1</td>\n",
              "      <td>0</td>\n",
              "      <td>a U.S. Ways and Means hearing</td>\n",
              "      <td>0</td>\n",
              "      <td>2</td>\n",
              "      <td>say have organ parad social welfar organ invol...</td>\n",
              "    </tr>\n",
              "    <tr>\n",
              "      <th>3</th>\n",
              "      <td>8169.json</td>\n",
              "      <td>half-true</td>\n",
              "      <td>Says nearly half of Oregons children are poor.</td>\n",
              "      <td>poverty</td>\n",
              "      <td>jim-francesconi</td>\n",
              "      <td>Member of the State Board of Higher Education</td>\n",
              "      <td>Oregon</td>\n",
              "      <td>none</td>\n",
              "      <td>0</td>\n",
              "      <td>1</td>\n",
              "      <td>1</td>\n",
              "      <td>1</td>\n",
              "      <td>0</td>\n",
              "      <td>an opinion article</td>\n",
              "      <td>1</td>\n",
              "      <td>3</td>\n",
              "      <td>say near half oregon children poor</td>\n",
              "    </tr>\n",
              "    <tr>\n",
              "      <th>4</th>\n",
              "      <td>929.json</td>\n",
              "      <td>half-true</td>\n",
              "      <td>On attacks by Republicans that various program...</td>\n",
              "      <td>economy,stimulus</td>\n",
              "      <td>barack-obama</td>\n",
              "      <td>President</td>\n",
              "      <td>Illinois</td>\n",
              "      <td>democrat</td>\n",
              "      <td>70</td>\n",
              "      <td>71</td>\n",
              "      <td>160</td>\n",
              "      <td>163</td>\n",
              "      <td>9</td>\n",
              "      <td>interview with CBS News</td>\n",
              "      <td>1</td>\n",
              "      <td>4</td>\n",
              "      <td>attack republican program econom stimulus plan...</td>\n",
              "    </tr>\n",
              "  </tbody>\n",
              "</table>\n",
              "</div>"
            ],
            "text/plain": [
              "      Json_Id        Label                                          Statement  \\\n",
              "0  12134.json  barely-true  We have less Americans working now than in the...   \n",
              "1    238.json   pants-fire  When Obama was sworn into office, he DID NOT u...   \n",
              "2   7891.json        false  Says Having organizations parading as being so...   \n",
              "3   8169.json    half-true     Says nearly half of Oregons children are poor.   \n",
              "4    929.json    half-true  On attacks by Republicans that various program...   \n",
              "\n",
              "                            Subject          Speaker  \\\n",
              "0                      economy,jobs   vicky-hartzler   \n",
              "1  obama-birth-certificate,religion      chain-email   \n",
              "2   campaign-finance,congress,taxes  earl-blumenauer   \n",
              "3                           poverty  jim-francesconi   \n",
              "4                  economy,stimulus     barack-obama   \n",
              "\n",
              "                               Speaker'sJobTitle StateInfo partyAffiliation  \\\n",
              "0                            U.S. Representative  Missouri       republican   \n",
              "1                                            NaN       NaN             none   \n",
              "2                            U.S. representative    Oregon         democrat   \n",
              "3  Member of the State Board of Higher Education    Oregon             none   \n",
              "4                                      President  Illinois         democrat   \n",
              "\n",
              "   BarelyTrueCounts  FalseCounts  HalfTrueCounts  MostlyTrueCounts  \\\n",
              "0                 1            0               1                 0   \n",
              "1                11           43               8                 5   \n",
              "2                 0            1               1                 1   \n",
              "3                 0            1               1                 1   \n",
              "4                70           71             160               163   \n",
              "\n",
              "   PantsOnFireCounts                        Context  Encoded_Label  index  \\\n",
              "0                  0   an interview with ABC17 News              0      0   \n",
              "1                105                            NaN              0      1   \n",
              "2                  0  a U.S. Ways and Means hearing              0      2   \n",
              "3                  0             an opinion article              1      3   \n",
              "4                  9        interview with CBS News              1      4   \n",
              "\n",
              "                                 processed_Statement  \n",
              "0                                      american work  \n",
              "1  obama swear offic holi bibl instead kuran equi...  \n",
              "2  say have organ parad social welfar organ invol...  \n",
              "3                 say near half oregon children poor  \n",
              "4  attack republican program econom stimulus plan...  "
            ]
          },
          "metadata": {
            "tags": []
          },
          "execution_count": 23
        }
      ]
    },
    {
      "cell_type": "markdown",
      "metadata": {
        "id": "auwjrKnqwYca",
        "colab_type": "text"
      },
      "source": [
        "### Displaying the Speaker's Job Title data in different format using WordCloud\n",
        "This gives us the better display of the contents of column "
      ]
    },
    {
      "cell_type": "code",
      "metadata": {
        "id": "e6jiA6PDwYca",
        "colab_type": "code",
        "colab": {},
        "outputId": "f6b2b9cf-c81d-4cd7-a7eb-2f8ffbec33d2"
      },
      "source": [
        "create_word_cloud(train_news,'Speaker\\'sJobTitle','WordCloud for Speaker\\'s Job Title against Train')"
      ],
      "execution_count": 0,
      "outputs": [
        {
          "output_type": "display_data",
          "data": {
            "image/png": "[encoded data removed]",
            "text/plain": [
              "<Figure size 864x576 with 1 Axes>"
            ]
          },
          "metadata": {
            "tags": [],
            "needs_background": "light"
          }
        }
      ]
    },
    {
      "cell_type": "code",
      "metadata": {
        "id": "XjBt6UFIwYcd",
        "colab_type": "code",
        "colab": {},
        "outputId": "32c1c4d7-0c4c-446a-ec43-59f00265ade2"
      },
      "source": [
        "create_word_cloud(test_news,'Speaker\\'sJobTitle','WordCloud for Speaker\\'s Job Title against Test')"
      ],
      "execution_count": 0,
      "outputs": [
        {
          "output_type": "display_data",
          "data": {
            "image/png": "[encoded data removed]",
            "text/plain": [
              "<Figure size 864x576 with 1 Axes>"
            ]
          },
          "metadata": {
            "tags": [],
            "needs_background": "light"
          }
        }
      ]
    },
    {
      "cell_type": "code",
      "metadata": {
        "id": "kS1KH2A_wYcg",
        "colab_type": "code",
        "colab": {},
        "outputId": "86cbc2bc-edf2-470c-d30e-4ced64d6cb87"
      },
      "source": [
        "create_word_cloud(valid_news,'Speaker\\'sJobTitle','WordCloud for Speaker\\'s Job Title against Valid')"
      ],
      "execution_count": 0,
      "outputs": [
        {
          "output_type": "display_data",
          "data": {
            "image/png": "[encoded data removed]",
            "text/plain": [
              "<Figure size 864x576 with 1 Axes>"
            ]
          },
          "metadata": {
            "tags": [],
            "needs_background": "light"
          }
        }
      ]
    },
    {
      "cell_type": "code",
      "metadata": {
        "id": "7C2ktGuiwYcm",
        "colab_type": "code",
        "colab": {}
      },
      "source": [
        "train_news.to_csv(\"input_data/enriched_data/train_cleantext.csv\", sep=',')\n",
        "test_news.to_csv(\"input_data/enriched_data/test_cleantext.csv\", sep=',')\n",
        "valid_news.to_csv(\"input_data/enriched_data/valid_cleantext.csv\", sep=',')"
      ],
      "execution_count": 0,
      "outputs": []
    },
    {
      "cell_type": "markdown",
      "metadata": {
        "id": "cAnOyq3UwYcs",
        "colab_type": "text"
      },
      "source": [
        "### Column choosed for Biased Factor\n",
        "\n",
        "chose Speakers job title as a parameter to find information that how much job title can affect the label values.For example if the Job title is Senaotor, then the graph between speakers job title vs label verifies whether speaker is saying the truth or not"
      ]
    },
    {
      "cell_type": "code",
      "metadata": {
        "id": "zwFJ3cZjwYcv",
        "colab_type": "code",
        "colab": {}
      },
      "source": [
        "X_train=train_news[\"Speaker'sJobTitle\"]\n",
        "Y_train=train_news[\"Label\"]"
      ],
      "execution_count": 0,
      "outputs": []
    },
    {
      "cell_type": "markdown",
      "metadata": {
        "id": "e11_I7mRwYcz",
        "colab_type": "text"
      },
      "source": [
        "#### Exploring data through cross tabulation"
      ]
    },
    {
      "cell_type": "code",
      "metadata": {
        "id": "AywRpFs7wYc0",
        "colab_type": "code",
        "colab": {}
      },
      "source": [
        "CrossTab = pd.crosstab(X_train,Y_train,margins=True)"
      ],
      "execution_count": 0,
      "outputs": []
    },
    {
      "cell_type": "code",
      "metadata": {
        "id": "mSK6YyKiwYc6",
        "colab_type": "code",
        "colab": {},
        "outputId": "5844463e-741c-4b60-c7e8-1d5c0c9e98ab"
      },
      "source": [
        "CrossTab.sort_values('All', ascending=False)"
      ],
      "execution_count": 0,
      "outputs": [
        {
          "output_type": "execute_result",
          "data": {
            "text/html": [
              "<div>\n",
              "<style scoped>\n",
              "    .dataframe tbody tr th:only-of-type {\n",
              "        vertical-align: middle;\n",
              "    }\n",
              "\n",
              "    .dataframe tbody tr th {\n",
              "        vertical-align: top;\n",
              "    }\n",
              "\n",
              "    .dataframe thead th {\n",
              "        text-align: right;\n",
              "    }\n",
              "</style>\n",
              "<table border=\"1\" class=\"dataframe\">\n",
              "  <thead>\n",
              "    <tr style=\"text-align: right;\">\n",
              "      <th>Label</th>\n",
              "      <th>barely-true</th>\n",
              "      <th>false</th>\n",
              "      <th>half-true</th>\n",
              "      <th>mostly-true</th>\n",
              "      <th>pants-fire</th>\n",
              "      <th>true</th>\n",
              "      <th>All</th>\n",
              "    </tr>\n",
              "    <tr>\n",
              "      <th>Speaker'sJobTitle</th>\n",
              "      <th></th>\n",
              "      <th></th>\n",
              "      <th></th>\n",
              "      <th></th>\n",
              "      <th></th>\n",
              "      <th></th>\n",
              "      <th></th>\n",
              "    </tr>\n",
              "  </thead>\n",
              "  <tbody>\n",
              "    <tr>\n",
              "      <th>All</th>\n",
              "      <td>1141</td>\n",
              "      <td>1435</td>\n",
              "      <td>1524</td>\n",
              "      <td>1471</td>\n",
              "      <td>503</td>\n",
              "      <td>1269</td>\n",
              "      <td>7343</td>\n",
              "    </tr>\n",
              "    <tr>\n",
              "      <th>President</th>\n",
              "      <td>56</td>\n",
              "      <td>68</td>\n",
              "      <td>125</td>\n",
              "      <td>131</td>\n",
              "      <td>8</td>\n",
              "      <td>104</td>\n",
              "      <td>492</td>\n",
              "    </tr>\n",
              "    <tr>\n",
              "      <th>U.S. Senator</th>\n",
              "      <td>72</td>\n",
              "      <td>66</td>\n",
              "      <td>104</td>\n",
              "      <td>124</td>\n",
              "      <td>6</td>\n",
              "      <td>107</td>\n",
              "      <td>479</td>\n",
              "    </tr>\n",
              "    <tr>\n",
              "      <th>Governor</th>\n",
              "      <td>65</td>\n",
              "      <td>75</td>\n",
              "      <td>93</td>\n",
              "      <td>65</td>\n",
              "      <td>34</td>\n",
              "      <td>59</td>\n",
              "      <td>391</td>\n",
              "    </tr>\n",
              "    <tr>\n",
              "      <th>President-Elect</th>\n",
              "      <td>48</td>\n",
              "      <td>101</td>\n",
              "      <td>39</td>\n",
              "      <td>27</td>\n",
              "      <td>52</td>\n",
              "      <td>6</td>\n",
              "      <td>273</td>\n",
              "    </tr>\n",
              "    <tr>\n",
              "      <th>U.S. senator</th>\n",
              "      <td>38</td>\n",
              "      <td>51</td>\n",
              "      <td>56</td>\n",
              "      <td>56</td>\n",
              "      <td>9</td>\n",
              "      <td>53</td>\n",
              "      <td>263</td>\n",
              "    </tr>\n",
              "    <tr>\n",
              "      <th>Presidential candidate</th>\n",
              "      <td>33</td>\n",
              "      <td>29</td>\n",
              "      <td>56</td>\n",
              "      <td>70</td>\n",
              "      <td>6</td>\n",
              "      <td>60</td>\n",
              "      <td>254</td>\n",
              "    </tr>\n",
              "    <tr>\n",
              "      <th>Former governor</th>\n",
              "      <td>27</td>\n",
              "      <td>28</td>\n",
              "      <td>47</td>\n",
              "      <td>27</td>\n",
              "      <td>17</td>\n",
              "      <td>30</td>\n",
              "      <td>176</td>\n",
              "    </tr>\n",
              "    <tr>\n",
              "      <th>U.S. Representative</th>\n",
              "      <td>38</td>\n",
              "      <td>27</td>\n",
              "      <td>43</td>\n",
              "      <td>27</td>\n",
              "      <td>8</td>\n",
              "      <td>29</td>\n",
              "      <td>172</td>\n",
              "    </tr>\n",
              "    <tr>\n",
              "      <th>Milwaukee County Executive</th>\n",
              "      <td>22</td>\n",
              "      <td>35</td>\n",
              "      <td>29</td>\n",
              "      <td>34</td>\n",
              "      <td>8</td>\n",
              "      <td>21</td>\n",
              "      <td>149</td>\n",
              "    </tr>\n",
              "    <tr>\n",
              "      <th>Senator</th>\n",
              "      <td>40</td>\n",
              "      <td>33</td>\n",
              "      <td>24</td>\n",
              "      <td>22</td>\n",
              "      <td>9</td>\n",
              "      <td>19</td>\n",
              "      <td>147</td>\n",
              "    </tr>\n",
              "    <tr>\n",
              "      <th>State Senator</th>\n",
              "      <td>14</td>\n",
              "      <td>22</td>\n",
              "      <td>28</td>\n",
              "      <td>17</td>\n",
              "      <td>7</td>\n",
              "      <td>20</td>\n",
              "      <td>108</td>\n",
              "    </tr>\n",
              "    <tr>\n",
              "      <th>U.S. representative</th>\n",
              "      <td>16</td>\n",
              "      <td>19</td>\n",
              "      <td>20</td>\n",
              "      <td>19</td>\n",
              "      <td>4</td>\n",
              "      <td>25</td>\n",
              "      <td>103</td>\n",
              "    </tr>\n",
              "    <tr>\n",
              "      <th>U.S. House of Representatives</th>\n",
              "      <td>17</td>\n",
              "      <td>27</td>\n",
              "      <td>18</td>\n",
              "      <td>24</td>\n",
              "      <td>5</td>\n",
              "      <td>11</td>\n",
              "      <td>102</td>\n",
              "    </tr>\n",
              "    <tr>\n",
              "      <th>Attorney</th>\n",
              "      <td>13</td>\n",
              "      <td>21</td>\n",
              "      <td>22</td>\n",
              "      <td>12</td>\n",
              "      <td>5</td>\n",
              "      <td>8</td>\n",
              "      <td>81</td>\n",
              "    </tr>\n",
              "    <tr>\n",
              "      <th>Congressman</th>\n",
              "      <td>10</td>\n",
              "      <td>24</td>\n",
              "      <td>17</td>\n",
              "      <td>14</td>\n",
              "      <td>2</td>\n",
              "      <td>13</td>\n",
              "      <td>80</td>\n",
              "    </tr>\n",
              "    <tr>\n",
              "      <th>Governor of New Jersey</th>\n",
              "      <td>8</td>\n",
              "      <td>17</td>\n",
              "      <td>16</td>\n",
              "      <td>14</td>\n",
              "      <td>5</td>\n",
              "      <td>18</td>\n",
              "      <td>78</td>\n",
              "    </tr>\n",
              "    <tr>\n",
              "      <th>Social media posting</th>\n",
              "      <td>12</td>\n",
              "      <td>12</td>\n",
              "      <td>13</td>\n",
              "      <td>9</td>\n",
              "      <td>26</td>\n",
              "      <td>6</td>\n",
              "      <td>78</td>\n",
              "    </tr>\n",
              "    <tr>\n",
              "      <th>Co-host on CNN's \"Crossfire\"</th>\n",
              "      <td>14</td>\n",
              "      <td>15</td>\n",
              "      <td>20</td>\n",
              "      <td>7</td>\n",
              "      <td>10</td>\n",
              "      <td>7</td>\n",
              "      <td>73</td>\n",
              "    </tr>\n",
              "    <tr>\n",
              "      <th>State Representative</th>\n",
              "      <td>10</td>\n",
              "      <td>17</td>\n",
              "      <td>15</td>\n",
              "      <td>15</td>\n",
              "      <td>5</td>\n",
              "      <td>10</td>\n",
              "      <td>72</td>\n",
              "    </tr>\n",
              "    <tr>\n",
              "      <th>State representative</th>\n",
              "      <td>12</td>\n",
              "      <td>13</td>\n",
              "      <td>11</td>\n",
              "      <td>10</td>\n",
              "      <td>6</td>\n",
              "      <td>14</td>\n",
              "      <td>66</td>\n",
              "    </tr>\n",
              "    <tr>\n",
              "      <th>U.S. Congressman</th>\n",
              "      <td>10</td>\n",
              "      <td>15</td>\n",
              "      <td>12</td>\n",
              "      <td>14</td>\n",
              "      <td>3</td>\n",
              "      <td>9</td>\n",
              "      <td>63</td>\n",
              "    </tr>\n",
              "    <tr>\n",
              "      <th>Speaker of the House of Representatives</th>\n",
              "      <td>9</td>\n",
              "      <td>14</td>\n",
              "      <td>8</td>\n",
              "      <td>4</td>\n",
              "      <td>2</td>\n",
              "      <td>13</td>\n",
              "      <td>50</td>\n",
              "    </tr>\n",
              "    <tr>\n",
              "      <th>Congresswoman</th>\n",
              "      <td>8</td>\n",
              "      <td>18</td>\n",
              "      <td>6</td>\n",
              "      <td>3</td>\n",
              "      <td>11</td>\n",
              "      <td>4</td>\n",
              "      <td>50</td>\n",
              "    </tr>\n",
              "    <tr>\n",
              "      <th>State senator</th>\n",
              "      <td>7</td>\n",
              "      <td>9</td>\n",
              "      <td>7</td>\n",
              "      <td>8</td>\n",
              "      <td>1</td>\n",
              "      <td>16</td>\n",
              "      <td>48</td>\n",
              "    </tr>\n",
              "    <tr>\n",
              "      <th>state representative</th>\n",
              "      <td>7</td>\n",
              "      <td>8</td>\n",
              "      <td>6</td>\n",
              "      <td>13</td>\n",
              "      <td>1</td>\n",
              "      <td>9</td>\n",
              "      <td>44</td>\n",
              "    </tr>\n",
              "    <tr>\n",
              "      <th>Governor of Ohio as of Jan. 10, 2011</th>\n",
              "      <td>5</td>\n",
              "      <td>5</td>\n",
              "      <td>8</td>\n",
              "      <td>11</td>\n",
              "      <td>1</td>\n",
              "      <td>13</td>\n",
              "      <td>43</td>\n",
              "    </tr>\n",
              "    <tr>\n",
              "      <th>state senator</th>\n",
              "      <td>9</td>\n",
              "      <td>3</td>\n",
              "      <td>9</td>\n",
              "      <td>11</td>\n",
              "      <td>3</td>\n",
              "      <td>7</td>\n",
              "      <td>42</td>\n",
              "    </tr>\n",
              "    <tr>\n",
              "      <th>governor</th>\n",
              "      <td>8</td>\n",
              "      <td>6</td>\n",
              "      <td>6</td>\n",
              "      <td>5</td>\n",
              "      <td>6</td>\n",
              "      <td>8</td>\n",
              "      <td>39</td>\n",
              "    </tr>\n",
              "    <tr>\n",
              "      <th>Candidate for U.S. Senate and physician</th>\n",
              "      <td>5</td>\n",
              "      <td>4</td>\n",
              "      <td>8</td>\n",
              "      <td>9</td>\n",
              "      <td>3</td>\n",
              "      <td>10</td>\n",
              "      <td>39</td>\n",
              "    </tr>\n",
              "    <tr>\n",
              "      <th>...</th>\n",
              "      <td>...</td>\n",
              "      <td>...</td>\n",
              "      <td>...</td>\n",
              "      <td>...</td>\n",
              "      <td>...</td>\n",
              "      <td>...</td>\n",
              "      <td>...</td>\n",
              "    </tr>\n",
              "    <tr>\n",
              "      <th>Director of the Central Intelligence Agency</th>\n",
              "      <td>0</td>\n",
              "      <td>0</td>\n",
              "      <td>1</td>\n",
              "      <td>0</td>\n",
              "      <td>0</td>\n",
              "      <td>0</td>\n",
              "      <td>1</td>\n",
              "    </tr>\n",
              "    <tr>\n",
              "      <th>Professor, Texas State University</th>\n",
              "      <td>1</td>\n",
              "      <td>0</td>\n",
              "      <td>0</td>\n",
              "      <td>0</td>\n",
              "      <td>0</td>\n",
              "      <td>0</td>\n",
              "      <td>1</td>\n",
              "    </tr>\n",
              "    <tr>\n",
              "      <th>Professor, University of Texas</th>\n",
              "      <td>0</td>\n",
              "      <td>0</td>\n",
              "      <td>1</td>\n",
              "      <td>0</td>\n",
              "      <td>0</td>\n",
              "      <td>0</td>\n",
              "      <td>1</td>\n",
              "    </tr>\n",
              "    <tr>\n",
              "      <th>Program manager, Sierra Club of Rhode Island</th>\n",
              "      <td>0</td>\n",
              "      <td>0</td>\n",
              "      <td>0</td>\n",
              "      <td>1</td>\n",
              "      <td>0</td>\n",
              "      <td>0</td>\n",
              "      <td>1</td>\n",
              "    </tr>\n",
              "    <tr>\n",
              "      <th>Providence City Councilman</th>\n",
              "      <td>0</td>\n",
              "      <td>0</td>\n",
              "      <td>0</td>\n",
              "      <td>0</td>\n",
              "      <td>1</td>\n",
              "      <td>0</td>\n",
              "      <td>1</td>\n",
              "    </tr>\n",
              "    <tr>\n",
              "      <th>Psychiatrist</th>\n",
              "      <td>0</td>\n",
              "      <td>0</td>\n",
              "      <td>0</td>\n",
              "      <td>1</td>\n",
              "      <td>0</td>\n",
              "      <td>0</td>\n",
              "      <td>1</td>\n",
              "    </tr>\n",
              "    <tr>\n",
              "      <th>President, Service Employees International Union Local 580</th>\n",
              "      <td>0</td>\n",
              "      <td>1</td>\n",
              "      <td>0</td>\n",
              "      <td>0</td>\n",
              "      <td>0</td>\n",
              "      <td>0</td>\n",
              "      <td>1</td>\n",
              "    </tr>\n",
              "    <tr>\n",
              "      <th>Director, American Worker Project</th>\n",
              "      <td>0</td>\n",
              "      <td>0</td>\n",
              "      <td>1</td>\n",
              "      <td>0</td>\n",
              "      <td>0</td>\n",
              "      <td>0</td>\n",
              "      <td>1</td>\n",
              "    </tr>\n",
              "    <tr>\n",
              "      <th>President of the Ohio Senate</th>\n",
              "      <td>0</td>\n",
              "      <td>0</td>\n",
              "      <td>0</td>\n",
              "      <td>0</td>\n",
              "      <td>0</td>\n",
              "      <td>1</td>\n",
              "      <td>1</td>\n",
              "    </tr>\n",
              "    <tr>\n",
              "      <th>President, Rhode Island Tea Party</th>\n",
              "      <td>0</td>\n",
              "      <td>0</td>\n",
              "      <td>1</td>\n",
              "      <td>0</td>\n",
              "      <td>0</td>\n",
              "      <td>0</td>\n",
              "      <td>1</td>\n",
              "    </tr>\n",
              "    <tr>\n",
              "      <th>President of the Rhode Island AFL-CIO</th>\n",
              "      <td>1</td>\n",
              "      <td>0</td>\n",
              "      <td>0</td>\n",
              "      <td>0</td>\n",
              "      <td>0</td>\n",
              "      <td>0</td>\n",
              "      <td>1</td>\n",
              "    </tr>\n",
              "    <tr>\n",
              "      <th>President of the Rochester Business Alliance</th>\n",
              "      <td>0</td>\n",
              "      <td>0</td>\n",
              "      <td>0</td>\n",
              "      <td>1</td>\n",
              "      <td>0</td>\n",
              "      <td>0</td>\n",
              "      <td>1</td>\n",
              "    </tr>\n",
              "    <tr>\n",
              "      <th>President of the Southern Baptist Convention’s Ethics &amp; Religious Liberty Commission</th>\n",
              "      <td>1</td>\n",
              "      <td>0</td>\n",
              "      <td>0</td>\n",
              "      <td>0</td>\n",
              "      <td>0</td>\n",
              "      <td>0</td>\n",
              "      <td>1</td>\n",
              "    </tr>\n",
              "    <tr>\n",
              "      <th>District 43 state representative</th>\n",
              "      <td>0</td>\n",
              "      <td>0</td>\n",
              "      <td>0</td>\n",
              "      <td>0</td>\n",
              "      <td>0</td>\n",
              "      <td>1</td>\n",
              "      <td>1</td>\n",
              "    </tr>\n",
              "    <tr>\n",
              "      <th>President of the board of directors of the Lake Oswego Corporation</th>\n",
              "      <td>0</td>\n",
              "      <td>0</td>\n",
              "      <td>1</td>\n",
              "      <td>0</td>\n",
              "      <td>0</td>\n",
              "      <td>0</td>\n",
              "      <td>1</td>\n",
              "    </tr>\n",
              "    <tr>\n",
              "      <th>President, American Atheists</th>\n",
              "      <td>0</td>\n",
              "      <td>1</td>\n",
              "      <td>0</td>\n",
              "      <td>0</td>\n",
              "      <td>0</td>\n",
              "      <td>0</td>\n",
              "      <td>1</td>\n",
              "    </tr>\n",
              "    <tr>\n",
              "      <th>District 3 member, Austin City Council</th>\n",
              "      <td>1</td>\n",
              "      <td>0</td>\n",
              "      <td>0</td>\n",
              "      <td>0</td>\n",
              "      <td>0</td>\n",
              "      <td>0</td>\n",
              "      <td>1</td>\n",
              "    </tr>\n",
              "    <tr>\n",
              "      <th>President, Austin Independent School District Board of Trustees</th>\n",
              "      <td>0</td>\n",
              "      <td>0</td>\n",
              "      <td>0</td>\n",
              "      <td>1</td>\n",
              "      <td>0</td>\n",
              "      <td>0</td>\n",
              "      <td>1</td>\n",
              "    </tr>\n",
              "    <tr>\n",
              "      <th>President, Catholics for Choice</th>\n",
              "      <td>0</td>\n",
              "      <td>0</td>\n",
              "      <td>0</td>\n",
              "      <td>1</td>\n",
              "      <td>0</td>\n",
              "      <td>0</td>\n",
              "      <td>1</td>\n",
              "    </tr>\n",
              "    <tr>\n",
              "      <th>District 1 member, Austin City Council</th>\n",
              "      <td>0</td>\n",
              "      <td>1</td>\n",
              "      <td>0</td>\n",
              "      <td>0</td>\n",
              "      <td>0</td>\n",
              "      <td>0</td>\n",
              "      <td>1</td>\n",
              "    </tr>\n",
              "    <tr>\n",
              "      <th>Director, The Center for the American Future</th>\n",
              "      <td>1</td>\n",
              "      <td>0</td>\n",
              "      <td>0</td>\n",
              "      <td>0</td>\n",
              "      <td>0</td>\n",
              "      <td>0</td>\n",
              "      <td>1</td>\n",
              "    </tr>\n",
              "    <tr>\n",
              "      <th>President, EMILY's List</th>\n",
              "      <td>0</td>\n",
              "      <td>0</td>\n",
              "      <td>0</td>\n",
              "      <td>0</td>\n",
              "      <td>0</td>\n",
              "      <td>1</td>\n",
              "      <td>1</td>\n",
              "    </tr>\n",
              "    <tr>\n",
              "      <th>President, Generation Opportunity</th>\n",
              "      <td>0</td>\n",
              "      <td>1</td>\n",
              "      <td>0</td>\n",
              "      <td>0</td>\n",
              "      <td>0</td>\n",
              "      <td>0</td>\n",
              "      <td>1</td>\n",
              "    </tr>\n",
              "    <tr>\n",
              "      <th>President, Georgia Retailers Association</th>\n",
              "      <td>0</td>\n",
              "      <td>0</td>\n",
              "      <td>1</td>\n",
              "      <td>0</td>\n",
              "      <td>0</td>\n",
              "      <td>0</td>\n",
              "      <td>1</td>\n",
              "    </tr>\n",
              "    <tr>\n",
              "      <th>President, Georgia Right to Life</th>\n",
              "      <td>0</td>\n",
              "      <td>1</td>\n",
              "      <td>0</td>\n",
              "      <td>0</td>\n",
              "      <td>0</td>\n",
              "      <td>0</td>\n",
              "      <td>1</td>\n",
              "    </tr>\n",
              "    <tr>\n",
              "      <th>Director, Sustainable Water Infrastructure Program, Ceres</th>\n",
              "      <td>0</td>\n",
              "      <td>0</td>\n",
              "      <td>1</td>\n",
              "      <td>0</td>\n",
              "      <td>0</td>\n",
              "      <td>0</td>\n",
              "      <td>1</td>\n",
              "    </tr>\n",
              "    <tr>\n",
              "      <th>Director, Georgia C.A.R.E.</th>\n",
              "      <td>1</td>\n",
              "      <td>0</td>\n",
              "      <td>0</td>\n",
              "      <td>0</td>\n",
              "      <td>0</td>\n",
              "      <td>0</td>\n",
              "      <td>1</td>\n",
              "    </tr>\n",
              "    <tr>\n",
              "      <th>President, Milwaukee Bucks</th>\n",
              "      <td>0</td>\n",
              "      <td>1</td>\n",
              "      <td>0</td>\n",
              "      <td>0</td>\n",
              "      <td>0</td>\n",
              "      <td>0</td>\n",
              "      <td>1</td>\n",
              "    </tr>\n",
              "    <tr>\n",
              "      <th>President, National Abortion Federation</th>\n",
              "      <td>0</td>\n",
              "      <td>0</td>\n",
              "      <td>1</td>\n",
              "      <td>0</td>\n",
              "      <td>0</td>\n",
              "      <td>0</td>\n",
              "      <td>1</td>\n",
              "    </tr>\n",
              "    <tr>\n",
              "      <th>secretary-general of the United Nations</th>\n",
              "      <td>0</td>\n",
              "      <td>0</td>\n",
              "      <td>0</td>\n",
              "      <td>1</td>\n",
              "      <td>0</td>\n",
              "      <td>0</td>\n",
              "      <td>1</td>\n",
              "    </tr>\n",
              "  </tbody>\n",
              "</table>\n",
              "<p>1185 rows × 7 columns</p>\n",
              "</div>"
            ],
            "text/plain": [
              "Label                                               barely-true  false  \\\n",
              "Speaker'sJobTitle                                                        \n",
              "All                                                        1141   1435   \n",
              "President                                                    56     68   \n",
              "U.S. Senator                                                 72     66   \n",
              "Governor                                                     65     75   \n",
              "President-Elect                                              48    101   \n",
              "U.S. senator                                                 38     51   \n",
              "Presidential candidate                                       33     29   \n",
              "Former governor                                              27     28   \n",
              "U.S. Representative                                          38     27   \n",
              "Milwaukee County Executive                                   22     35   \n",
              "Senator                                                      40     33   \n",
              "State Senator                                                14     22   \n",
              "U.S. representative                                          16     19   \n",
              "U.S. House of Representatives                                17     27   \n",
              "Attorney                                                     13     21   \n",
              "Congressman                                                  10     24   \n",
              "Governor of New Jersey                                        8     17   \n",
              "Social media posting                                         12     12   \n",
              "Co-host on CNN's \"Crossfire\"                                 14     15   \n",
              "State Representative                                         10     17   \n",
              "State representative                                         12     13   \n",
              "U.S. Congressman                                             10     15   \n",
              "Speaker of the House of Representatives                       9     14   \n",
              "Congresswoman                                                 8     18   \n",
              "State senator                                                 7      9   \n",
              "state representative                                          7      8   \n",
              "Governor of Ohio as of Jan. 10, 2011                          5      5   \n",
              "state senator                                                 9      3   \n",
              "governor                                                      8      6   \n",
              "Candidate for U.S. Senate and physician                       5      4   \n",
              "...                                                         ...    ...   \n",
              "Director of the Central Intelligence Agency                   0      0   \n",
              "Professor, Texas State University                             1      0   \n",
              "Professor, University of Texas                                0      0   \n",
              "Program manager, Sierra Club of Rhode Island                  0      0   \n",
              "Providence City Councilman                                    0      0   \n",
              "Psychiatrist                                                  0      0   \n",
              "President, Service Employees International Unio...            0      1   \n",
              "Director, American Worker Project                             0      0   \n",
              "President of the Ohio Senate                                  0      0   \n",
              "President, Rhode Island Tea Party                             0      0   \n",
              "President of the Rhode Island AFL-CIO                         1      0   \n",
              "President of the Rochester Business Alliance                  0      0   \n",
              "President of the Southern Baptist Convention’s ...            1      0   \n",
              "District 43 state representative                              0      0   \n",
              "President of the board of directors of the Lake...            0      0   \n",
              "President, American Atheists                                  0      1   \n",
              "District 3 member, Austin City Council                        1      0   \n",
              "President, Austin Independent School District B...            0      0   \n",
              "President, Catholics for Choice                               0      0   \n",
              "District 1 member, Austin City Council                        0      1   \n",
              "Director, The Center for the American Future                  1      0   \n",
              "President, EMILY's List                                       0      0   \n",
              "President, Generation Opportunity                             0      1   \n",
              "President, Georgia Retailers Association                      0      0   \n",
              "President, Georgia Right to Life                              0      1   \n",
              "Director, Sustainable Water Infrastructure Prog...            0      0   \n",
              "Director, Georgia C.A.R.E.                                    1      0   \n",
              "President, Milwaukee Bucks                                    0      1   \n",
              "President, National Abortion Federation                       0      0   \n",
              " secretary-general of the United Nations                      0      0   \n",
              "\n",
              "Label                                               half-true  mostly-true  \\\n",
              "Speaker'sJobTitle                                                            \n",
              "All                                                      1524         1471   \n",
              "President                                                 125          131   \n",
              "U.S. Senator                                              104          124   \n",
              "Governor                                                   93           65   \n",
              "President-Elect                                            39           27   \n",
              "U.S. senator                                               56           56   \n",
              "Presidential candidate                                     56           70   \n",
              "Former governor                                            47           27   \n",
              "U.S. Representative                                        43           27   \n",
              "Milwaukee County Executive                                 29           34   \n",
              "Senator                                                    24           22   \n",
              "State Senator                                              28           17   \n",
              "U.S. representative                                        20           19   \n",
              "U.S. House of Representatives                              18           24   \n",
              "Attorney                                                   22           12   \n",
              "Congressman                                                17           14   \n",
              "Governor of New Jersey                                     16           14   \n",
              "Social media posting                                       13            9   \n",
              "Co-host on CNN's \"Crossfire\"                               20            7   \n",
              "State Representative                                       15           15   \n",
              "State representative                                       11           10   \n",
              "U.S. Congressman                                           12           14   \n",
              "Speaker of the House of Representatives                     8            4   \n",
              "Congresswoman                                               6            3   \n",
              "State senator                                               7            8   \n",
              "state representative                                        6           13   \n",
              "Governor of Ohio as of Jan. 10, 2011                        8           11   \n",
              "state senator                                               9           11   \n",
              "governor                                                    6            5   \n",
              "Candidate for U.S. Senate and physician                     8            9   \n",
              "...                                                       ...          ...   \n",
              "Director of the Central Intelligence Agency                 1            0   \n",
              "Professor, Texas State University                           0            0   \n",
              "Professor, University of Texas                              1            0   \n",
              "Program manager, Sierra Club of Rhode Island                0            1   \n",
              "Providence City Councilman                                  0            0   \n",
              "Psychiatrist                                                0            1   \n",
              "President, Service Employees International Unio...          0            0   \n",
              "Director, American Worker Project                           1            0   \n",
              "President of the Ohio Senate                                0            0   \n",
              "President, Rhode Island Tea Party                           1            0   \n",
              "President of the Rhode Island AFL-CIO                       0            0   \n",
              "President of the Rochester Business Alliance                0            1   \n",
              "President of the Southern Baptist Convention’s ...          0            0   \n",
              "District 43 state representative                            0            0   \n",
              "President of the board of directors of the Lake...          1            0   \n",
              "President, American Atheists                                0            0   \n",
              "District 3 member, Austin City Council                      0            0   \n",
              "President, Austin Independent School District B...          0            1   \n",
              "President, Catholics for Choice                             0            1   \n",
              "District 1 member, Austin City Council                      0            0   \n",
              "Director, The Center for the American Future                0            0   \n",
              "President, EMILY's List                                     0            0   \n",
              "President, Generation Opportunity                           0            0   \n",
              "President, Georgia Retailers Association                    1            0   \n",
              "President, Georgia Right to Life                            0            0   \n",
              "Director, Sustainable Water Infrastructure Prog...          1            0   \n",
              "Director, Georgia C.A.R.E.                                  0            0   \n",
              "President, Milwaukee Bucks                                  0            0   \n",
              "President, National Abortion Federation                     1            0   \n",
              " secretary-general of the United Nations                    0            1   \n",
              "\n",
              "Label                                               pants-fire  true   All  \n",
              "Speaker'sJobTitle                                                           \n",
              "All                                                        503  1269  7343  \n",
              "President                                                    8   104   492  \n",
              "U.S. Senator                                                 6   107   479  \n",
              "Governor                                                    34    59   391  \n",
              "President-Elect                                             52     6   273  \n",
              "U.S. senator                                                 9    53   263  \n",
              "Presidential candidate                                       6    60   254  \n",
              "Former governor                                             17    30   176  \n",
              "U.S. Representative                                          8    29   172  \n",
              "Milwaukee County Executive                                   8    21   149  \n",
              "Senator                                                      9    19   147  \n",
              "State Senator                                                7    20   108  \n",
              "U.S. representative                                          4    25   103  \n",
              "U.S. House of Representatives                                5    11   102  \n",
              "Attorney                                                     5     8    81  \n",
              "Congressman                                                  2    13    80  \n",
              "Governor of New Jersey                                       5    18    78  \n",
              "Social media posting                                        26     6    78  \n",
              "Co-host on CNN's \"Crossfire\"                                10     7    73  \n",
              "State Representative                                         5    10    72  \n",
              "State representative                                         6    14    66  \n",
              "U.S. Congressman                                             3     9    63  \n",
              "Speaker of the House of Representatives                      2    13    50  \n",
              "Congresswoman                                               11     4    50  \n",
              "State senator                                                1    16    48  \n",
              "state representative                                         1     9    44  \n",
              "Governor of Ohio as of Jan. 10, 2011                         1    13    43  \n",
              "state senator                                                3     7    42  \n",
              "governor                                                     6     8    39  \n",
              "Candidate for U.S. Senate and physician                      3    10    39  \n",
              "...                                                        ...   ...   ...  \n",
              "Director of the Central Intelligence Agency                  0     0     1  \n",
              "Professor, Texas State University                            0     0     1  \n",
              "Professor, University of Texas                               0     0     1  \n",
              "Program manager, Sierra Club of Rhode Island                 0     0     1  \n",
              "Providence City Councilman                                   1     0     1  \n",
              "Psychiatrist                                                 0     0     1  \n",
              "President, Service Employees International Unio...           0     0     1  \n",
              "Director, American Worker Project                            0     0     1  \n",
              "President of the Ohio Senate                                 0     1     1  \n",
              "President, Rhode Island Tea Party                            0     0     1  \n",
              "President of the Rhode Island AFL-CIO                        0     0     1  \n",
              "President of the Rochester Business Alliance                 0     0     1  \n",
              "President of the Southern Baptist Convention’s ...           0     0     1  \n",
              "District 43 state representative                             0     1     1  \n",
              "President of the board of directors of the Lake...           0     0     1  \n",
              "President, American Atheists                                 0     0     1  \n",
              "District 3 member, Austin City Council                       0     0     1  \n",
              "President, Austin Independent School District B...           0     0     1  \n",
              "President, Catholics for Choice                              0     0     1  \n",
              "District 1 member, Austin City Council                       0     0     1  \n",
              "Director, The Center for the American Future                 0     0     1  \n",
              "President, EMILY's List                                      0     1     1  \n",
              "President, Generation Opportunity                            0     0     1  \n",
              "President, Georgia Retailers Association                     0     0     1  \n",
              "President, Georgia Right to Life                             0     0     1  \n",
              "Director, Sustainable Water Infrastructure Prog...           0     0     1  \n",
              "Director, Georgia C.A.R.E.                                   0     0     1  \n",
              "President, Milwaukee Bucks                                   0     0     1  \n",
              "President, National Abortion Federation                      0     0     1  \n",
              " secretary-general of the United Nations                     0     0     1  \n",
              "\n",
              "[1185 rows x 7 columns]"
            ]
          },
          "metadata": {
            "tags": []
          },
          "execution_count": 30
        }
      ]
    },
    {
      "cell_type": "code",
      "metadata": {
        "id": "medjEDXhwYc-",
        "colab_type": "code",
        "colab": {},
        "outputId": "870a3f01-8bb0-4958-a204-1f8167a19ba1"
      },
      "source": [
        "fig, ax = plt.subplots()\n",
        "ax1 = X_train.value_counts().sort_index(ascending=True).head(10).plot('bar', ax=ax, legend=True)"
      ],
      "execution_count": 0,
      "outputs": [
        {
          "output_type": "display_data",
          "data": {
            "image/png": "[encoded data removed]",
            "text/plain": [
              "<Figure size 432x288 with 1 Axes>"
            ]
          },
          "metadata": {
            "tags": [],
            "needs_background": "light"
          }
        }
      ]
    },
    {
      "cell_type": "code",
      "metadata": {
        "id": "xjcaYAdywYdC",
        "colab_type": "code",
        "colab": {},
        "outputId": "573ea969-8315-4f14-f81b-cea1db0a735a"
      },
      "source": [
        "import seaborn as sns\n",
        "sns.countplot(x=\"barely-true\", data=CrossTab,order=CrossTab[\"barely-true\"].value_counts().iloc[:5].index)\n",
        "plt.show()"
      ],
      "execution_count": 0,
      "outputs": [
        {
          "output_type": "display_data",
          "data": {
            "image/png": "[encoded data removed]",
            "text/plain": [
              "<Figure size 432x288 with 1 Axes>"
            ]
          },
          "metadata": {
            "tags": [],
            "needs_background": "light"
          }
        }
      ]
    },
    {
      "cell_type": "code",
      "metadata": {
        "id": "YSXYnv_cwYdF",
        "colab_type": "code",
        "colab": {},
        "outputId": "9d338de6-6a5d-4131-b5ac-927b9cb36a3c"
      },
      "source": [
        "#By changing the value here for column we can check as per job title whats the probability of speaker lying\n",
        "#This is specific example for U.S. Senator\n",
        "import numpy as np\n",
        "values_for_true = np.column_stack([train_news[Colnames].str.contains(\"U.S. Senator\") for Colnames in ['Speaker\\'sJobTitle']])\n",
        "#print (values_for_true)\n",
        "unique, counts = np.unique(values_for_true, return_counts=True)\n",
        "dict(zip(unique, counts))\n",
        "train_news['values_for_true'] = values_for_true\n",
        "import matplotlib.pyplot as plt\n",
        "fig, ax = plt.subplots()\n",
        "ax1 = train_news[train_news['values_for_true']==True]['Label'].value_counts().plot('bar', ax=ax, legend=True)"
      ],
      "execution_count": 0,
      "outputs": [
        {
          "output_type": "display_data",
          "data": {
            "image/png": "[encoded data removed]",
            "text/plain": [
              "<Figure size 432x288 with 1 Axes>"
            ]
          },
          "metadata": {
            "tags": [],
            "needs_background": "light"
          }
        }
      ]
    },
    {
      "cell_type": "code",
      "metadata": {
        "id": "-UW7uUDTwYdI",
        "colab_type": "code",
        "colab": {},
        "outputId": "01206807-18ac-405d-9467-4bcf1f4cbc4b"
      },
      "source": [
        "#Setting NAN to No Job Title under Speaker's Job Title\n",
        "X_train = X_train.replace(np.nan,'No Job Title', regex=True)\n",
        "X_train"
      ],
      "execution_count": 0,
      "outputs": [
        {
          "output_type": "execute_result",
          "data": {
            "text/plain": [
              "0                                     State representative\n",
              "1                                           State delegate\n",
              "2                                                President\n",
              "3                                             No Job Title\n",
              "4                                             No Job Title\n",
              "5                               Wisconsin Assembly speaker\n",
              "6                                             No Job Title\n",
              "7                                                President\n",
              "8                                             No Job Title\n",
              "9                                     State representative\n",
              "10                                            U.S. Senator\n",
              "11                                            U.S. Senator\n",
              "12                                         Former governor\n",
              "13                                            No Job Title\n",
              "14                                               Columnist\n",
              "15                                            U.S. Senator\n",
              "16                                               President\n",
              "17                                            No Job Title\n",
              "18                       U.S. House member -- 4th District\n",
              "19                                     Treasury secretary \n",
              "20                                    state representative\n",
              "21                Co-host on Fox News Channel's \"The Five\"\n",
              "22                                  Presidential candidate\n",
              "23                                            No Job Title\n",
              "24                                          Advocacy group\n",
              "25                                   House Minority Leader\n",
              "26                                  Presidential candidate\n",
              "27                                                musician\n",
              "28       President of American Freedom Defense Intitiative\n",
              "29                                     Lieutenant governor\n",
              "                               ...                        \n",
              "10210         Chairman of the Council of Economic Advisers\n",
              "10211                              Former mayor of Houston\n",
              "10212                                 State Representative\n",
              "10213               Democratic National Committee chairman\n",
              "10214                                     U.S. Congressman\n",
              "10215                                              Senator\n",
              "10216                                         No Job Title\n",
              "10217                 8th District congressional candidate\n",
              "10218                                         No Job Title\n",
              "10219                                         No Job Title\n",
              "10220                                            President\n",
              "10221                                         No Job Title\n",
              "10222                        U.S. House of Representatives\n",
              "10223                          White House press secretary\n",
              "10224                                         No Job Title\n",
              "10225                                         No Job Title\n",
              "10226                President, The Whitman Strategy Group\n",
              "10227                                        State Senator\n",
              "10228                                      President-Elect\n",
              "10229                                         No Job Title\n",
              "10230                                              Senator\n",
              "10231                          State Senator, 8th District\n",
              "10232                          Senior editor, The Atlantic\n",
              "10233                                         No Job Title\n",
              "10234                                         No Job Title\n",
              "10235                                         No Job Title\n",
              "10236                                         No Job Title\n",
              "10237                                         No Job Title\n",
              "10238                                         No Job Title\n",
              "10239        chairman of the Republican National Committee\n",
              "Name: Speaker'sJobTitle, Length: 10240, dtype: object"
            ]
          },
          "metadata": {
            "tags": []
          },
          "execution_count": 34
        }
      ]
    },
    {
      "cell_type": "markdown",
      "metadata": {
        "id": "LOThtNKcwYdL",
        "colab_type": "text"
      },
      "source": [
        "### Select a document to preview after prepocessing"
      ]
    },
    {
      "cell_type": "code",
      "metadata": {
        "id": "2B_VTippwYdM",
        "colab_type": "code",
        "colab": {},
        "outputId": "a3135a33-5022-4789-bc34-8cdbdeb233a1"
      },
      "source": [
        "#checking the sample document \n",
        "doc_sample = train_news[train_news['Json_Id'] == '2635.json'][\"Statement\"][0]\n",
        "\n",
        "print('original document: ')\n",
        "words = []\n",
        "for word in doc_sample.split(' '):\n",
        "    words.append(word)\n",
        "print(words)\n",
        "print('\\n\\n tokenized and lemmatized document: ')\n",
        "print(preprocess(doc_sample))\n",
        "#print(process_data(doc_sample))"
      ],
      "execution_count": 0,
      "outputs": [
        {
          "output_type": "stream",
          "text": [
            "original document: \n",
            "['Says', 'the', 'Annies', 'List', 'political', 'group', 'supports', 'third-trimester', 'abortions', 'on', 'demand.']\n",
            "\n",
            "\n",
            " tokenized and lemmatized document: \n",
            "['say', 'anni', 'list', 'polit', 'group', 'support', 'trimest', 'abort', 'demand']\n"
          ],
          "name": "stdout"
        }
      ]
    },
    {
      "cell_type": "markdown",
      "metadata": {
        "id": "jFXq41hjwYdP",
        "colab_type": "text"
      },
      "source": [
        "### Preprocess the headline text, saving the results as ‘processed_docs'"
      ]
    },
    {
      "cell_type": "code",
      "metadata": {
        "id": "AAKGT0l3wYdR",
        "colab_type": "code",
        "colab": {},
        "outputId": "7b690880-64d9-48a0-e31d-80285784b79e"
      },
      "source": [
        "processed_docs = train_news['Statement'].map(preprocess)\n",
        "processed_docs[:10]"
      ],
      "execution_count": 0,
      "outputs": [
        {
          "output_type": "execute_result",
          "data": {
            "text/plain": [
              "0    [say, anni, list, polit, group, support, trime...\n",
              "1    [declin, coal, start, start, natur, take, star...\n",
              "2    [hillari, clinton, agre, john, mccain, vote, g...\n",
              "3    [health, care, reform, legisl, like, mandat, f...\n",
              "4                    [econom, turnaround, start, term]\n",
              "5    [chicago, bear, start, quarterback, year, tota...\n",
              "6               [dunnam, live, district, repres, year]\n",
              "7    [person, stage, work, activ, year, pass, russ,...\n",
              "8    [take, million, oregon, lotteri, fund, port, n...\n",
              "9    [say, primari, oppon, glenn, grothman, leibham...\n",
              "Name: Statement, dtype: object"
            ]
          },
          "metadata": {
            "tags": []
          },
          "execution_count": 36
        }
      ]
    },
    {
      "cell_type": "markdown",
      "metadata": {
        "id": "6n5eaBahwYdX",
        "colab_type": "text"
      },
      "source": [
        "### Bag of Words on the Data set\n",
        "Create a dictionary from ‘processed_docs’ containing the number of times a word appears in the training set"
      ]
    },
    {
      "cell_type": "code",
      "metadata": {
        "id": "-g75uKKMwYdY",
        "colab_type": "code",
        "colab": {},
        "outputId": "f7d33a67-99f1-4d68-d256-25c6cad958b6"
      },
      "source": [
        "#processed docs->getting words\n",
        "dictionary = gensim.corpora.Dictionary(processed_docs)\n",
        "count = 0\n",
        "for k, v in dictionary.iteritems():\n",
        "    print(k, v)\n",
        "    count += 1\n",
        "    if count > 10:\n",
        "        break"
      ],
      "execution_count": 0,
      "outputs": [
        {
          "output_type": "stream",
          "text": [
            "0 abort\n",
            "1 anni\n",
            "2 demand\n",
            "3 group\n",
            "4 list\n",
            "5 polit\n",
            "6 say\n",
            "7 support\n",
            "8 trimest\n",
            "9 administr\n",
            "10 begin\n"
          ],
          "name": "stdout"
        }
      ]
    },
    {
      "cell_type": "code",
      "metadata": {
        "id": "-Rdvax9YwYdb",
        "colab_type": "code",
        "colab": {},
        "outputId": "ac2b1dec-73e4-4895-b842-b5746dcfdf86"
      },
      "source": [
        "#printing actual dictionary\n",
        "dictionary.filter_extremes(no_below=15, no_above=0.5, keep_n=100000)\n",
        "print(dictionary)"
      ],
      "execution_count": 0,
      "outputs": [
        {
          "output_type": "stream",
          "text": [
            "Dictionary(1078 unique tokens: ['abort', 'demand', 'group', 'list', 'polit']...)\n"
          ],
          "name": "stdout"
        }
      ]
    },
    {
      "cell_type": "code",
      "metadata": {
        "id": "r6TY-PJmwYdd",
        "colab_type": "code",
        "colab": {},
        "outputId": "1bebf5ba-823c-4071-e5a8-99c4bfdd9b85"
      },
      "source": [
        "bow_corpus = [dictionary.doc2bow(doc) for doc in processed_docs]\n",
        "bow_corpus[10][0]"
      ],
      "execution_count": 0,
      "outputs": [
        {
          "output_type": "execute_result",
          "data": {
            "text/plain": [
              "(24, 2)"
            ]
          },
          "metadata": {
            "tags": []
          },
          "execution_count": 39
        }
      ]
    },
    {
      "cell_type": "code",
      "metadata": {
        "id": "IKf2EczvwYdf",
        "colab_type": "code",
        "colab": {},
        "outputId": "3cca61ed-1913-4e67-f5c8-59a1cab028e8"
      },
      "source": [
        "#checking word frequency count\n",
        "bow_doc_4310 = bow_corpus[4310]\n",
        "for i in range(len(bow_doc_4310)):\n",
        "    print(\"Word {} (\\\"{}\\\") appears {} time.\".format(bow_doc_4310[i][0], \n",
        "                                               dictionary[bow_doc_4310[i][0]], \n",
        "bow_doc_4310[i][1]))\n",
        "print(len(bow_corpus))"
      ],
      "execution_count": 0,
      "outputs": [
        {
          "output_type": "stream",
          "text": [
            "Word 7 (\"administr\") appears 1 time.\n",
            "Word 84 (\"economi\") appears 1 time.\n",
            "Word 128 (\"scott\") appears 1 time.\n",
            "Word 129 (\"walker\") appears 1 time.\n",
            "Word 184 (\"member\") appears 2 time.\n",
            "Word 254 (\"job\") appears 1 time.\n",
            "Word 279 (\"public\") appears 1 time.\n",
            "Word 326 (\"hear\") appears 1 time.\n",
            "Word 547 (\"charg\") appears 1 time.\n",
            "Word 799 (\"talk\") appears 1 time.\n",
            "Word 1031 (\"field\") appears 1 time.\n",
            "10240\n"
          ],
          "name": "stdout"
        }
      ]
    },
    {
      "cell_type": "code",
      "metadata": {
        "id": "c8chH4qywYdj",
        "colab_type": "code",
        "colab": {}
      },
      "source": [
        "#applying tf-idf and LDA\n",
        "from gensim import corpora, models\n",
        "tfidf = models.TfidfModel(bow_corpus)\n",
        "corpus_tfidf = tfidf[bow_corpus]"
      ],
      "execution_count": 0,
      "outputs": []
    },
    {
      "cell_type": "code",
      "metadata": {
        "id": "BxbNlA5QwYdn",
        "colab_type": "code",
        "colab": {},
        "outputId": "083c781d-47cc-46b7-cd9c-5aaee245e996"
      },
      "source": [
        "from pprint import pprint\n",
        "\n",
        "for doc in corpus_tfidf:\n",
        "    pprint(doc)\n",
        "    break"
      ],
      "execution_count": 0,
      "outputs": [
        {
          "output_type": "stream",
          "text": [
            "[(0, 0.3397402827336795),\n",
            " (1, 0.5002880765433487),\n",
            " (2, 0.4088224168287155),\n",
            " (3, 0.4639566513984633),\n",
            " (4, 0.40750764496407926),\n",
            " (5, 0.10879086838115597),\n",
            " (6, 0.27202739591951525)]\n"
          ],
          "name": "stdout"
        }
      ]
    },
    {
      "cell_type": "markdown",
      "metadata": {
        "id": "OrKLt5ghwYdp",
        "colab_type": "text"
      },
      "source": [
        "### Running LDA using Bag of Words\n",
        "Train our lda model using gensim.models.LdaMulticore and save it to ‘lda_model’. \n",
        "For each topic, we will explore the words occuring in that topic and its relative weight."
      ]
    },
    {
      "cell_type": "code",
      "metadata": {
        "id": "CdVOZ5vewYdq",
        "colab_type": "code",
        "colab": {},
        "outputId": "9fa5c724-6c4c-45b1-f557-b453edc5fe20"
      },
      "source": [
        "lda_model = gensim.models.LdaMulticore(bow_corpus, num_topics=10, id2word=dictionary, passes=2, workers=2)\n",
        "for idx, topic in lda_model.print_topics(-1):\n",
        "    print('Topic: {} \\nWords: {}'.format(idx, topic))"
      ],
      "execution_count": 0,
      "outputs": [
        {
          "output_type": "stream",
          "text": [
            "Topic: 0 \n",
            "Words: 0.036*\"say\" + 0.019*\"million\" + 0.019*\"obama\" + 0.016*\"american\" + 0.014*\"state\" + 0.011*\"year\" + 0.011*\"job\" + 0.010*\"presid\" + 0.009*\"vote\" + 0.009*\"dollar\"\n",
            "Topic: 1 \n",
            "Words: 0.037*\"state\" + 0.028*\"year\" + 0.022*\"say\" + 0.013*\"texa\" + 0.011*\"peopl\" + 0.011*\"immigr\" + 0.010*\"school\" + 0.010*\"unit\" + 0.009*\"georgia\" + 0.007*\"call\"\n",
            "Topic: 2 \n",
            "Words: 0.025*\"say\" + 0.015*\"health\" + 0.014*\"care\" + 0.013*\"trump\" + 0.013*\"dont\" + 0.012*\"support\" + 0.012*\"state\" + 0.011*\"american\" + 0.010*\"donald\" + 0.009*\"texa\"\n",
            "Topic: 3 \n",
            "Words: 0.020*\"obama\" + 0.018*\"say\" + 0.012*\"state\" + 0.012*\"vote\" + 0.011*\"time\" + 0.010*\"florida\" + 0.010*\"forc\" + 0.009*\"percent\" + 0.009*\"presid\" + 0.009*\"servic\"\n",
            "Topic: 4 \n",
            "Words: 0.043*\"say\" + 0.019*\"year\" + 0.016*\"state\" + 0.015*\"care\" + 0.015*\"fund\" + 0.013*\"school\" + 0.012*\"budget\" + 0.012*\"health\" + 0.011*\"offic\" + 0.011*\"million\"\n",
            "Topic: 5 \n",
            "Words: 0.076*\"say\" + 0.028*\"year\" + 0.023*\"presid\" + 0.022*\"obama\" + 0.016*\"billion\" + 0.013*\"barack\" + 0.012*\"scott\" + 0.010*\"state\" + 0.010*\"million\" + 0.009*\"govern\"\n",
            "Topic: 6 \n",
            "Words: 0.034*\"year\" + 0.033*\"health\" + 0.019*\"percent\" + 0.018*\"care\" + 0.017*\"insur\" + 0.016*\"plan\" + 0.015*\"spend\" + 0.015*\"say\" + 0.013*\"senat\" + 0.013*\"american\"\n",
            "Topic: 7 \n",
            "Words: 0.039*\"percent\" + 0.036*\"peopl\" + 0.029*\"state\" + 0.013*\"say\" + 0.012*\"health\" + 0.012*\"unemploy\" + 0.012*\"work\" + 0.012*\"countri\" + 0.011*\"year\" + 0.011*\"unit\"\n",
            "Topic: 8 \n",
            "Words: 0.044*\"job\" + 0.020*\"percent\" + 0.017*\"creat\" + 0.016*\"debt\" + 0.015*\"countri\" + 0.014*\"lose\" + 0.014*\"nation\" + 0.014*\"million\" + 0.014*\"texa\" + 0.012*\"trillion\"\n",
            "Topic: 9 \n",
            "Words: 0.069*\"say\" + 0.028*\"percent\" + 0.019*\"vote\" + 0.017*\"tax\" + 0.017*\"state\" + 0.016*\"clinton\" + 0.013*\"rais\" + 0.013*\"hillari\" + 0.011*\"go\" + 0.011*\"republican\"\n"
          ],
          "name": "stdout"
        }
      ]
    },
    {
      "cell_type": "code",
      "metadata": {
        "id": "wymvvuxWwYds",
        "colab_type": "code",
        "colab": {},
        "outputId": "13f94464-6e9a-490f-cfb3-97281d9db86d"
      },
      "source": [
        "#LDA using TF-IDF\n",
        "lda_model_tfidf = gensim.models.LdaMulticore(corpus_tfidf, num_topics=10, id2word=dictionary, passes=2, workers=4)\n",
        "for idx, topic in lda_model_tfidf.print_topics(-1):\n",
        "    print('Topic: {} Word: {}'.format(idx, topic))"
      ],
      "execution_count": 0,
      "outputs": [
        {
          "output_type": "stream",
          "text": [
            "Topic: 0 Word: 0.014*\"say\" + 0.012*\"year\" + 0.011*\"percent\" + 0.010*\"job\" + 0.010*\"state\" + 0.009*\"trump\" + 0.008*\"governor\" + 0.007*\"donald\" + 0.006*\"health\" + 0.006*\"creat\"\n",
            "Topic: 1 Word: 0.012*\"say\" + 0.011*\"support\" + 0.011*\"state\" + 0.010*\"american\" + 0.009*\"island\" + 0.008*\"rhode\" + 0.008*\"florida\" + 0.007*\"tax\" + 0.007*\"year\" + 0.007*\"billion\"\n",
            "Topic: 2 Word: 0.020*\"say\" + 0.010*\"vote\" + 0.010*\"percent\" + 0.009*\"dollar\" + 0.009*\"romney\" + 0.008*\"care\" + 0.008*\"mitt\" + 0.008*\"fund\" + 0.008*\"health\" + 0.007*\"year\"\n",
            "Topic: 3 Word: 0.013*\"state\" + 0.010*\"say\" + 0.010*\"percent\" + 0.010*\"world\" + 0.009*\"unit\" + 0.009*\"busi\" + 0.009*\"obama\" + 0.008*\"year\" + 0.008*\"st\" + 0.008*\"largest\"\n",
            "Topic: 4 Word: 0.013*\"say\" + 0.011*\"govern\" + 0.010*\"averag\" + 0.010*\"million\" + 0.009*\"year\" + 0.009*\"nation\" + 0.008*\"america\" + 0.008*\"american\" + 0.008*\"percent\" + 0.007*\"secur\"\n",
            "Topic: 5 Word: 0.012*\"percent\" + 0.011*\"health\" + 0.010*\"say\" + 0.010*\"year\" + 0.008*\"care\" + 0.008*\"peopl\" + 0.007*\"feder\" + 0.007*\"spend\" + 0.007*\"state\" + 0.006*\"obama\"\n",
            "Topic: 6 Word: 0.012*\"say\" + 0.011*\"presid\" + 0.010*\"immigr\" + 0.009*\"obama\" + 0.009*\"illeg\" + 0.008*\"year\" + 0.008*\"job\" + 0.008*\"million\" + 0.008*\"come\" + 0.008*\"muslim\"\n",
            "Topic: 7 Word: 0.014*\"obama\" + 0.012*\"say\" + 0.011*\"countri\" + 0.011*\"state\" + 0.009*\"peopl\" + 0.009*\"presid\" + 0.008*\"barack\" + 0.008*\"texa\" + 0.007*\"vote\" + 0.007*\"economi\"\n",
            "Topic: 8 Word: 0.012*\"say\" + 0.011*\"state\" + 0.010*\"tax\" + 0.009*\"highest\" + 0.009*\"million\" + 0.009*\"job\" + 0.009*\"rate\" + 0.009*\"school\" + 0.009*\"rais\" + 0.008*\"vote\"\n",
            "Topic: 9 Word: 0.015*\"year\" + 0.014*\"say\" + 0.013*\"percent\" + 0.009*\"cost\" + 0.008*\"obama\" + 0.008*\"plan\" + 0.007*\"job\" + 0.007*\"go\" + 0.007*\"tax\" + 0.007*\"presid\"\n"
          ],
          "name": "stdout"
        }
      ]
    },
    {
      "cell_type": "code",
      "metadata": {
        "id": "lpDEa6UfwYdt",
        "colab_type": "code",
        "colab": {},
        "outputId": "17b98d7b-b5fd-452b-e82b-6354f32d54e2"
      },
      "source": [
        "processed_docs[4310]"
      ],
      "execution_count": 0,
      "outputs": [
        {
          "output_type": "execute_result",
          "data": {
            "text/plain": [
              "['member',\n",
              " 'public',\n",
              " 'charg',\n",
              " 'hear',\n",
              " 'scott',\n",
              " 'walker',\n",
              " 'dozen',\n",
              " 'member',\n",
              " 'administr',\n",
              " 'talk',\n",
              " 'job',\n",
              " 'economi',\n",
              " 'lambeau',\n",
              " 'field']"
            ]
          },
          "metadata": {
            "tags": []
          },
          "execution_count": 252
        }
      ]
    },
    {
      "cell_type": "markdown",
      "metadata": {
        "id": "IK_YXVvpwYdw",
        "colab_type": "text"
      },
      "source": [
        "#### Performance evaluation by classifying sample document using LDA Bag of Words model\n",
        "We will check where our test document would be classified."
      ]
    },
    {
      "cell_type": "code",
      "metadata": {
        "id": "d6GywYg4wYdx",
        "colab_type": "code",
        "colab": {},
        "outputId": "0fe49514-fc02-4c8b-84bd-0af88c72a6bd"
      },
      "source": [
        "for index, score in sorted(lda_model[bow_corpus[0]], key=lambda tup: -1*tup[1]):\n",
        "    print(\"\\nScore: {}\\t \\nTopic: {}\".format(score, lda_model.print_topic(index, 10)))"
      ],
      "execution_count": 0,
      "outputs": [
        {
          "output_type": "stream",
          "text": [
            "\n",
            "Score: 0.5924305319786072\t \n",
            "Topic: 0.069*\"say\" + 0.028*\"percent\" + 0.019*\"vote\" + 0.017*\"tax\" + 0.017*\"state\" + 0.016*\"clinton\" + 0.013*\"rais\" + 0.013*\"hillari\" + 0.011*\"go\" + 0.011*\"republican\"\n",
            "\n",
            "Score: 0.3075367212295532\t \n",
            "Topic: 0.025*\"say\" + 0.015*\"health\" + 0.014*\"care\" + 0.013*\"trump\" + 0.013*\"dont\" + 0.012*\"support\" + 0.012*\"state\" + 0.011*\"american\" + 0.010*\"donald\" + 0.009*\"texa\"\n",
            "\n",
            "Score: 0.012505073100328445\t \n",
            "Topic: 0.076*\"say\" + 0.028*\"year\" + 0.023*\"presid\" + 0.022*\"obama\" + 0.016*\"billion\" + 0.013*\"barack\" + 0.012*\"scott\" + 0.010*\"state\" + 0.010*\"million\" + 0.009*\"govern\"\n",
            "\n",
            "Score: 0.01250486634671688\t \n",
            "Topic: 0.034*\"year\" + 0.033*\"health\" + 0.019*\"percent\" + 0.018*\"care\" + 0.017*\"insur\" + 0.016*\"plan\" + 0.015*\"spend\" + 0.015*\"say\" + 0.013*\"senat\" + 0.013*\"american\"\n",
            "\n",
            "Score: 0.012504825368523598\t \n",
            "Topic: 0.020*\"obama\" + 0.018*\"say\" + 0.012*\"state\" + 0.012*\"vote\" + 0.011*\"time\" + 0.010*\"florida\" + 0.010*\"forc\" + 0.009*\"percent\" + 0.009*\"presid\" + 0.009*\"servic\"\n",
            "\n",
            "Score: 0.012504326179623604\t \n",
            "Topic: 0.036*\"say\" + 0.019*\"million\" + 0.019*\"obama\" + 0.016*\"american\" + 0.014*\"state\" + 0.011*\"year\" + 0.011*\"job\" + 0.010*\"presid\" + 0.009*\"vote\" + 0.009*\"dollar\"\n",
            "\n",
            "Score: 0.012504123151302338\t \n",
            "Topic: 0.043*\"say\" + 0.019*\"year\" + 0.016*\"state\" + 0.015*\"care\" + 0.015*\"fund\" + 0.013*\"school\" + 0.012*\"budget\" + 0.012*\"health\" + 0.011*\"offic\" + 0.011*\"million\"\n",
            "\n",
            "Score: 0.012503263540565968\t \n",
            "Topic: 0.039*\"percent\" + 0.036*\"peopl\" + 0.029*\"state\" + 0.013*\"say\" + 0.012*\"health\" + 0.012*\"unemploy\" + 0.012*\"work\" + 0.012*\"countri\" + 0.011*\"year\" + 0.011*\"unit\"\n",
            "\n",
            "Score: 0.012503118254244328\t \n",
            "Topic: 0.037*\"state\" + 0.028*\"year\" + 0.022*\"say\" + 0.013*\"texa\" + 0.011*\"peopl\" + 0.011*\"immigr\" + 0.010*\"school\" + 0.010*\"unit\" + 0.009*\"georgia\" + 0.007*\"call\"\n",
            "\n",
            "Score: 0.012503095902502537\t \n",
            "Topic: 0.044*\"job\" + 0.020*\"percent\" + 0.017*\"creat\" + 0.016*\"debt\" + 0.015*\"countri\" + 0.014*\"lose\" + 0.014*\"nation\" + 0.014*\"million\" + 0.014*\"texa\" + 0.012*\"trillion\"\n"
          ],
          "name": "stdout"
        }
      ]
    },
    {
      "cell_type": "markdown",
      "metadata": {
        "id": "Gdfh07gvwYd1",
        "colab_type": "text"
      },
      "source": [
        "### Performance Evaluation by classifying sample document using LDA TF-IDF model"
      ]
    },
    {
      "cell_type": "code",
      "metadata": {
        "id": "AgsY4RDgwYd3",
        "colab_type": "code",
        "colab": {},
        "outputId": "0b10158b-0ef2-414b-ff60-6feb693b05be"
      },
      "source": [
        "for index, score in sorted(lda_model_tfidf[bow_corpus[0]], key=lambda tup: -1*tup[1]):\n",
        "    print(\"\\nScore: {}\\t \\nTopic: {}\".format(score, lda_model_tfidf.print_topic(index, 10)))"
      ],
      "execution_count": 0,
      "outputs": [
        {
          "output_type": "stream",
          "text": [
            "\n",
            "Score: 0.887467622756958\t \n",
            "Topic: 0.012*\"say\" + 0.011*\"support\" + 0.011*\"state\" + 0.010*\"american\" + 0.009*\"island\" + 0.008*\"rhode\" + 0.008*\"florida\" + 0.007*\"tax\" + 0.007*\"year\" + 0.007*\"billion\"\n",
            "\n",
            "Score: 0.012506441213190556\t \n",
            "Topic: 0.014*\"say\" + 0.012*\"year\" + 0.011*\"percent\" + 0.010*\"job\" + 0.010*\"state\" + 0.009*\"trump\" + 0.008*\"governor\" + 0.007*\"donald\" + 0.006*\"health\" + 0.006*\"creat\"\n",
            "\n",
            "Score: 0.01250371616333723\t \n",
            "Topic: 0.012*\"percent\" + 0.011*\"health\" + 0.010*\"say\" + 0.010*\"year\" + 0.008*\"care\" + 0.008*\"peopl\" + 0.007*\"feder\" + 0.007*\"spend\" + 0.007*\"state\" + 0.006*\"obama\"\n",
            "\n",
            "Score: 0.012503603473305702\t \n",
            "Topic: 0.020*\"say\" + 0.010*\"vote\" + 0.010*\"percent\" + 0.009*\"dollar\" + 0.009*\"romney\" + 0.008*\"care\" + 0.008*\"mitt\" + 0.008*\"fund\" + 0.008*\"health\" + 0.007*\"year\"\n",
            "\n",
            "Score: 0.012503494508564472\t \n",
            "Topic: 0.012*\"say\" + 0.011*\"presid\" + 0.010*\"immigr\" + 0.009*\"obama\" + 0.009*\"illeg\" + 0.008*\"year\" + 0.008*\"job\" + 0.008*\"million\" + 0.008*\"come\" + 0.008*\"muslim\"\n",
            "\n",
            "Score: 0.012503264471888542\t \n",
            "Topic: 0.015*\"year\" + 0.014*\"say\" + 0.013*\"percent\" + 0.009*\"cost\" + 0.008*\"obama\" + 0.008*\"plan\" + 0.007*\"job\" + 0.007*\"go\" + 0.007*\"tax\" + 0.007*\"presid\"\n",
            "\n",
            "Score: 0.012503141537308693\t \n",
            "Topic: 0.014*\"obama\" + 0.012*\"say\" + 0.011*\"countri\" + 0.011*\"state\" + 0.009*\"peopl\" + 0.009*\"presid\" + 0.008*\"barack\" + 0.008*\"texa\" + 0.007*\"vote\" + 0.007*\"economi\"\n",
            "\n",
            "Score: 0.012503090314567089\t \n",
            "Topic: 0.012*\"say\" + 0.011*\"state\" + 0.010*\"tax\" + 0.009*\"highest\" + 0.009*\"million\" + 0.009*\"job\" + 0.009*\"rate\" + 0.009*\"school\" + 0.009*\"rais\" + 0.008*\"vote\"\n",
            "\n",
            "Score: 0.012503025121986866\t \n",
            "Topic: 0.013*\"state\" + 0.010*\"say\" + 0.010*\"percent\" + 0.010*\"world\" + 0.009*\"unit\" + 0.009*\"busi\" + 0.009*\"obama\" + 0.008*\"year\" + 0.008*\"st\" + 0.008*\"largest\"\n",
            "\n",
            "Score: 0.012502657249569893\t \n",
            "Topic: 0.013*\"say\" + 0.011*\"govern\" + 0.010*\"averag\" + 0.010*\"million\" + 0.009*\"year\" + 0.009*\"nation\" + 0.008*\"america\" + 0.008*\"american\" + 0.008*\"percent\" + 0.007*\"secur\"\n"
          ],
          "name": "stdout"
        }
      ]
    },
    {
      "cell_type": "markdown",
      "metadata": {
        "id": "0cU04gm5wYd6",
        "colab_type": "text"
      },
      "source": [
        "### MultinomialNB classifier"
      ]
    },
    {
      "cell_type": "code",
      "metadata": {
        "id": "A5KBlasPwYd6",
        "colab_type": "code",
        "colab": {}
      },
      "source": [
        "from sklearn.pipeline import Pipeline\n",
        "from sklearn.feature_extraction.text import CountVectorizer\n",
        "from sklearn.feature_extraction.text import TfidfTransformer\n",
        "from sklearn.naive_bayes import MultinomialNB\n",
        "from sklearn.metrics import classification_report,confusion_matrix\n",
        "\n",
        "pipeline = Pipeline([\n",
        "    ('bow',CountVectorizer(analyzer=preprocess)), # converts strings to integer counts\n",
        "    ('tfidf',TfidfTransformer()), # converts integer counts to weighted TF-IDF scores\n",
        "    ('classifier',MultinomialNB()) # train on TF-IDF vectors with Naive Bayes classifier\n",
        "])"
      ],
      "execution_count": 0,
      "outputs": []
    },
    {
      "cell_type": "code",
      "metadata": {
        "id": "yafrYJdGwYd-",
        "colab_type": "code",
        "colab": {},
        "outputId": "07588d2f-ec47-4b3f-abe4-4189a5dea414"
      },
      "source": [
        "#dfTwoCols= train_news[['Label','Subject']]\n",
        "dfTwoCols= train_news[['Label','Speaker\\'sJobTitle']]\n",
        "dfTwoCols.groupby(\"Label\").count().plot(kind='bar')"
      ],
      "execution_count": 0,
      "outputs": [
        {
          "output_type": "execute_result",
          "data": {
            "text/plain": [
              "<matplotlib.axes._subplots.AxesSubplot at 0x142d3710>"
            ]
          },
          "metadata": {
            "tags": []
          },
          "execution_count": 52
        },
        {
          "output_type": "display_data",
          "data": {
            "image/png": "[encoded data removed]",
            "text/plain": [
              "<Figure size 432x288 with 1 Axes>"
            ]
          },
          "metadata": {
            "tags": [],
            "needs_background": "light"
          }
        }
      ]
    },
    {
      "cell_type": "code",
      "metadata": {
        "id": "TWhZdVENwYd_",
        "colab_type": "code",
        "colab": {},
        "outputId": "0130e924-b699-421e-e6fe-73a9e64f6cb8"
      },
      "source": [
        "dfTwoCols['verdict'] = dfTwoCols['Label'].map({'false': 0, 'true': 1, 'barely-true':0, 'half-true':1,'mostly-true':1,'pants-fire':0})\n",
        "dfTwoCols"
      ],
      "execution_count": 0,
      "outputs": [
        {
          "output_type": "execute_result",
          "data": {
            "text/html": [
              "<div>\n",
              "<style scoped>\n",
              "    .dataframe tbody tr th:only-of-type {\n",
              "        vertical-align: middle;\n",
              "    }\n",
              "\n",
              "    .dataframe tbody tr th {\n",
              "        vertical-align: top;\n",
              "    }\n",
              "\n",
              "    .dataframe thead th {\n",
              "        text-align: right;\n",
              "    }\n",
              "</style>\n",
              "<table border=\"1\" class=\"dataframe\">\n",
              "  <thead>\n",
              "    <tr style=\"text-align: right;\">\n",
              "      <th></th>\n",
              "      <th>Label</th>\n",
              "      <th>Speaker'sJobTitle</th>\n",
              "      <th>verdict</th>\n",
              "    </tr>\n",
              "  </thead>\n",
              "  <tbody>\n",
              "    <tr>\n",
              "      <th>0</th>\n",
              "      <td>false</td>\n",
              "      <td>State representative</td>\n",
              "      <td>0</td>\n",
              "    </tr>\n",
              "    <tr>\n",
              "      <th>1</th>\n",
              "      <td>half-true</td>\n",
              "      <td>State delegate</td>\n",
              "      <td>1</td>\n",
              "    </tr>\n",
              "    <tr>\n",
              "      <th>2</th>\n",
              "      <td>mostly-true</td>\n",
              "      <td>President</td>\n",
              "      <td>1</td>\n",
              "    </tr>\n",
              "    <tr>\n",
              "      <th>3</th>\n",
              "      <td>false</td>\n",
              "      <td>NaN</td>\n",
              "      <td>0</td>\n",
              "    </tr>\n",
              "    <tr>\n",
              "      <th>4</th>\n",
              "      <td>half-true</td>\n",
              "      <td>NaN</td>\n",
              "      <td>1</td>\n",
              "    </tr>\n",
              "    <tr>\n",
              "      <th>5</th>\n",
              "      <td>true</td>\n",
              "      <td>Wisconsin Assembly speaker</td>\n",
              "      <td>1</td>\n",
              "    </tr>\n",
              "    <tr>\n",
              "      <th>6</th>\n",
              "      <td>barely-true</td>\n",
              "      <td>NaN</td>\n",
              "      <td>0</td>\n",
              "    </tr>\n",
              "    <tr>\n",
              "      <th>7</th>\n",
              "      <td>half-true</td>\n",
              "      <td>President</td>\n",
              "      <td>1</td>\n",
              "    </tr>\n",
              "    <tr>\n",
              "      <th>8</th>\n",
              "      <td>half-true</td>\n",
              "      <td>NaN</td>\n",
              "      <td>1</td>\n",
              "    </tr>\n",
              "    <tr>\n",
              "      <th>9</th>\n",
              "      <td>mostly-true</td>\n",
              "      <td>State representative</td>\n",
              "      <td>1</td>\n",
              "    </tr>\n",
              "    <tr>\n",
              "      <th>10</th>\n",
              "      <td>mostly-true</td>\n",
              "      <td>U.S. Senator</td>\n",
              "      <td>1</td>\n",
              "    </tr>\n",
              "    <tr>\n",
              "      <th>11</th>\n",
              "      <td>half-true</td>\n",
              "      <td>U.S. Senator</td>\n",
              "      <td>1</td>\n",
              "    </tr>\n",
              "    <tr>\n",
              "      <th>12</th>\n",
              "      <td>false</td>\n",
              "      <td>Former governor</td>\n",
              "      <td>0</td>\n",
              "    </tr>\n",
              "    <tr>\n",
              "      <th>13</th>\n",
              "      <td>mostly-true</td>\n",
              "      <td>NaN</td>\n",
              "      <td>1</td>\n",
              "    </tr>\n",
              "    <tr>\n",
              "      <th>14</th>\n",
              "      <td>barely-true</td>\n",
              "      <td>Columnist</td>\n",
              "      <td>0</td>\n",
              "    </tr>\n",
              "    <tr>\n",
              "      <th>15</th>\n",
              "      <td>half-true</td>\n",
              "      <td>U.S. Senator</td>\n",
              "      <td>1</td>\n",
              "    </tr>\n",
              "    <tr>\n",
              "      <th>16</th>\n",
              "      <td>true</td>\n",
              "      <td>President</td>\n",
              "      <td>1</td>\n",
              "    </tr>\n",
              "    <tr>\n",
              "      <th>17</th>\n",
              "      <td>barely-true</td>\n",
              "      <td>NaN</td>\n",
              "      <td>0</td>\n",
              "    </tr>\n",
              "    <tr>\n",
              "      <th>18</th>\n",
              "      <td>half-true</td>\n",
              "      <td>U.S. House member -- 4th District</td>\n",
              "      <td>1</td>\n",
              "    </tr>\n",
              "    <tr>\n",
              "      <th>19</th>\n",
              "      <td>mostly-true</td>\n",
              "      <td>Treasury secretary</td>\n",
              "      <td>1</td>\n",
              "    </tr>\n",
              "    <tr>\n",
              "      <th>20</th>\n",
              "      <td>false</td>\n",
              "      <td>state representative</td>\n",
              "      <td>0</td>\n",
              "    </tr>\n",
              "    <tr>\n",
              "      <th>21</th>\n",
              "      <td>mostly-true</td>\n",
              "      <td>Co-host on Fox News Channel's \"The Five\"</td>\n",
              "      <td>1</td>\n",
              "    </tr>\n",
              "    <tr>\n",
              "      <th>22</th>\n",
              "      <td>mostly-true</td>\n",
              "      <td>Presidential candidate</td>\n",
              "      <td>1</td>\n",
              "    </tr>\n",
              "    <tr>\n",
              "      <th>23</th>\n",
              "      <td>half-true</td>\n",
              "      <td>NaN</td>\n",
              "      <td>1</td>\n",
              "    </tr>\n",
              "    <tr>\n",
              "      <th>24</th>\n",
              "      <td>barely-true</td>\n",
              "      <td>Advocacy group</td>\n",
              "      <td>0</td>\n",
              "    </tr>\n",
              "    <tr>\n",
              "      <th>25</th>\n",
              "      <td>false</td>\n",
              "      <td>House Minority Leader</td>\n",
              "      <td>0</td>\n",
              "    </tr>\n",
              "    <tr>\n",
              "      <th>26</th>\n",
              "      <td>mostly-true</td>\n",
              "      <td>Presidential candidate</td>\n",
              "      <td>1</td>\n",
              "    </tr>\n",
              "    <tr>\n",
              "      <th>27</th>\n",
              "      <td>half-true</td>\n",
              "      <td>musician</td>\n",
              "      <td>1</td>\n",
              "    </tr>\n",
              "    <tr>\n",
              "      <th>28</th>\n",
              "      <td>false</td>\n",
              "      <td>President of American Freedom Defense Intitiative</td>\n",
              "      <td>0</td>\n",
              "    </tr>\n",
              "    <tr>\n",
              "      <th>29</th>\n",
              "      <td>mostly-true</td>\n",
              "      <td>Lieutenant governor</td>\n",
              "      <td>1</td>\n",
              "    </tr>\n",
              "    <tr>\n",
              "      <th>...</th>\n",
              "      <td>...</td>\n",
              "      <td>...</td>\n",
              "      <td>...</td>\n",
              "    </tr>\n",
              "    <tr>\n",
              "      <th>10210</th>\n",
              "      <td>true</td>\n",
              "      <td>Chairman of the Council of Economic Advisers</td>\n",
              "      <td>1</td>\n",
              "    </tr>\n",
              "    <tr>\n",
              "      <th>10211</th>\n",
              "      <td>true</td>\n",
              "      <td>Former mayor of Houston</td>\n",
              "      <td>1</td>\n",
              "    </tr>\n",
              "    <tr>\n",
              "      <th>10212</th>\n",
              "      <td>half-true</td>\n",
              "      <td>State Representative</td>\n",
              "      <td>1</td>\n",
              "    </tr>\n",
              "    <tr>\n",
              "      <th>10213</th>\n",
              "      <td>barely-true</td>\n",
              "      <td>Democratic National Committee chairman</td>\n",
              "      <td>0</td>\n",
              "    </tr>\n",
              "    <tr>\n",
              "      <th>10214</th>\n",
              "      <td>false</td>\n",
              "      <td>U.S. Congressman</td>\n",
              "      <td>0</td>\n",
              "    </tr>\n",
              "    <tr>\n",
              "      <th>10215</th>\n",
              "      <td>barely-true</td>\n",
              "      <td>Senator</td>\n",
              "      <td>0</td>\n",
              "    </tr>\n",
              "    <tr>\n",
              "      <th>10216</th>\n",
              "      <td>false</td>\n",
              "      <td>NaN</td>\n",
              "      <td>0</td>\n",
              "    </tr>\n",
              "    <tr>\n",
              "      <th>10217</th>\n",
              "      <td>half-true</td>\n",
              "      <td>8th District congressional candidate</td>\n",
              "      <td>1</td>\n",
              "    </tr>\n",
              "    <tr>\n",
              "      <th>10218</th>\n",
              "      <td>false</td>\n",
              "      <td>NaN</td>\n",
              "      <td>0</td>\n",
              "    </tr>\n",
              "    <tr>\n",
              "      <th>10219</th>\n",
              "      <td>half-true</td>\n",
              "      <td>NaN</td>\n",
              "      <td>1</td>\n",
              "    </tr>\n",
              "    <tr>\n",
              "      <th>10220</th>\n",
              "      <td>mostly-true</td>\n",
              "      <td>President</td>\n",
              "      <td>1</td>\n",
              "    </tr>\n",
              "    <tr>\n",
              "      <th>10221</th>\n",
              "      <td>false</td>\n",
              "      <td>NaN</td>\n",
              "      <td>0</td>\n",
              "    </tr>\n",
              "    <tr>\n",
              "      <th>10222</th>\n",
              "      <td>true</td>\n",
              "      <td>U.S. House of Representatives</td>\n",
              "      <td>1</td>\n",
              "    </tr>\n",
              "    <tr>\n",
              "      <th>10223</th>\n",
              "      <td>mostly-true</td>\n",
              "      <td>White House press secretary</td>\n",
              "      <td>1</td>\n",
              "    </tr>\n",
              "    <tr>\n",
              "      <th>10224</th>\n",
              "      <td>barely-true</td>\n",
              "      <td>NaN</td>\n",
              "      <td>0</td>\n",
              "    </tr>\n",
              "    <tr>\n",
              "      <th>10225</th>\n",
              "      <td>half-true</td>\n",
              "      <td>NaN</td>\n",
              "      <td>1</td>\n",
              "    </tr>\n",
              "    <tr>\n",
              "      <th>10226</th>\n",
              "      <td>mostly-true</td>\n",
              "      <td>President, The Whitman Strategy Group</td>\n",
              "      <td>1</td>\n",
              "    </tr>\n",
              "    <tr>\n",
              "      <th>10227</th>\n",
              "      <td>pants-fire</td>\n",
              "      <td>State Senator</td>\n",
              "      <td>0</td>\n",
              "    </tr>\n",
              "    <tr>\n",
              "      <th>10228</th>\n",
              "      <td>barely-true</td>\n",
              "      <td>President-Elect</td>\n",
              "      <td>0</td>\n",
              "    </tr>\n",
              "    <tr>\n",
              "      <th>10229</th>\n",
              "      <td>mostly-true</td>\n",
              "      <td>NaN</td>\n",
              "      <td>1</td>\n",
              "    </tr>\n",
              "    <tr>\n",
              "      <th>10230</th>\n",
              "      <td>barely-true</td>\n",
              "      <td>Senator</td>\n",
              "      <td>0</td>\n",
              "    </tr>\n",
              "    <tr>\n",
              "      <th>10231</th>\n",
              "      <td>half-true</td>\n",
              "      <td>State Senator, 8th District</td>\n",
              "      <td>1</td>\n",
              "    </tr>\n",
              "    <tr>\n",
              "      <th>10232</th>\n",
              "      <td>half-true</td>\n",
              "      <td>Senior editor, The Atlantic</td>\n",
              "      <td>1</td>\n",
              "    </tr>\n",
              "    <tr>\n",
              "      <th>10233</th>\n",
              "      <td>pants-fire</td>\n",
              "      <td>NaN</td>\n",
              "      <td>0</td>\n",
              "    </tr>\n",
              "    <tr>\n",
              "      <th>10234</th>\n",
              "      <td>half-true</td>\n",
              "      <td>NaN</td>\n",
              "      <td>1</td>\n",
              "    </tr>\n",
              "    <tr>\n",
              "      <th>10235</th>\n",
              "      <td>mostly-true</td>\n",
              "      <td>NaN</td>\n",
              "      <td>1</td>\n",
              "    </tr>\n",
              "    <tr>\n",
              "      <th>10236</th>\n",
              "      <td>mostly-true</td>\n",
              "      <td>NaN</td>\n",
              "      <td>1</td>\n",
              "    </tr>\n",
              "    <tr>\n",
              "      <th>10237</th>\n",
              "      <td>half-true</td>\n",
              "      <td>NaN</td>\n",
              "      <td>1</td>\n",
              "    </tr>\n",
              "    <tr>\n",
              "      <th>10238</th>\n",
              "      <td>false</td>\n",
              "      <td>NaN</td>\n",
              "      <td>0</td>\n",
              "    </tr>\n",
              "    <tr>\n",
              "      <th>10239</th>\n",
              "      <td>pants-fire</td>\n",
              "      <td>chairman of the Republican National Committee</td>\n",
              "      <td>0</td>\n",
              "    </tr>\n",
              "  </tbody>\n",
              "</table>\n",
              "<p>10240 rows × 3 columns</p>\n",
              "</div>"
            ],
            "text/plain": [
              "             Label                                  Speaker'sJobTitle  verdict\n",
              "0            false                               State representative        0\n",
              "1        half-true                                     State delegate        1\n",
              "2      mostly-true                                          President        1\n",
              "3            false                                                NaN        0\n",
              "4        half-true                                                NaN        1\n",
              "5             true                         Wisconsin Assembly speaker        1\n",
              "6      barely-true                                                NaN        0\n",
              "7        half-true                                          President        1\n",
              "8        half-true                                                NaN        1\n",
              "9      mostly-true                               State representative        1\n",
              "10     mostly-true                                       U.S. Senator        1\n",
              "11       half-true                                       U.S. Senator        1\n",
              "12           false                                    Former governor        0\n",
              "13     mostly-true                                                NaN        1\n",
              "14     barely-true                                          Columnist        0\n",
              "15       half-true                                       U.S. Senator        1\n",
              "16            true                                          President        1\n",
              "17     barely-true                                                NaN        0\n",
              "18       half-true                  U.S. House member -- 4th District        1\n",
              "19     mostly-true                                Treasury secretary         1\n",
              "20           false                               state representative        0\n",
              "21     mostly-true           Co-host on Fox News Channel's \"The Five\"        1\n",
              "22     mostly-true                             Presidential candidate        1\n",
              "23       half-true                                                NaN        1\n",
              "24     barely-true                                     Advocacy group        0\n",
              "25           false                              House Minority Leader        0\n",
              "26     mostly-true                             Presidential candidate        1\n",
              "27       half-true                                           musician        1\n",
              "28           false  President of American Freedom Defense Intitiative        0\n",
              "29     mostly-true                                Lieutenant governor        1\n",
              "...            ...                                                ...      ...\n",
              "10210         true       Chairman of the Council of Economic Advisers        1\n",
              "10211         true                            Former mayor of Houston        1\n",
              "10212    half-true                               State Representative        1\n",
              "10213  barely-true             Democratic National Committee chairman        0\n",
              "10214        false                                   U.S. Congressman        0\n",
              "10215  barely-true                                            Senator        0\n",
              "10216        false                                                NaN        0\n",
              "10217    half-true               8th District congressional candidate        1\n",
              "10218        false                                                NaN        0\n",
              "10219    half-true                                                NaN        1\n",
              "10220  mostly-true                                          President        1\n",
              "10221        false                                                NaN        0\n",
              "10222         true                      U.S. House of Representatives        1\n",
              "10223  mostly-true                        White House press secretary        1\n",
              "10224  barely-true                                                NaN        0\n",
              "10225    half-true                                                NaN        1\n",
              "10226  mostly-true              President, The Whitman Strategy Group        1\n",
              "10227   pants-fire                                      State Senator        0\n",
              "10228  barely-true                                    President-Elect        0\n",
              "10229  mostly-true                                                NaN        1\n",
              "10230  barely-true                                            Senator        0\n",
              "10231    half-true                        State Senator, 8th District        1\n",
              "10232    half-true                        Senior editor, The Atlantic        1\n",
              "10233   pants-fire                                                NaN        0\n",
              "10234    half-true                                                NaN        1\n",
              "10235  mostly-true                                                NaN        1\n",
              "10236  mostly-true                                                NaN        1\n",
              "10237    half-true                                                NaN        1\n",
              "10238        false                                                NaN        0\n",
              "10239   pants-fire      chairman of the Republican National Committee        0\n",
              "\n",
              "[10240 rows x 3 columns]"
            ]
          },
          "metadata": {
            "tags": []
          },
          "execution_count": 53
        }
      ]
    },
    {
      "cell_type": "code",
      "metadata": {
        "id": "qi-q6NbjwYeC",
        "colab_type": "code",
        "colab": {},
        "outputId": "3971f6db-98d7-4308-be4e-ccfecaa14867"
      },
      "source": [
        "dfTwoCols.groupby(\"verdict\").count().plot(kind='bar')"
      ],
      "execution_count": 0,
      "outputs": [
        {
          "output_type": "execute_result",
          "data": {
            "text/plain": [
              "<matplotlib.axes._subplots.AxesSubplot at 0x141a2ef0>"
            ]
          },
          "metadata": {
            "tags": []
          },
          "execution_count": 54
        },
        {
          "output_type": "display_data",
          "data": {
            "image/png": "[encoded data removed]",
            "text/plain": [
              "<Figure size 432x288 with 1 Axes>"
            ]
          },
          "metadata": {
            "tags": [],
            "needs_background": "light"
          }
        }
      ]
    },
    {
      "cell_type": "code",
      "metadata": {
        "id": "Zirl7e0wwYeH",
        "colab_type": "code",
        "colab": {},
        "outputId": "dfc9800a-c612-428f-84bc-6038666e8e3c"
      },
      "source": [
        "ct1=pd.crosstab(dfTwoCols[\"Speaker\\'sJobTitle\"],dfTwoCols[\"verdict\"],margins=True)\n",
        "ct1.sort_values('All', ascending=False)"
      ],
      "execution_count": 0,
      "outputs": [
        {
          "output_type": "execute_result",
          "data": {
            "text/html": [
              "<div>\n",
              "<style scoped>\n",
              "    .dataframe tbody tr th:only-of-type {\n",
              "        vertical-align: middle;\n",
              "    }\n",
              "\n",
              "    .dataframe tbody tr th {\n",
              "        vertical-align: top;\n",
              "    }\n",
              "\n",
              "    .dataframe thead th {\n",
              "        text-align: right;\n",
              "    }\n",
              "</style>\n",
              "<table border=\"1\" class=\"dataframe\">\n",
              "  <thead>\n",
              "    <tr style=\"text-align: right;\">\n",
              "      <th>verdict</th>\n",
              "      <th>0</th>\n",
              "      <th>1</th>\n",
              "      <th>All</th>\n",
              "    </tr>\n",
              "    <tr>\n",
              "      <th>Speaker'sJobTitle</th>\n",
              "      <th></th>\n",
              "      <th></th>\n",
              "      <th></th>\n",
              "    </tr>\n",
              "  </thead>\n",
              "  <tbody>\n",
              "    <tr>\n",
              "      <th>All</th>\n",
              "      <td>3079</td>\n",
              "      <td>4264</td>\n",
              "      <td>7343</td>\n",
              "    </tr>\n",
              "    <tr>\n",
              "      <th>President</th>\n",
              "      <td>132</td>\n",
              "      <td>360</td>\n",
              "      <td>492</td>\n",
              "    </tr>\n",
              "    <tr>\n",
              "      <th>U.S. Senator</th>\n",
              "      <td>144</td>\n",
              "      <td>335</td>\n",
              "      <td>479</td>\n",
              "    </tr>\n",
              "    <tr>\n",
              "      <th>Governor</th>\n",
              "      <td>174</td>\n",
              "      <td>217</td>\n",
              "      <td>391</td>\n",
              "    </tr>\n",
              "    <tr>\n",
              "      <th>President-Elect</th>\n",
              "      <td>201</td>\n",
              "      <td>72</td>\n",
              "      <td>273</td>\n",
              "    </tr>\n",
              "    <tr>\n",
              "      <th>U.S. senator</th>\n",
              "      <td>98</td>\n",
              "      <td>165</td>\n",
              "      <td>263</td>\n",
              "    </tr>\n",
              "    <tr>\n",
              "      <th>Presidential candidate</th>\n",
              "      <td>68</td>\n",
              "      <td>186</td>\n",
              "      <td>254</td>\n",
              "    </tr>\n",
              "    <tr>\n",
              "      <th>Former governor</th>\n",
              "      <td>72</td>\n",
              "      <td>104</td>\n",
              "      <td>176</td>\n",
              "    </tr>\n",
              "    <tr>\n",
              "      <th>U.S. Representative</th>\n",
              "      <td>73</td>\n",
              "      <td>99</td>\n",
              "      <td>172</td>\n",
              "    </tr>\n",
              "    <tr>\n",
              "      <th>Milwaukee County Executive</th>\n",
              "      <td>65</td>\n",
              "      <td>84</td>\n",
              "      <td>149</td>\n",
              "    </tr>\n",
              "    <tr>\n",
              "      <th>Senator</th>\n",
              "      <td>82</td>\n",
              "      <td>65</td>\n",
              "      <td>147</td>\n",
              "    </tr>\n",
              "    <tr>\n",
              "      <th>State Senator</th>\n",
              "      <td>43</td>\n",
              "      <td>65</td>\n",
              "      <td>108</td>\n",
              "    </tr>\n",
              "    <tr>\n",
              "      <th>U.S. representative</th>\n",
              "      <td>39</td>\n",
              "      <td>64</td>\n",
              "      <td>103</td>\n",
              "    </tr>\n",
              "    <tr>\n",
              "      <th>U.S. House of Representatives</th>\n",
              "      <td>49</td>\n",
              "      <td>53</td>\n",
              "      <td>102</td>\n",
              "    </tr>\n",
              "    <tr>\n",
              "      <th>Attorney</th>\n",
              "      <td>39</td>\n",
              "      <td>42</td>\n",
              "      <td>81</td>\n",
              "    </tr>\n",
              "    <tr>\n",
              "      <th>Congressman</th>\n",
              "      <td>36</td>\n",
              "      <td>44</td>\n",
              "      <td>80</td>\n",
              "    </tr>\n",
              "    <tr>\n",
              "      <th>Governor of New Jersey</th>\n",
              "      <td>30</td>\n",
              "      <td>48</td>\n",
              "      <td>78</td>\n",
              "    </tr>\n",
              "    <tr>\n",
              "      <th>Social media posting</th>\n",
              "      <td>50</td>\n",
              "      <td>28</td>\n",
              "      <td>78</td>\n",
              "    </tr>\n",
              "    <tr>\n",
              "      <th>Co-host on CNN's \"Crossfire\"</th>\n",
              "      <td>39</td>\n",
              "      <td>34</td>\n",
              "      <td>73</td>\n",
              "    </tr>\n",
              "    <tr>\n",
              "      <th>State Representative</th>\n",
              "      <td>32</td>\n",
              "      <td>40</td>\n",
              "      <td>72</td>\n",
              "    </tr>\n",
              "    <tr>\n",
              "      <th>State representative</th>\n",
              "      <td>31</td>\n",
              "      <td>35</td>\n",
              "      <td>66</td>\n",
              "    </tr>\n",
              "    <tr>\n",
              "      <th>U.S. Congressman</th>\n",
              "      <td>28</td>\n",
              "      <td>35</td>\n",
              "      <td>63</td>\n",
              "    </tr>\n",
              "    <tr>\n",
              "      <th>Speaker of the House of Representatives</th>\n",
              "      <td>25</td>\n",
              "      <td>25</td>\n",
              "      <td>50</td>\n",
              "    </tr>\n",
              "    <tr>\n",
              "      <th>Congresswoman</th>\n",
              "      <td>37</td>\n",
              "      <td>13</td>\n",
              "      <td>50</td>\n",
              "    </tr>\n",
              "    <tr>\n",
              "      <th>State senator</th>\n",
              "      <td>17</td>\n",
              "      <td>31</td>\n",
              "      <td>48</td>\n",
              "    </tr>\n",
              "    <tr>\n",
              "      <th>state representative</th>\n",
              "      <td>16</td>\n",
              "      <td>28</td>\n",
              "      <td>44</td>\n",
              "    </tr>\n",
              "    <tr>\n",
              "      <th>Governor of Ohio as of Jan. 10, 2011</th>\n",
              "      <td>11</td>\n",
              "      <td>32</td>\n",
              "      <td>43</td>\n",
              "    </tr>\n",
              "    <tr>\n",
              "      <th>state senator</th>\n",
              "      <td>15</td>\n",
              "      <td>27</td>\n",
              "      <td>42</td>\n",
              "    </tr>\n",
              "    <tr>\n",
              "      <th>governor</th>\n",
              "      <td>20</td>\n",
              "      <td>19</td>\n",
              "      <td>39</td>\n",
              "    </tr>\n",
              "    <tr>\n",
              "      <th>Candidate for U.S. Senate and physician</th>\n",
              "      <td>12</td>\n",
              "      <td>27</td>\n",
              "      <td>39</td>\n",
              "    </tr>\n",
              "    <tr>\n",
              "      <th>...</th>\n",
              "      <td>...</td>\n",
              "      <td>...</td>\n",
              "      <td>...</td>\n",
              "    </tr>\n",
              "    <tr>\n",
              "      <th>Director of the Central Intelligence Agency</th>\n",
              "      <td>0</td>\n",
              "      <td>1</td>\n",
              "      <td>1</td>\n",
              "    </tr>\n",
              "    <tr>\n",
              "      <th>Professor, Texas State University</th>\n",
              "      <td>1</td>\n",
              "      <td>0</td>\n",
              "      <td>1</td>\n",
              "    </tr>\n",
              "    <tr>\n",
              "      <th>Professor, University of Texas</th>\n",
              "      <td>0</td>\n",
              "      <td>1</td>\n",
              "      <td>1</td>\n",
              "    </tr>\n",
              "    <tr>\n",
              "      <th>Program manager, Sierra Club of Rhode Island</th>\n",
              "      <td>0</td>\n",
              "      <td>1</td>\n",
              "      <td>1</td>\n",
              "    </tr>\n",
              "    <tr>\n",
              "      <th>Providence City Councilman</th>\n",
              "      <td>1</td>\n",
              "      <td>0</td>\n",
              "      <td>1</td>\n",
              "    </tr>\n",
              "    <tr>\n",
              "      <th>Psychiatrist</th>\n",
              "      <td>0</td>\n",
              "      <td>1</td>\n",
              "      <td>1</td>\n",
              "    </tr>\n",
              "    <tr>\n",
              "      <th>President, Service Employees International Union Local 580</th>\n",
              "      <td>1</td>\n",
              "      <td>0</td>\n",
              "      <td>1</td>\n",
              "    </tr>\n",
              "    <tr>\n",
              "      <th>Director, American Worker Project</th>\n",
              "      <td>0</td>\n",
              "      <td>1</td>\n",
              "      <td>1</td>\n",
              "    </tr>\n",
              "    <tr>\n",
              "      <th>President of the Ohio Senate</th>\n",
              "      <td>0</td>\n",
              "      <td>1</td>\n",
              "      <td>1</td>\n",
              "    </tr>\n",
              "    <tr>\n",
              "      <th>President, Rhode Island Tea Party</th>\n",
              "      <td>0</td>\n",
              "      <td>1</td>\n",
              "      <td>1</td>\n",
              "    </tr>\n",
              "    <tr>\n",
              "      <th>President of the Rhode Island AFL-CIO</th>\n",
              "      <td>1</td>\n",
              "      <td>0</td>\n",
              "      <td>1</td>\n",
              "    </tr>\n",
              "    <tr>\n",
              "      <th>President of the Rochester Business Alliance</th>\n",
              "      <td>0</td>\n",
              "      <td>1</td>\n",
              "      <td>1</td>\n",
              "    </tr>\n",
              "    <tr>\n",
              "      <th>President of the Southern Baptist Convention’s Ethics &amp; Religious Liberty Commission</th>\n",
              "      <td>1</td>\n",
              "      <td>0</td>\n",
              "      <td>1</td>\n",
              "    </tr>\n",
              "    <tr>\n",
              "      <th>District 43 state representative</th>\n",
              "      <td>0</td>\n",
              "      <td>1</td>\n",
              "      <td>1</td>\n",
              "    </tr>\n",
              "    <tr>\n",
              "      <th>President of the board of directors of the Lake Oswego Corporation</th>\n",
              "      <td>0</td>\n",
              "      <td>1</td>\n",
              "      <td>1</td>\n",
              "    </tr>\n",
              "    <tr>\n",
              "      <th>President, American Atheists</th>\n",
              "      <td>1</td>\n",
              "      <td>0</td>\n",
              "      <td>1</td>\n",
              "    </tr>\n",
              "    <tr>\n",
              "      <th>District 3 member, Austin City Council</th>\n",
              "      <td>1</td>\n",
              "      <td>0</td>\n",
              "      <td>1</td>\n",
              "    </tr>\n",
              "    <tr>\n",
              "      <th>President, Austin Independent School District Board of Trustees</th>\n",
              "      <td>0</td>\n",
              "      <td>1</td>\n",
              "      <td>1</td>\n",
              "    </tr>\n",
              "    <tr>\n",
              "      <th>President, Catholics for Choice</th>\n",
              "      <td>0</td>\n",
              "      <td>1</td>\n",
              "      <td>1</td>\n",
              "    </tr>\n",
              "    <tr>\n",
              "      <th>District 1 member, Austin City Council</th>\n",
              "      <td>1</td>\n",
              "      <td>0</td>\n",
              "      <td>1</td>\n",
              "    </tr>\n",
              "    <tr>\n",
              "      <th>Director, The Center for the American Future</th>\n",
              "      <td>1</td>\n",
              "      <td>0</td>\n",
              "      <td>1</td>\n",
              "    </tr>\n",
              "    <tr>\n",
              "      <th>President, EMILY's List</th>\n",
              "      <td>0</td>\n",
              "      <td>1</td>\n",
              "      <td>1</td>\n",
              "    </tr>\n",
              "    <tr>\n",
              "      <th>President, Generation Opportunity</th>\n",
              "      <td>1</td>\n",
              "      <td>0</td>\n",
              "      <td>1</td>\n",
              "    </tr>\n",
              "    <tr>\n",
              "      <th>President, Georgia Retailers Association</th>\n",
              "      <td>0</td>\n",
              "      <td>1</td>\n",
              "      <td>1</td>\n",
              "    </tr>\n",
              "    <tr>\n",
              "      <th>President, Georgia Right to Life</th>\n",
              "      <td>1</td>\n",
              "      <td>0</td>\n",
              "      <td>1</td>\n",
              "    </tr>\n",
              "    <tr>\n",
              "      <th>Director, Sustainable Water Infrastructure Program, Ceres</th>\n",
              "      <td>0</td>\n",
              "      <td>1</td>\n",
              "      <td>1</td>\n",
              "    </tr>\n",
              "    <tr>\n",
              "      <th>Director, Georgia C.A.R.E.</th>\n",
              "      <td>1</td>\n",
              "      <td>0</td>\n",
              "      <td>1</td>\n",
              "    </tr>\n",
              "    <tr>\n",
              "      <th>President, Milwaukee Bucks</th>\n",
              "      <td>1</td>\n",
              "      <td>0</td>\n",
              "      <td>1</td>\n",
              "    </tr>\n",
              "    <tr>\n",
              "      <th>President, National Abortion Federation</th>\n",
              "      <td>0</td>\n",
              "      <td>1</td>\n",
              "      <td>1</td>\n",
              "    </tr>\n",
              "    <tr>\n",
              "      <th>secretary-general of the United Nations</th>\n",
              "      <td>0</td>\n",
              "      <td>1</td>\n",
              "      <td>1</td>\n",
              "    </tr>\n",
              "  </tbody>\n",
              "</table>\n",
              "<p>1185 rows × 3 columns</p>\n",
              "</div>"
            ],
            "text/plain": [
              "verdict                                                0     1   All\n",
              "Speaker'sJobTitle                                                   \n",
              "All                                                 3079  4264  7343\n",
              "President                                            132   360   492\n",
              "U.S. Senator                                         144   335   479\n",
              "Governor                                             174   217   391\n",
              "President-Elect                                      201    72   273\n",
              "U.S. senator                                          98   165   263\n",
              "Presidential candidate                                68   186   254\n",
              "Former governor                                       72   104   176\n",
              "U.S. Representative                                   73    99   172\n",
              "Milwaukee County Executive                            65    84   149\n",
              "Senator                                               82    65   147\n",
              "State Senator                                         43    65   108\n",
              "U.S. representative                                   39    64   103\n",
              "U.S. House of Representatives                         49    53   102\n",
              "Attorney                                              39    42    81\n",
              "Congressman                                           36    44    80\n",
              "Governor of New Jersey                                30    48    78\n",
              "Social media posting                                  50    28    78\n",
              "Co-host on CNN's \"Crossfire\"                          39    34    73\n",
              "State Representative                                  32    40    72\n",
              "State representative                                  31    35    66\n",
              "U.S. Congressman                                      28    35    63\n",
              "Speaker of the House of Representatives               25    25    50\n",
              "Congresswoman                                         37    13    50\n",
              "State senator                                         17    31    48\n",
              "state representative                                  16    28    44\n",
              "Governor of Ohio as of Jan. 10, 2011                  11    32    43\n",
              "state senator                                         15    27    42\n",
              "governor                                              20    19    39\n",
              "Candidate for U.S. Senate and physician               12    27    39\n",
              "...                                                  ...   ...   ...\n",
              "Director of the Central Intelligence Agency            0     1     1\n",
              "Professor, Texas State University                      1     0     1\n",
              "Professor, University of Texas                         0     1     1\n",
              "Program manager, Sierra Club of Rhode Island           0     1     1\n",
              "Providence City Councilman                             1     0     1\n",
              "Psychiatrist                                           0     1     1\n",
              "President, Service Employees International Unio...     1     0     1\n",
              "Director, American Worker Project                      0     1     1\n",
              "President of the Ohio Senate                           0     1     1\n",
              "President, Rhode Island Tea Party                      0     1     1\n",
              "President of the Rhode Island AFL-CIO                  1     0     1\n",
              "President of the Rochester Business Alliance           0     1     1\n",
              "President of the Southern Baptist Convention’s ...     1     0     1\n",
              "District 43 state representative                       0     1     1\n",
              "President of the board of directors of the Lake...     0     1     1\n",
              "President, American Atheists                           1     0     1\n",
              "District 3 member, Austin City Council                 1     0     1\n",
              "President, Austin Independent School District B...     0     1     1\n",
              "President, Catholics for Choice                        0     1     1\n",
              "District 1 member, Austin City Council                 1     0     1\n",
              "Director, The Center for the American Future           1     0     1\n",
              "President, EMILY's List                                0     1     1\n",
              "President, Generation Opportunity                      1     0     1\n",
              "President, Georgia Retailers Association               0     1     1\n",
              "President, Georgia Right to Life                       1     0     1\n",
              "Director, Sustainable Water Infrastructure Prog...     0     1     1\n",
              "Director, Georgia C.A.R.E.                             1     0     1\n",
              "President, Milwaukee Bucks                             1     0     1\n",
              "President, National Abortion Federation                0     1     1\n",
              " secretary-general of the United Nations               0     1     1\n",
              "\n",
              "[1185 rows x 3 columns]"
            ]
          },
          "metadata": {
            "tags": []
          },
          "execution_count": 56
        }
      ]
    },
    {
      "cell_type": "markdown",
      "metadata": {
        "id": "xxLI4nYKwYeL",
        "colab_type": "text"
      },
      "source": [
        "Here we can see especially in the exceptional case of candidates-biography, social security that there is more false news than true. Now that we have some information we can proceed find more information by processing the text to find unique values in subjects. Also by visualization we can observe that sensational news will have extremely polarised graphs. Applying data preprocessing for NLP processing like tokeninsing, stemming etc\n",
        "\n"
      ]
    },
    {
      "cell_type": "code",
      "metadata": {
        "id": "oTOYTxIpwYeM",
        "colab_type": "code",
        "colab": {},
        "outputId": "ad8e0225-97c0-4b01-8581-2fad7651149a"
      },
      "source": [
        "#print(bow_corpus)\n",
        "class_train=np.array(dfTwoCols[\"verdict\"])\n",
        "print(class_train)\n",
        "class_train=class_train.reshape(-1,1)\n",
        "print(class_train)\n",
        "\n",
        "pipeline.fit(train_news['Statement'],class_train)"
      ],
      "execution_count": 0,
      "outputs": [
        {
          "output_type": "stream",
          "text": [
            "[0 1 1 ... 1 0 0]\n",
            "[[0]\n",
            " [1]\n",
            " [1]\n",
            " ...\n",
            " [1]\n",
            " [0]\n",
            " [0]]\n"
          ],
          "name": "stdout"
        },
        {
          "output_type": "execute_result",
          "data": {
            "text/plain": [
              "Pipeline(memory=None,\n",
              "     steps=[('bow', CountVectorizer(analyzer=<function preprocess at 0x000000000E3B4D08>,\n",
              "        binary=False, decode_error='strict', dtype=<class 'numpy.int64'>,\n",
              "        encoding='utf-8', input='content', lowercase=True, max_df=1.0,\n",
              "        max_features=None, min_df=1, ngram_range=(1, 1), preprocessor=...f=False, use_idf=True)), ('classifier', MultinomialNB(alpha=1.0, class_prior=None, fit_prior=True))])"
            ]
          },
          "metadata": {
            "tags": []
          },
          "execution_count": 57
        }
      ]
    },
    {
      "cell_type": "code",
      "metadata": {
        "id": "cO28qDDLwYeN",
        "colab_type": "code",
        "colab": {},
        "outputId": "9e0ba278-09ff-476d-842a-a690f2fac4d0"
      },
      "source": [
        "#test\n",
        "#dfs_test = pd.read_excel(\"input\")\n",
        "msg_test=test_news[\"Statement\"]\n",
        "dfTwoCols_test= test_news[['Label','Subject']]\n",
        "dfTwoCols_test['verdict'] = dfTwoCols_test['Label'].map({'false': 0, 'true': 1, 'barely-true':0, 'half-true':1,'mostly-true':1,'pants-fire':0})\n",
        "dfTwoCols_test\n",
        "class_test=np.array(dfTwoCols_test[\"verdict\"])\n",
        "print(class_test)\n",
        "class_test=class_test.reshape(-1,1)\n",
        "print(class_test)\n",
        "predictions = pipeline.predict(msg_test)"
      ],
      "execution_count": 0,
      "outputs": [
        {
          "output_type": "stream",
          "text": [
            "[1 0 0 ... 0 0 0]\n",
            "[[1]\n",
            " [0]\n",
            " [0]\n",
            " ...\n",
            " [0]\n",
            " [0]\n",
            " [0]]\n"
          ],
          "name": "stdout"
        }
      ]
    },
    {
      "cell_type": "code",
      "metadata": {
        "id": "yJiO0mUmwYeP",
        "colab_type": "code",
        "colab": {},
        "outputId": "c7e57bc9-5352-472d-97a5-69cf4332a0bb"
      },
      "source": [
        "print(classification_report(class_test,predictions))"
      ],
      "execution_count": 0,
      "outputs": [
        {
          "output_type": "stream",
          "text": [
            "              precision    recall  f1-score   support\n",
            "\n",
            "           0       0.63      0.30      0.41       553\n",
            "           1       0.61      0.86      0.72       714\n",
            "\n",
            "   micro avg       0.62      0.62      0.62      1267\n",
            "   macro avg       0.62      0.58      0.56      1267\n",
            "weighted avg       0.62      0.62      0.58      1267\n",
            "\n"
          ],
          "name": "stdout"
        }
      ]
    },
    {
      "cell_type": "code",
      "metadata": {
        "id": "bg9ELGanwYeR",
        "colab_type": "code",
        "colab": {},
        "outputId": "9d757014-44e0-4017-f6a1-0d3b0d979167"
      },
      "source": [
        "sns.heatmap(confusion_matrix(class_test,predictions),annot=True)\n",
        "# references: https://www.kaggle.com/astandrik/simple-spam-filter-using-naive-bayes"
      ],
      "execution_count": 0,
      "outputs": [
        {
          "output_type": "execute_result",
          "data": {
            "text/plain": [
              "<matplotlib.axes._subplots.AxesSubplot at 0x16198a20>"
            ]
          },
          "metadata": {
            "tags": []
          },
          "execution_count": 60
        },
        {
          "output_type": "display_data",
          "data": {
            "image/png": "[encoded data removed]",
            "text/plain": [
              "<Figure size 432x288 with 2 Axes>"
            ]
          },
          "metadata": {
            "tags": [],
            "needs_background": "light"
          }
        }
      ]
    },
    {
      "cell_type": "markdown",
      "metadata": {
        "id": "ace_XgQMwYeW",
        "colab_type": "text"
      },
      "source": [
        "## Classifiers"
      ]
    },
    {
      "cell_type": "code",
      "metadata": {
        "id": "p9w4Gme0wYeX",
        "colab_type": "code",
        "colab": {}
      },
      "source": [
        "from sklearn.feature_extraction.text import CountVectorizer\n",
        "from sklearn.feature_extraction.text import TfidfTransformer\n",
        "from sklearn.feature_extraction.text import TfidfVectorizer\n",
        "from yellowbrick.text import FreqDistVisualizer"
      ],
      "execution_count": 0,
      "outputs": []
    },
    {
      "cell_type": "markdown",
      "metadata": {
        "id": "aXF6DVDLwYeZ",
        "colab_type": "text"
      },
      "source": [
        "#### CounterVectorizer & Stats"
      ]
    },
    {
      "cell_type": "code",
      "metadata": {
        "id": "KtZ2yX5rwYea",
        "colab_type": "code",
        "colab": {}
      },
      "source": [
        "countV = CountVectorizer()\n",
        "train_count = countV.fit_transform(train_news['Statement'].values)\n",
        "def get_countVectorizer_stats():\n",
        "    \n",
        "    #vocab size\n",
        "    train_count.shape\n",
        "\n",
        "    #check vocabulary using below command\n",
        "    print(countV.vocabulary_)\n",
        "\n",
        "    #get feature names\n",
        "    print(countV.get_feature_names()[:25])"
      ],
      "execution_count": 0,
      "outputs": []
    },
    {
      "cell_type": "code",
      "metadata": {
        "id": "likFY1yNwYed",
        "colab_type": "code",
        "colab": {},
        "outputId": "cbcf52cd-d655-4a9c-b26c-2a7707e8d5ce"
      },
      "source": [
        "tfidfV = TfidfTransformer()\n",
        "train_tfidf = tfidfV.fit_transform(train_count)\n",
        "\n",
        "def get_tfidf_stats():\n",
        "    train_tfidf.shape\n",
        "    #get train data feature names \n",
        "    print(train_tfidf.A[:10])\n",
        "    \n",
        "get_tfidf_stats()"
      ],
      "execution_count": 0,
      "outputs": [
        {
          "output_type": "stream",
          "text": [
            "[[0. 0. 0. ... 0. 0. 0.]\n",
            " [0. 0. 0. ... 0. 0. 0.]\n",
            " [0. 0. 0. ... 0. 0. 0.]\n",
            " ...\n",
            " [0. 0. 0. ... 0. 0. 0.]\n",
            " [0. 0. 0. ... 0. 0. 0.]\n",
            " [0. 0. 0. ... 0. 0. 0.]]\n"
          ],
          "name": "stdout"
        }
      ]
    },
    {
      "cell_type": "markdown",
      "metadata": {
        "id": "pHswhKpcwYef",
        "colab_type": "text"
      },
      "source": [
        "#### Tfidfvectorizer compute the word counts, idf and tf-idf values all at once"
      ]
    },
    {
      "cell_type": "code",
      "metadata": {
        "id": "bncIEWQ0wYeg",
        "colab_type": "code",
        "colab": {}
      },
      "source": [
        "tfidf_ngram = TfidfVectorizer(stop_words='english',ngram_range=(1,4),use_idf=True,smooth_idf=True)"
      ],
      "execution_count": 0,
      "outputs": []
    },
    {
      "cell_type": "code",
      "metadata": {
        "id": "RhYx3DmZwYei",
        "colab_type": "code",
        "colab": {}
      },
      "source": [
        "from sklearn.pipeline import Pipeline\n",
        "from sklearn.naive_bayes import MultinomialNB\n",
        "from sklearn.linear_model import  LogisticRegression\n",
        "from sklearn.linear_model import SGDClassifier\n",
        "from sklearn import svm\n",
        "from sklearn.ensemble import RandomForestClassifier\n",
        "from sklearn.model_selection import KFold\n",
        "from sklearn.metrics import confusion_matrix, f1_score, classification_report\n",
        "from sklearn.model_selection import GridSearchCV\n",
        "from sklearn.model_selection import learning_curve\n",
        "import matplotlib.pyplot as plt\n",
        "from sklearn.metrics import precision_recall_curve\n",
        "from sklearn.metrics import average_precision_score"
      ],
      "execution_count": 0,
      "outputs": []
    },
    {
      "cell_type": "markdown",
      "metadata": {
        "id": "VO7elhmPwYek",
        "colab_type": "text"
      },
      "source": [
        "#### Building Classifier using Naives Bayes regression"
      ]
    },
    {
      "cell_type": "code",
      "metadata": {
        "id": "9lBz_pyPwYek",
        "colab_type": "code",
        "colab": {},
        "outputId": "4acd3468-918e-438d-9b38-a01477f415a5"
      },
      "source": [
        "nb_pipeline = Pipeline([\n",
        "        ('NBCV',countV),\n",
        "        ('nb_clf',MultinomialNB())])\n",
        "\n",
        "train_news_label = train_news[labelcolname].dropna()\n",
        "train_news_title = train_news[titlecolname].dropna()\n",
        "test_news_label = test_news[labelcolname].dropna()\n",
        "nb_pipeline.fit(train_news[titlecolname].dropna(), train_news_label[0:len(train_news_title)])\n",
        "predicted_nb = nb_pipeline.predict(test_news[titlecolname].dropna())\n",
        "np.mean(predicted_nb == test_news_label[0:len(predicted_nb)])"
      ],
      "execution_count": 0,
      "outputs": [
        {
          "output_type": "execute_result",
          "data": {
            "text/plain": [
              "0.5668789808917197"
            ]
          },
          "metadata": {
            "tags": []
          },
          "execution_count": 66
        }
      ]
    },
    {
      "cell_type": "markdown",
      "metadata": {
        "id": "FUFsHwFEwYem",
        "colab_type": "text"
      },
      "source": [
        "#### Building Classifier using Logistic regression"
      ]
    },
    {
      "cell_type": "code",
      "metadata": {
        "id": "0PK26CbSwYep",
        "colab_type": "code",
        "colab": {},
        "outputId": "66151715-4ec1-4411-d0fa-92ec197bc443"
      },
      "source": [
        "logR_pipeline = Pipeline([('LogRCV',countV),('LogR_clf',LogisticRegression())])\n",
        "\n",
        "logR_pipeline.fit(train_news_title, train_news_label[0:len(train_news_title)])\n",
        "predicted_LogR = logR_pipeline.predict(test_news[titlecolname].dropna())\n",
        "np.mean(predicted_LogR == test_news_label[0:len(predicted_LogR)])"
      ],
      "execution_count": 0,
      "outputs": [
        {
          "output_type": "execute_result",
          "data": {
            "text/plain": [
              "0.5679405520169851"
            ]
          },
          "metadata": {
            "tags": []
          },
          "execution_count": 67
        }
      ]
    },
    {
      "cell_type": "markdown",
      "metadata": {
        "id": "4rfBZhiBwYer",
        "colab_type": "text"
      },
      "source": [
        "#### Building Classifier using Linear SVM Classifier"
      ]
    },
    {
      "cell_type": "code",
      "metadata": {
        "id": "A11uZZBjwYer",
        "colab_type": "code",
        "colab": {},
        "outputId": "ec3f8a86-e209-44bd-c88c-c12a09f0b136"
      },
      "source": [
        "svm_pipeline = Pipeline([('svmCV',countV),('svm_clf',svm.LinearSVC())])\n",
        "\n",
        "svm_pipeline.fit(train_news_title, train_news_label[0:len(train_news_title)])\n",
        "predicted_svm = svm_pipeline.predict(test_news[titlecolname].dropna())\n",
        "np.mean(predicted_svm == test_news_label[0:len(predicted_svm)])"
      ],
      "execution_count": 0,
      "outputs": [
        {
          "output_type": "execute_result",
          "data": {
            "text/plain": [
              "0.5605095541401274"
            ]
          },
          "metadata": {
            "tags": []
          },
          "execution_count": 68
        }
      ]
    },
    {
      "cell_type": "markdown",
      "metadata": {
        "id": "I-ww0cgBwYeu",
        "colab_type": "text"
      },
      "source": [
        "#### Building Classifier using SVM Stochastic Gradient Descent on hinge loss"
      ]
    },
    {
      "cell_type": "code",
      "metadata": {
        "id": "ygfybPWpwYev",
        "colab_type": "code",
        "colab": {},
        "outputId": "bbd65beb-02b6-4ffd-e97c-83589dfa83fb"
      },
      "source": [
        "#sgd_pipeline = Pipeline([('svm2CV',countV),('svm2_clf',SGDClassifier(loss='hinge', penalty='l2', alpha=1e-3, n_iter=5))])\n",
        "sgd_pipeline = Pipeline([('svm2CV',countV),('svm2_clf',SGDClassifier(loss='hinge', penalty='l2', alpha=1e-3))])\n",
        "\n",
        "sgd_pipeline.fit(train_news_title, train_news_label[0:len(train_news_title)])\n",
        "predicted_sgd = sgd_pipeline.predict(test_news[titlecolname].dropna())\n",
        "np.mean(predicted_sgd == test_news_label[0:len(predicted_sgd)])"
      ],
      "execution_count": 0,
      "outputs": [
        {
          "output_type": "execute_result",
          "data": {
            "text/plain": [
              "0.5732484076433121"
            ]
          },
          "metadata": {
            "tags": []
          },
          "execution_count": 69
        }
      ]
    },
    {
      "cell_type": "markdown",
      "metadata": {
        "id": "BhR16TUtwYew",
        "colab_type": "text"
      },
      "source": [
        "#### Building Classifier using RandomForestClassifier"
      ]
    },
    {
      "cell_type": "code",
      "metadata": {
        "id": "hiCSFEpfwYex",
        "colab_type": "code",
        "colab": {},
        "outputId": "2fba1f84-e0d3-44f8-adf0-e899038ebe82"
      },
      "source": [
        "#random forest\n",
        "random_forest = Pipeline([\n",
        "        ('rfCV',countV),\n",
        "        ('rf_clf',RandomForestClassifier(n_estimators=200,n_jobs=3))\n",
        "        ])\n",
        "    \n",
        "random_forest.fit(train_news_title, train_news_label[0:len(train_news_title)])\n",
        "predicted_rf = random_forest.predict(test_news[titlecolname].dropna())\n",
        "np.mean(predicted_rf == test_news_label[0:len(predicted_rf)])"
      ],
      "execution_count": 0,
      "outputs": [
        {
          "output_type": "execute_result",
          "data": {
            "text/plain": [
              "0.554140127388535"
            ]
          },
          "metadata": {
            "tags": []
          },
          "execution_count": 70
        }
      ]
    },
    {
      "cell_type": "code",
      "metadata": {
        "id": "AbywvAemwYez",
        "colab_type": "code",
        "colab": {}
      },
      "source": [
        "def build_confusion_matrix2(classifier):\n",
        "    \n",
        "    k_fold = KFold(n_splits=5, random_state=None, shuffle=False)\n",
        "    scores = []\n",
        "    confusion = np.array([[0,0],[0,0]])\n",
        "\n",
        "    for train_ind, test_ind in k_fold.split(train_news):\n",
        "        train_text = train_news.iloc[train_ind]['Statement'].dropna()\n",
        "        train_y = train_news.iloc[train_ind][labelcolname].dropna()\n",
        "    \n",
        "        test_text = train_news.iloc[test_ind]['Statement'].dropna()\n",
        "        test_y = train_news.iloc[test_ind][labelcolname].dropna()\n",
        "        \n",
        "        classifier.fit(train_text,train_y)\n",
        "        predictions = classifier.predict(test_text)\n",
        "        \n",
        "        confusion += confusion_matrix(test_y,predictions)\n",
        "        score = f1_score(test_y,predictions)\n",
        "        scores.append(score)\n",
        "    \n",
        "    return (print('Total statements classified:', len(train_news)),\n",
        "    print('Score:', sum(scores)/len(scores)),\n",
        "    print('score length', len(scores)),\n",
        "    print('Confusion matrix:'),\n",
        "    print(confusion))"
      ],
      "execution_count": 0,
      "outputs": []
    },
    {
      "cell_type": "code",
      "metadata": {
        "id": "yNjoxzT0wYe2",
        "colab_type": "code",
        "colab": {}
      },
      "source": [
        "def build_confusion_matrix(classifier):\n",
        "    \n",
        "    k_fold = KFold(n_splits=5, random_state=None, shuffle=False)\n",
        "    scores = []\n",
        "    confusion = np.array([[0,0],[0,0]])\n",
        "    val= []\n",
        "    for train_ind, test_ind in k_fold.split(train_news):\n",
        "        train_text = train_news.iloc[train_ind][titlecolname].dropna() \n",
        "        train_y = train_news.iloc[train_ind][labelcolname].dropna()\n",
        "    \n",
        "        test_text = train_news.iloc[test_ind][titlecolname].dropna()\n",
        "        test_y = train_news.iloc[test_ind][labelcolname].dropna()\n",
        "        \n",
        "        classifier.fit(train_text,train_y[0:len(train_text)])\n",
        "        predictions = classifier.predict(test_text)\n",
        "        confusion += confusion_matrix(test_y[0:len(predictions)],predictions)\n",
        "        score = f1_score(test_y[0:len(predictions)],predictions)\n",
        "        scores.append(score)\n",
        "    \n",
        "    print('Total statements classified:{}'.format(len(train_news)))\n",
        "    print('Score:{}'.format(sum(scores)/len(scores)))\n",
        "    print('Score length:{}'.format(len(scores)))\n",
        "    cm = confusion\n",
        "    #sns.heatmap(pd.DataFrame(cm), annot=True, cmap=\"YlGnBu\" ,fmt='g')\n",
        "    sns.heatmap(cm, annot=True, cmap=\"YlGnBu\" ,fmt='g')\n",
        "    plt.tight_layout()\n",
        "    plt.title('Confusion matrix', y=1.1)\n",
        "    plt.ylabel('Actual label')\n",
        "    plt.xlabel('Predicted label')"
      ],
      "execution_count": 0,
      "outputs": []
    },
    {
      "cell_type": "code",
      "metadata": {
        "id": "WKisa6n6wYe9",
        "colab_type": "code",
        "colab": {},
        "outputId": "10feb8f9-8ef4-498b-9dfc-37704a766f26"
      },
      "source": [
        "build_confusion_matrix(nb_pipeline)"
      ],
      "execution_count": 0,
      "outputs": [
        {
          "output_type": "stream",
          "text": [
            "Total statements classified:10240\n",
            "Score:0.6728445613906109\n",
            "Score length:5\n"
          ],
          "name": "stdout"
        },
        {
          "output_type": "display_data",
          "data": {
            "image/png": "[encoded data removed]",
            "text/plain": [
              "<Figure size 576x396 with 2 Axes>"
            ]
          },
          "metadata": {
            "tags": []
          }
        }
      ]
    },
    {
      "cell_type": "code",
      "metadata": {
        "id": "7XjeoJtswYe-",
        "colab_type": "code",
        "colab": {},
        "outputId": "a895683e-9f1c-47a1-b447-f89f85671bda"
      },
      "source": [
        "build_confusion_matrix(logR_pipeline)"
      ],
      "execution_count": 0,
      "outputs": [
        {
          "output_type": "stream",
          "text": [
            "Total statements classified:10240\n",
            "Score:0.6784570027863126\n",
            "Score length:5\n"
          ],
          "name": "stdout"
        },
        {
          "output_type": "display_data",
          "data": {
            "image/png": "[encoded data removed]",
            "text/plain": [
              "<Figure size 576x396 with 2 Axes>"
            ]
          },
          "metadata": {
            "tags": []
          }
        }
      ]
    },
    {
      "cell_type": "code",
      "metadata": {
        "id": "lLfrYTCowYfA",
        "colab_type": "code",
        "colab": {},
        "outputId": "7bbf5643-9a09-42a3-98ff-3054cdf9c6c5"
      },
      "source": [
        "build_confusion_matrix(svm_pipeline)"
      ],
      "execution_count": 0,
      "outputs": [
        {
          "output_type": "stream",
          "text": [
            "Total statements classified:10240\n",
            "Score:0.6706968258560283\n",
            "Score length:5\n"
          ],
          "name": "stdout"
        },
        {
          "output_type": "display_data",
          "data": {
            "image/png": "[encoded data removed]",
            "text/plain": [
              "<Figure size 576x396 with 2 Axes>"
            ]
          },
          "metadata": {
            "tags": []
          }
        }
      ]
    },
    {
      "cell_type": "code",
      "metadata": {
        "id": "i8S6xIGZwYfB",
        "colab_type": "code",
        "colab": {},
        "outputId": "57f3c390-c575-4267-cc16-23574a574e08"
      },
      "source": [
        "build_confusion_matrix(sgd_pipeline)"
      ],
      "execution_count": 0,
      "outputs": [
        {
          "output_type": "stream",
          "text": [
            "Total statements classified:10240\n",
            "Score:0.6978808829502412\n",
            "Score length:5\n"
          ],
          "name": "stdout"
        },
        {
          "output_type": "display_data",
          "data": {
            "image/png": "[encoded data removed]",
            "text/plain": [
              "<Figure size 576x396 with 2 Axes>"
            ]
          },
          "metadata": {
            "tags": []
          }
        }
      ]
    },
    {
      "cell_type": "code",
      "metadata": {
        "id": "evFujcuCwYfD",
        "colab_type": "code",
        "colab": {},
        "outputId": "dd1c3098-69a4-4699-a236-1fd64365fcb4"
      },
      "source": [
        "build_confusion_matrix(random_forest)"
      ],
      "execution_count": 0,
      "outputs": [
        {
          "output_type": "stream",
          "text": [
            "Total statements classified:10240\n",
            "Score:0.6674515942743836\n",
            "Score length:5\n"
          ],
          "name": "stdout"
        },
        {
          "output_type": "display_data",
          "data": {
            "image/png": "[encoded data removed]",
            "text/plain": [
              "<Figure size 576x396 with 2 Axes>"
            ]
          },
          "metadata": {
            "tags": []
          }
        }
      ]
    },
    {
      "cell_type": "code",
      "metadata": {
        "id": "X3dbSt6UwYfI",
        "colab_type": "code",
        "colab": {},
        "outputId": "ce13fda1-46d6-4270-fc25-6cc41b742e92"
      },
      "source": [
        "dataset_stances2 = pd.read_csv('input_data/New_dataset/train_biases.csv', sep=',')\n",
        "dataset_body2 = pd.read_csv('input_data/New_dataset/train_bodies.csv', sep=',')\n",
        "UCI_Aggregator_load = pd.read_csv('input_data/New_dataset/uci-news-aggregator.csv',sep=',')\n",
        "UCI_Aggregator = UCI_Aggregator_load.dropna(how='any')\n",
        "UCI_Aggregator.head()"
      ],
      "execution_count": 0,
      "outputs": [
        {
          "output_type": "execute_result",
          "data": {
            "text/html": [
              "<div>\n",
              "<style scoped>\n",
              "    .dataframe tbody tr th:only-of-type {\n",
              "        vertical-align: middle;\n",
              "    }\n",
              "\n",
              "    .dataframe tbody tr th {\n",
              "        vertical-align: top;\n",
              "    }\n",
              "\n",
              "    .dataframe thead th {\n",
              "        text-align: right;\n",
              "    }\n",
              "</style>\n",
              "<table border=\"1\" class=\"dataframe\">\n",
              "  <thead>\n",
              "    <tr style=\"text-align: right;\">\n",
              "      <th></th>\n",
              "      <th>ID</th>\n",
              "      <th>TITLE</th>\n",
              "      <th>URL</th>\n",
              "      <th>PUBLISHER</th>\n",
              "      <th>CATEGORY</th>\n",
              "      <th>STORY</th>\n",
              "      <th>HOSTNAME</th>\n",
              "      <th>TIMESTAMP</th>\n",
              "    </tr>\n",
              "  </thead>\n",
              "  <tbody>\n",
              "    <tr>\n",
              "      <th>0</th>\n",
              "      <td>1</td>\n",
              "      <td>Fed official says weak data caused by weather,...</td>\n",
              "      <td>http://www.latimes.com/business/money/la-fi-mo...</td>\n",
              "      <td>Los Angeles Times</td>\n",
              "      <td>b</td>\n",
              "      <td>ddUyU0VZz0BRneMioxUPQVP6sIxvM</td>\n",
              "      <td>www.latimes.com</td>\n",
              "      <td>1394470370698</td>\n",
              "    </tr>\n",
              "    <tr>\n",
              "      <th>1</th>\n",
              "      <td>2</td>\n",
              "      <td>Fed's Charles Plosser sees high bar for change...</td>\n",
              "      <td>http://www.livemint.com/Politics/H2EvwJSK2VE6O...</td>\n",
              "      <td>Livemint</td>\n",
              "      <td>b</td>\n",
              "      <td>ddUyU0VZz0BRneMioxUPQVP6sIxvM</td>\n",
              "      <td>www.livemint.com</td>\n",
              "      <td>1394470371207</td>\n",
              "    </tr>\n",
              "    <tr>\n",
              "      <th>2</th>\n",
              "      <td>3</td>\n",
              "      <td>US open: Stocks fall after Fed official hints ...</td>\n",
              "      <td>http://www.ifamagazine.com/news/us-open-stocks...</td>\n",
              "      <td>IFA Magazine</td>\n",
              "      <td>b</td>\n",
              "      <td>ddUyU0VZz0BRneMioxUPQVP6sIxvM</td>\n",
              "      <td>www.ifamagazine.com</td>\n",
              "      <td>1394470371550</td>\n",
              "    </tr>\n",
              "    <tr>\n",
              "      <th>3</th>\n",
              "      <td>4</td>\n",
              "      <td>Fed risks falling 'behind the curve', Charles ...</td>\n",
              "      <td>http://www.ifamagazine.com/news/fed-risks-fall...</td>\n",
              "      <td>IFA Magazine</td>\n",
              "      <td>b</td>\n",
              "      <td>ddUyU0VZz0BRneMioxUPQVP6sIxvM</td>\n",
              "      <td>www.ifamagazine.com</td>\n",
              "      <td>1394470371793</td>\n",
              "    </tr>\n",
              "    <tr>\n",
              "      <th>4</th>\n",
              "      <td>5</td>\n",
              "      <td>Fed's Plosser: Nasty Weather Has Curbed Job Gr...</td>\n",
              "      <td>http://www.moneynews.com/Economy/federal-reser...</td>\n",
              "      <td>Moneynews</td>\n",
              "      <td>b</td>\n",
              "      <td>ddUyU0VZz0BRneMioxUPQVP6sIxvM</td>\n",
              "      <td>www.moneynews.com</td>\n",
              "      <td>1394470372027</td>\n",
              "    </tr>\n",
              "  </tbody>\n",
              "</table>\n",
              "</div>"
            ],
            "text/plain": [
              "   ID                                              TITLE  \\\n",
              "0   1  Fed official says weak data caused by weather,...   \n",
              "1   2  Fed's Charles Plosser sees high bar for change...   \n",
              "2   3  US open: Stocks fall after Fed official hints ...   \n",
              "3   4  Fed risks falling 'behind the curve', Charles ...   \n",
              "4   5  Fed's Plosser: Nasty Weather Has Curbed Job Gr...   \n",
              "\n",
              "                                                 URL          PUBLISHER  \\\n",
              "0  http://www.latimes.com/business/money/la-fi-mo...  Los Angeles Times   \n",
              "1  http://www.livemint.com/Politics/H2EvwJSK2VE6O...           Livemint   \n",
              "2  http://www.ifamagazine.com/news/us-open-stocks...       IFA Magazine   \n",
              "3  http://www.ifamagazine.com/news/fed-risks-fall...       IFA Magazine   \n",
              "4  http://www.moneynews.com/Economy/federal-reser...          Moneynews   \n",
              "\n",
              "  CATEGORY                          STORY             HOSTNAME      TIMESTAMP  \n",
              "0        b  ddUyU0VZz0BRneMioxUPQVP6sIxvM      www.latimes.com  1394470370698  \n",
              "1        b  ddUyU0VZz0BRneMioxUPQVP6sIxvM     www.livemint.com  1394470371207  \n",
              "2        b  ddUyU0VZz0BRneMioxUPQVP6sIxvM  www.ifamagazine.com  1394470371550  \n",
              "3        b  ddUyU0VZz0BRneMioxUPQVP6sIxvM  www.ifamagazine.com  1394470371793  \n",
              "4        b  ddUyU0VZz0BRneMioxUPQVP6sIxvM    www.moneynews.com  1394470372027  "
            ]
          },
          "metadata": {
            "tags": []
          },
          "execution_count": 79
        }
      ]
    },
    {
      "cell_type": "code",
      "metadata": {
        "id": "L7SjwMq4wYfN",
        "colab_type": "code",
        "colab": {},
        "outputId": "46260709-599f-467e-b100-598f1d91862a"
      },
      "source": [
        "NewDataset['CATEGORY'].value_counts().plot(kind=\"bar\")\n",
        "plt.show()\n",
        "\n",
        "# train/test data split\n",
        "from sklearn.model_selection import train_test_split\n",
        "train, test = train_test_split(NewDataset, test_size=0.2)"
      ],
      "execution_count": 0,
      "outputs": [
        {
          "output_type": "display_data",
          "data": {
            "image/png": "[encoded data removed]",
            "text/plain": [
              "<Figure size 432x288 with 1 Axes>"
            ]
          },
          "metadata": {
            "tags": []
          }
        }
      ]
    },
    {
      "cell_type": "markdown",
      "metadata": {
        "id": "V6CCJ-HNwYfP",
        "colab_type": "text"
      },
      "source": [
        "### Fakeness impact based on the claim stance\n",
        "1. agree = 0 (If most of the claims agree with the news, the news is possibly not fake) \n",
        "2. disagree = 1 (If most of the claims disagree with the news, the news is possibly fake)\n",
        "3. discuss = 0.5 (If there is a lot of discussion happening around, the news may or may not be fake)\n",
        "4. unrealted = 1 (If the stances are mostly unrealted, the news will most likely be fake)\n",
        "#### Create a doc2vec model for the training dataset"
      ]
    },
    {
      "cell_type": "code",
      "metadata": {
        "id": "5x1fUzBxwYfQ",
        "colab_type": "code",
        "colab": {}
      },
      "source": [
        "#Import all the dependencies\n",
        "from gensim.models.doc2vec import Doc2Vec, TaggedDocument\n",
        "from nltk.tokenize import word_tokenize\n",
        "tagged_data = [TaggedDocument(words=word_tokenize(_d.lower()), tags=[str(i)]) for i, _d in enumerate(dataset_body2['articleBody'])]"
      ],
      "execution_count": 0,
      "outputs": []
    },
    {
      "cell_type": "code",
      "metadata": {
        "id": "29X_8AzZwYfS",
        "colab_type": "code",
        "colab": {},
        "outputId": "f0ed9b1d-362e-421e-c389-51be8bcc94f8"
      },
      "source": [
        "import nltk\n",
        "nltk.download('punkt')"
      ],
      "execution_count": 0,
      "outputs": [
        {
          "output_type": "stream",
          "text": [
            "[nltk_data] Downloading package punkt to\n",
            "[nltk_data]     C:\\Users\\viswanath.kambam\\AppData\\Roaming\\nltk_data...\n",
            "[nltk_data]   Package punkt is already up-to-date!\n"
          ],
          "name": "stderr"
        },
        {
          "output_type": "execute_result",
          "data": {
            "text/plain": [
              "True"
            ]
          },
          "metadata": {
            "tags": []
          },
          "execution_count": 81
        }
      ]
    },
    {
      "cell_type": "markdown",
      "metadata": {
        "id": "pG9fxaHvwYfU",
        "colab_type": "text"
      },
      "source": [
        "#### Iterations for the Model\n",
        "With the new datasource, we perform about 60 iterations to perfect the model."
      ]
    },
    {
      "cell_type": "code",
      "metadata": {
        "id": "1psotSwGwYfX",
        "colab_type": "code",
        "colab": {},
        "outputId": "8abe166a-bc6a-488f-8a94-99e47c4db468"
      },
      "source": [
        "max_epochs = 60\n",
        "vec_size = 20\n",
        "alpha = 0.025\n",
        "\n",
        "model = Doc2Vec(size=vec_size,\n",
        "                alpha=alpha, \n",
        "                min_alpha=0.00025,\n",
        "                min_count=1,\n",
        "                dm =0)\n",
        "  \n",
        "model.build_vocab(tagged_data)\n",
        "\n",
        "for epoch in range(max_epochs):\n",
        "    print('iteration {0}'.format(epoch))\n",
        "    model.train(tagged_data,total_examples=model.corpus_count,epochs=model.iter)\n",
        "    # decrease the learning rate\n",
        "    model.alpha -= 0.0002\n",
        "    # fix the learning rate, no decay\n",
        "    model.min_alpha = model.alpha\n",
        "\n",
        "model.save(\"d2v.model\")\n",
        "print(\"Model Saved\")"
      ],
      "execution_count": 0,
      "outputs": [
        {
          "output_type": "stream",
          "text": [
            "iteration 0\n",
            "iteration 1\n",
            "iteration 2\n",
            "iteration 3\n",
            "iteration 4\n",
            "iteration 5\n",
            "iteration 6\n",
            "iteration 7\n",
            "iteration 8\n",
            "iteration 9\n",
            "iteration 10\n",
            "iteration 11\n",
            "iteration 12\n",
            "iteration 13\n",
            "iteration 14\n",
            "iteration 15\n",
            "iteration 16\n",
            "iteration 17\n",
            "iteration 18\n",
            "iteration 19\n",
            "iteration 20\n",
            "iteration 21\n",
            "iteration 22\n",
            "iteration 23\n",
            "iteration 24\n",
            "iteration 25\n",
            "iteration 26\n",
            "iteration 27\n",
            "iteration 28\n",
            "iteration 29\n",
            "iteration 30\n",
            "iteration 31\n",
            "iteration 32\n",
            "iteration 33\n",
            "iteration 34\n",
            "iteration 35\n",
            "iteration 36\n",
            "iteration 37\n",
            "iteration 38\n",
            "iteration 39\n",
            "iteration 40\n",
            "iteration 41\n",
            "iteration 42\n",
            "iteration 43\n",
            "iteration 44\n",
            "iteration 45\n",
            "iteration 46\n",
            "iteration 47\n",
            "iteration 48\n",
            "iteration 49\n",
            "iteration 50\n",
            "iteration 51\n",
            "iteration 52\n",
            "iteration 53\n",
            "iteration 54\n",
            "iteration 55\n",
            "iteration 56\n",
            "iteration 57\n",
            "iteration 58\n",
            "iteration 59\n",
            "Model Saved\n"
          ],
          "name": "stdout"
        }
      ]
    },
    {
      "cell_type": "markdown",
      "metadata": {
        "id": "rkyWL2sHwYfZ",
        "colab_type": "text"
      },
      "source": [
        "#### Validation\n",
        "This fucntion will scrape the fakenewschallenge dataset to get claims for all the news articles present in new aggregator dataset.\n",
        "Once the relevant claims are found a new dataset will be returned which will have just the required details like news article and respective claims"
      ]
    },
    {
      "cell_type": "code",
      "metadata": {
        "id": "chyxw94IwYfZ",
        "colab_type": "code",
        "colab": {}
      },
      "source": [
        "#testing for a document\n",
        "from gensim.models.doc2vec import Doc2Vec\n",
        "def get_claims():\n",
        "    model= Doc2Vec.load(\"d2v.model\")\n",
        "    dataset_body2['index'] = dataset_body2.index\n",
        "    count=1\n",
        "    uci_news=0\n",
        "    fnc_news_body_index=0\n",
        "    for i in range(14204, 400000):\n",
        "        claim1=UCI_Aggregator['TITLE'][i]\n",
        "        claim1.lower()\n",
        "        new_test_data = word_tokenize(claim1.lower())\n",
        "        v2 = model.infer_vector(new_test_data)\n",
        "        similar_documents = model.docvecs.most_similar([v2], topn = 1)\n",
        "        myarray = np.asarray(similar_documents)\n",
        "        new_a=myarray.squeeze()\n",
        "        similarity_score=new_a[1]\n",
        "        article_id = new_a[0]\n",
        "        if float(similarity_score) > 0.95:\n",
        "            #print (\"{}\".format(count))\n",
        "            #print (\"At index {}, Claim - {}\".format(i, claim1))\n",
        "            uci_news = i\n",
        "            #print(\"** Similar news articles **\")\n",
        "            #print(dataset_body2.loc[dataset_body2['index'] == int(new_a[0]), 'articleBody'])\n",
        "            fnc_news_body_index = int(new_a[0])\n",
        "            count+=1\n",
        "    UCI_Aggregator['TITLE'][uci_news]\n",
        "    dataset_body2['articleBody'][fnc_news_body_index]\n",
        "    Body_ID = dataset_body2.loc[dataset_body2['index'] == fnc_news_body_index, 'Body ID']\n",
        "    new_df = dataset_stances2[dataset_stances2['Body ID'] == int(Body_ID)]\n",
        "    new_df2 = new_df.join(new_df['Stance'].str.get_dummies())\n",
        "    return new_df2"
      ],
      "execution_count": 0,
      "outputs": []
    },
    {
      "cell_type": "markdown",
      "metadata": {
        "id": "eToCxpScwYfa",
        "colab_type": "text"
      },
      "source": [
        "### Analyse the stances of all the claims from the new dataset"
      ]
    },
    {
      "cell_type": "code",
      "metadata": {
        "id": "StZRfFZZwYfb",
        "colab_type": "code",
        "colab": {}
      },
      "source": [
        "def stance_check():\n",
        "    df = get_claims()\n",
        "    arr=df['Stance'].value_counts().index\n",
        "    for i in arr:\n",
        "        if i == 'discuss':\n",
        "            Stance_check=0.5\n",
        "        elif i == 'agree':\n",
        "            Stance_check=0\n",
        "        elif i == 'disagree':\n",
        "            Stance_check=1\n",
        "        else:\n",
        "            Stance_check=1\n",
        "    return Stance_check\n",
        "#stance_check()"
      ],
      "execution_count": 0,
      "outputs": []
    },
    {
      "cell_type": "code",
      "metadata": {
        "id": "QfxIwNtZwYfc",
        "colab_type": "code",
        "colab": {},
        "outputId": "9cd8c4a3-28d0-4447-d638-4f795262110b"
      },
      "source": [
        "stance_check()"
      ],
      "execution_count": 0,
      "outputs": [
        {
          "output_type": "execute_result",
          "data": {
            "text/plain": [
              "0.5"
            ]
          },
          "metadata": {
            "tags": []
          },
          "execution_count": 86
        }
      ]
    }
  ]
}